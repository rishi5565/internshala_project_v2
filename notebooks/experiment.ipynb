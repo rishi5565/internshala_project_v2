{
 "cells": [
  {
   "cell_type": "code",
   "execution_count": 3,
   "metadata": {},
   "outputs": [],
   "source": [
    "import requests\n",
    "from bs4 import BeautifulSoup"
   ]
  },
  {
   "cell_type": "code",
   "execution_count": 25,
   "metadata": {},
   "outputs": [],
   "source": [
    "url = \"https://internshala.com/internships/work-from-home-data-science,machine-learning-internships/\""
   ]
  },
  {
   "cell_type": "code",
   "execution_count": 5,
   "metadata": {},
   "outputs": [],
   "source": [
    "req = requests.get(url)"
   ]
  },
  {
   "cell_type": "code",
   "execution_count": 9,
   "metadata": {},
   "outputs": [],
   "source": [
    "soup = BeautifulSoup(req.content, \"html.parser\")"
   ]
  },
  {
   "cell_type": "code",
   "execution_count": 18,
   "metadata": {},
   "outputs": [
    {
     "data": {
      "text/plain": [
       "2"
      ]
     },
     "execution_count": 18,
     "metadata": {},
     "output_type": "execute_result"
    }
   ],
   "source": [
    "total_pages = int(soup.find(id='total_pages').text.strip())\n",
    "total_pages"
   ]
  },
  {
   "cell_type": "code",
   "execution_count": 20,
   "metadata": {},
   "outputs": [
    {
     "data": {
      "text/plain": [
       "range(0, 2)"
      ]
     },
     "execution_count": 20,
     "metadata": {},
     "output_type": "execute_result"
    }
   ],
   "source": [
    "range(total_pages)"
   ]
  },
  {
   "cell_type": "code",
   "execution_count": 28,
   "metadata": {},
   "outputs": [
    {
     "name": "stdout",
     "output_type": "stream",
     "text": [
      "https://internshala.com/internships/work-from-home-data-science,machine-learning-internships/page-1/\n",
      "https://internshala.com/internships/work-from-home-data-science,machine-learning-internships/page-2/\n"
     ]
    }
   ],
   "source": [
    "for page in range(total_pages):\n",
    "    pg_url = url\n",
    "    pg_url += f\"page-{page+1}/\"\n",
    "    # print(pg_url)\n",
    "    req_pg = requests.get(pg_url)\n",
    "    soup = BeautifulSoup(req_pg.content, \"html.parser\")\n",
    "    "
   ]
  },
  {
   "cell_type": "code",
   "execution_count": 130,
   "metadata": {},
   "outputs": [],
   "source": [
    "pg_url = \"https://internshala.com/internships/work-from-home-data-science,machine-learning-internships/page-2/\"\n",
    "req_pg = requests.get(pg_url)\n",
    "soup = BeautifulSoup(req_pg.content, \"html.parser\")"
   ]
  },
  {
   "cell_type": "code",
   "execution_count": 131,
   "metadata": {},
   "outputs": [],
   "source": [
    "internships = soup.find_all(class_ = 'heading_4_5 profile')"
   ]
  },
  {
   "cell_type": "code",
   "execution_count": 132,
   "metadata": {},
   "outputs": [
    {
     "data": {
      "text/plain": [
       "'/internship/detail/artificial-intelligence-ai-python-development-work-from-home-job-internship-at-scure-infosec1655700102'"
      ]
     },
     "execution_count": 132,
     "metadata": {},
     "output_type": "execute_result"
    }
   ],
   "source": [
    "internships[2].find('a', href=True)[\"href\"]"
   ]
  },
  {
   "cell_type": "code",
   "execution_count": 165,
   "metadata": {},
   "outputs": [],
   "source": [
    "sub_url = 'https://internshala.com' + internships[2].find('a', href=True)[\"href\"]\n",
    "sub_url = \"https://internshala.com/internship/detail/market-research-analytics-internship-in-multiple-locations-at-justdial-limited1657168942\""
   ]
  },
  {
   "cell_type": "code",
   "execution_count": 166,
   "metadata": {},
   "outputs": [],
   "source": [
    "req_sub_pg = requests.get(sub_url)\n",
    "sub_soup = BeautifulSoup(req_sub_pg.content, \"html.parser\")"
   ]
  },
  {
   "cell_type": "code",
   "execution_count": 167,
   "metadata": {},
   "outputs": [
    {
     "data": {
      "text/plain": [
       "'Market Research (Analytics)'"
      ]
     },
     "execution_count": 167,
     "metadata": {},
     "output_type": "execute_result"
    }
   ],
   "source": [
    "sub_soup.find(class_ = 'profile_on_detail_page').text.strip()"
   ]
  },
  {
   "cell_type": "code",
   "execution_count": 168,
   "metadata": {},
   "outputs": [
    {
     "data": {
      "text/plain": [
       "'Justdial Limited'"
      ]
     },
     "execution_count": 168,
     "metadata": {},
     "output_type": "execute_result"
    }
   ],
   "source": [
    "sub_soup.find(class_ = 'heading_6 company_name').find('a').text.strip()"
   ]
  },
  {
   "cell_type": "code",
   "execution_count": 169,
   "metadata": {},
   "outputs": [
    {
     "data": {
      "text/plain": [
       "['Delhi', 'Bangalore', 'Mumbai']"
      ]
     },
     "execution_count": 169,
     "metadata": {},
     "output_type": "execute_result"
    }
   ],
   "source": [
    "[i.text.strip() for i in sub_soup.find_all(class_ = 'location_link')]"
   ]
  },
  {
   "cell_type": "code",
   "execution_count": null,
   "metadata": {},
   "outputs": [],
   "source": []
  },
  {
   "cell_type": "code",
   "execution_count": 170,
   "metadata": {},
   "outputs": [],
   "source": [
    "info = sub_soup.find(class_ = 'internship_other_details_container')\n",
    "other_details = info.find_all(class_ = 'item_body')"
   ]
  },
  {
   "cell_type": "code",
   "execution_count": 171,
   "metadata": {},
   "outputs": [
    {
     "data": {
      "text/plain": [
       "'2 Months'"
      ]
     },
     "execution_count": 171,
     "metadata": {},
     "output_type": "execute_result"
    }
   ],
   "source": [
    "other_details[1].text.strip()"
   ]
  },
  {
   "cell_type": "code",
   "execution_count": 172,
   "metadata": {},
   "outputs": [
    {
     "data": {
      "text/plain": [
       "'2000 /month +  Incentives'"
      ]
     },
     "execution_count": 172,
     "metadata": {},
     "output_type": "execute_result"
    }
   ],
   "source": [
    "other_details[2].text.strip()"
   ]
  },
  {
   "cell_type": "code",
   "execution_count": 173,
   "metadata": {},
   "outputs": [
    {
     "data": {
      "text/plain": [
       "\"21 Jul' 22\""
      ]
     },
     "execution_count": 173,
     "metadata": {},
     "output_type": "execute_result"
    }
   ],
   "source": [
    "other_details[3].text.strip() # apply by"
   ]
  },
  {
   "cell_type": "code",
   "execution_count": 174,
   "metadata": {},
   "outputs": [
    {
     "data": {
      "text/plain": [
       "'132 applicants'"
      ]
     },
     "execution_count": 174,
     "metadata": {},
     "output_type": "execute_result"
    }
   ],
   "source": [
    "sub_soup.find(class_ = 'applications_message').text.strip()"
   ]
  },
  {
   "cell_type": "code",
   "execution_count": 163,
   "metadata": {},
   "outputs": [],
   "source": [
    "skills_raw = sub_soup.find(class_ = 'heading_5_5',string = 'Skill(s) required')"
   ]
  },
  {
   "cell_type": "code",
   "execution_count": 58,
   "metadata": {},
   "outputs": [
    {
     "data": {
      "text/plain": [
       "[<span class=\"round_tabs\">Financial literacy</span>,\n",
       " <span class=\"round_tabs\">Labour laws</span>,\n",
       " <span class=\"round_tabs\">MS-Excel</span>,\n",
       " <span class=\"round_tabs\">MS-PowerPoint</span>]"
      ]
     },
     "execution_count": 58,
     "metadata": {},
     "output_type": "execute_result"
    }
   ],
   "source": [
    "skills_raw.find_all(class_ = 'round_tabs')"
   ]
  },
  {
   "cell_type": "code",
   "execution_count": 141,
   "metadata": {},
   "outputs": [
    {
     "data": {
      "text/plain": [
       "['Financial literacy', 'Labour laws', 'MS-Excel', 'MS-PowerPoint']"
      ]
     },
     "execution_count": 141,
     "metadata": {},
     "output_type": "execute_result"
    }
   ],
   "source": [
    "[i.text.strip() for i in skills_raw.find_all(class_ = 'round_tabs')]"
   ]
  },
  {
   "cell_type": "code",
   "execution_count": 61,
   "metadata": {},
   "outputs": [
    {
     "data": {
      "text/plain": [
       "['Certificate', 'Letter of recommendation', 'Job offer']"
      ]
     },
     "execution_count": 61,
     "metadata": {},
     "output_type": "execute_result"
    }
   ],
   "source": [
    "perks_raw = sub_soup.find(class_ = 'heading_5_5',string = 'Perks')\n",
    "perks_raw = perks_raw.findNext(class_ = 'round_tabs_container')\n",
    "[i.text.strip() for i in perks_raw.find_all(class_ = 'round_tabs')]"
   ]
  },
  {
   "cell_type": "code",
   "execution_count": 63,
   "metadata": {},
   "outputs": [
    {
     "data": {
      "text/plain": [
       "'4'"
      ]
     },
     "execution_count": 63,
     "metadata": {},
     "output_type": "execute_result"
    }
   ],
   "source": [
    "sub_soup.find_all(class_='text-container')[-1].text.strip()"
   ]
  },
  {
   "cell_type": "code",
   "execution_count": 64,
   "metadata": {},
   "outputs": [
    {
     "data": {
      "text/plain": [
       "'https://internshala.com/internships/work-from-home-data-science,machine-learning-internships/'"
      ]
     },
     "execution_count": 64,
     "metadata": {},
     "output_type": "execute_result"
    }
   ],
   "source": [
    "url"
   ]
  },
  {
   "cell_type": "code",
   "execution_count": 86,
   "metadata": {},
   "outputs": [],
   "source": [
    "def transform_categories(category_list):\n",
    "    final_params = []\n",
    "    for category in category_list:\n",
    "        category = category.strip().lower()\n",
    "        category = category.replace(' ','-')\n",
    "        final_params.append(category)\n",
    "    final_params = ','.join(final_params)\n",
    "    final_params+='-internship'\n",
    "    return final_params"
   ]
  },
  {
   "cell_type": "code",
   "execution_count": 87,
   "metadata": {},
   "outputs": [
    {
     "data": {
      "text/plain": [
       "'data-science,artificial-intelligence-(ai)-internship'"
      ]
     },
     "execution_count": 87,
     "metadata": {},
     "output_type": "execute_result"
    }
   ],
   "source": [
    "transform_categories(['Data Science', 'Artificial Intelligence (AI)'])\n",
    "# "
   ]
  },
  {
   "cell_type": "code",
   "execution_count": 75,
   "metadata": {},
   "outputs": [
    {
     "data": {
      "text/plain": [
       "['Data Science', ' Machine Learning']"
      ]
     },
     "execution_count": 75,
     "metadata": {},
     "output_type": "execute_result"
    }
   ],
   "source": [
    "list(map(str,input(\"Enter different categories separated by commas* (Required)\\n\").split(',')))"
   ]
  },
  {
   "cell_type": "code",
   "execution_count": 96,
   "metadata": {},
   "outputs": [],
   "source": [
    "def transform_locations(location_list):\n",
    "    final_params = []\n",
    "    for location in location_list:\n",
    "        location = location.strip().lower()\n",
    "        location = location.replace(' ','-')\n",
    "        final_params.append(location)\n",
    "    final_params = ','.join(final_params)\n",
    "    final_params ='-in-'+final_params\n",
    "\n",
    "    return final_params"
   ]
  },
  {
   "cell_type": "code",
   "execution_count": 97,
   "metadata": {},
   "outputs": [
    {
     "data": {
      "text/plain": [
       "'-in-delhi,mumbai'"
      ]
     },
     "execution_count": 97,
     "metadata": {},
     "output_type": "execute_result"
    }
   ],
   "source": [
    "transform_locations([\"Delhi\", \"Mumbai\"])"
   ]
  },
  {
   "cell_type": "code",
   "execution_count": 98,
   "metadata": {},
   "outputs": [],
   "source": [
    "base_url = \"https://internshala.com/internships/\""
   ]
  },
  {
   "cell_type": "code",
   "execution_count": 142,
   "metadata": {},
   "outputs": [],
   "source": [
    "input = {\n",
    "    \"category\": [\"Machine Learning\"],\n",
    "    \"wfh\": \"yes\",\n",
    "    \"location\": []\n",
    "}"
   ]
  },
  {
   "cell_type": "code",
   "execution_count": 143,
   "metadata": {},
   "outputs": [],
   "source": [
    "import pandas as pd\n",
    "df = pd.DataFrame()"
   ]
  },
  {
   "cell_type": "code",
   "execution_count": 178,
   "metadata": {},
   "outputs": [],
   "source": [
    "df = pd.concat([df, pd.DataFrame([input])], ignore_index=True)"
   ]
  },
  {
   "cell_type": "code",
   "execution_count": 179,
   "metadata": {},
   "outputs": [
    {
     "data": {
      "text/html": [
       "<div>\n",
       "<style scoped>\n",
       "    .dataframe tbody tr th:only-of-type {\n",
       "        vertical-align: middle;\n",
       "    }\n",
       "\n",
       "    .dataframe tbody tr th {\n",
       "        vertical-align: top;\n",
       "    }\n",
       "\n",
       "    .dataframe thead th {\n",
       "        text-align: right;\n",
       "    }\n",
       "</style>\n",
       "<table border=\"1\" class=\"dataframe\">\n",
       "  <thead>\n",
       "    <tr style=\"text-align: right;\">\n",
       "      <th></th>\n",
       "      <th>category</th>\n",
       "      <th>wfh</th>\n",
       "      <th>location</th>\n",
       "    </tr>\n",
       "  </thead>\n",
       "  <tbody>\n",
       "    <tr>\n",
       "      <th>0</th>\n",
       "      <td>[Data Science, Machine Learning]</td>\n",
       "      <td>yes</td>\n",
       "      <td>[Bangalore, Delhi]</td>\n",
       "    </tr>\n",
       "    <tr>\n",
       "      <th>1</th>\n",
       "      <td>[Data Science, Machine Learning]</td>\n",
       "      <td>yes</td>\n",
       "      <td>[Bangalore, Delhi]</td>\n",
       "    </tr>\n",
       "  </tbody>\n",
       "</table>\n",
       "</div>"
      ],
      "text/plain": [
       "                           category  wfh            location\n",
       "0  [Data Science, Machine Learning]  yes  [Bangalore, Delhi]\n",
       "1  [Data Science, Machine Learning]  yes  [Bangalore, Delhi]"
      ]
     },
     "execution_count": 179,
     "metadata": {},
     "output_type": "execute_result"
    }
   ],
   "source": [
    "df"
   ]
  },
  {
   "cell_type": "code",
   "execution_count": 12,
   "metadata": {},
   "outputs": [],
   "source": [
    "import os\n",
    "import sys\n",
    "sys.path.insert(0, os.path.abspath(os.path.join(os.path.dirname(\"notebooks\"), '..')))\n",
    "from src.web_scraper.scraper_functions import format_categories, format_locations"
   ]
  },
  {
   "cell_type": "code",
   "execution_count": 40,
   "metadata": {},
   "outputs": [],
   "source": [
    "# from scraper_functions import format_categories, format_locations\n",
    "import requests\n",
    "from bs4 import BeautifulSoup\n",
    "import pandas as pd\n",
    "from tqdm import tqdm\n",
    "\n",
    "class TooManyPages(Exception):\n",
    "    def __init__(self, message=\"Please narrow search with filters, too many pages!\"):\n",
    "        self.message = message\n",
    "        super().__init__(self.message)\n",
    "\n",
    "\n",
    "def scraper(args_dict):\n",
    "\n",
    "    base_url = \"https://internshala.com/internships/\"\n",
    "    cat = args_dict[\"category\"]\n",
    "    wfh = args_dict[\"wfh\"]\n",
    "    loc = args_dict[\"location\"]\n",
    "\n",
    "    if wfh == \"yes\":\n",
    "        base_url += \"work-from-home-\"\n",
    "        wfh_status = True\n",
    "        base_url += format_categories(cat, wfh_status)\n",
    "    elif wfh == \"no\":\n",
    "        wfh_status = False\n",
    "        base_url += format_categories(cat, wfh_status)\n",
    "\n",
    "    if len(loc) > 0:\n",
    "        base_url += format_locations(loc)\n",
    "\n",
    "    # base_url = \"https://internshala.com/internships/data-science-internship-in-bangalore,delhi/early-applicant-25/\"\n",
    "    print(base_url)\n",
    "    req = requests.get(base_url)\n",
    "    soup = BeautifulSoup(req.content, \"html.parser\")\n",
    "    total_pages = int(soup.find(id='total_pages').text.strip())\n",
    "\n",
    "    if total_pages > 15:\n",
    "        raise TooManyPages\n",
    "    \n",
    "    else:\n",
    "\n",
    "        main_df = pd.DataFrame()\n",
    "\n",
    "        for page in range(total_pages):\n",
    "            pg_url = base_url\n",
    "            pg_url += f\"/page-{page+1}/\"\n",
    "            # print(pg_url)\n",
    "            req_pg = requests.get(pg_url)\n",
    "            soup = BeautifulSoup(req_pg.content, \"html.parser\")\n",
    "            internships = soup.find_all(class_ = 'heading_4_5 profile')\n",
    "            for internship in tqdm(internships):\n",
    "                sub_info = {}\n",
    "                sub_url = \"https://internshala.com\"\n",
    "                sub_url += internship.find('a', href=True)[\"href\"]\n",
    "                req_sub_pg = requests.get(sub_url)\n",
    "                sub_soup = BeautifulSoup(req_sub_pg.content, \"html.parser\")\n",
    "                sub_info[\"title\"] = sub_soup.find(class_ = 'profile_on_detail_page').text.strip()\n",
    "                sub_info[\"company\"] = sub_soup.find(class_ = 'heading_6 company_name').find('a').text.strip()\n",
    "                sub_info[\"location\"] = [i.text.strip() for i in sub_soup.find_all(class_ = 'location_link')]\n",
    "                info = sub_soup.find(class_ = 'internship_other_details_container')\n",
    "                other_details = info.find_all(class_ = 'item_body')\n",
    "                sub_info[\"duration\"] = other_details[1].text.strip()\n",
    "                sub_info[\"stipend\"] = other_details[2].text.strip()\n",
    "                sub_info[\"apply_by\"] = other_details[3].text.strip()\n",
    "                sub_info[\"applicants\"] = sub_soup.find(class_ = 'applications_message').text.strip()\n",
    "                skills_raw = sub_soup.find(class_ = 'heading_5_5',string = 'Skill(s) required')\n",
    "                try:\n",
    "                    skills_raw = skills_raw.findNext(class_ = 'round_tabs_container')\n",
    "                    skills_raw.find_all(class_ = 'round_tabs')\n",
    "                    sub_info[\"skills\"] = [i.text.strip() for i in skills_raw.find_all(class_ = 'round_tabs')]\n",
    "                except(AttributeError):\n",
    "                    sub_info[\"skills\"] = []\n",
    "                try:\n",
    "                    perks_raw = sub_soup.find(class_ = 'heading_5_5',string = 'Perks')\n",
    "                    perks_raw = perks_raw.findNext(class_ = 'round_tabs_container')\n",
    "                    sub_info[\"perks\"] = [i.text.strip() for i in perks_raw.find_all(class_ = 'round_tabs')]\n",
    "                except(AttributeError):\n",
    "                    sub_info[\"perks\"] = []\n",
    "                sub_info[\"openings\"] = sub_soup.find_all(class_='text-container')[-1].text.strip()\n",
    "                sub_info[\"url\"] = sub_url\n",
    "                sub_df = pd.DataFrame([sub_info])\n",
    "                main_df = pd.concat([main_df, sub_df], ignore_index=True)\n",
    "\n",
    "        return main_df.to_csv(\"raw_scraped.csv\", index=False)\n",
    "\n",
    "# scraper({\n",
    "#     \"category\": [\"Machine Learning\"],\n",
    "#     \"wfh\": \"yes\",\n",
    "#     \"location\": []\n",
    "# })"
   ]
  },
  {
   "cell_type": "code",
   "execution_count": 49,
   "metadata": {},
   "outputs": [
    {
     "name": "stdout",
     "output_type": "stream",
     "text": [
      "https://internshala.com/internships/work-from-home-data-science,web-development-internships-in-bangalore\n"
     ]
    },
    {
     "name": "stderr",
     "output_type": "stream",
     "text": [
      "100%|██████████| 40/40 [00:26<00:00,  1.52it/s]\n",
      "100%|██████████| 40/40 [00:26<00:00,  1.52it/s]\n",
      "100%|██████████| 40/40 [00:26<00:00,  1.48it/s]\n",
      "100%|██████████| 40/40 [00:27<00:00,  1.48it/s]\n",
      "100%|██████████| 40/40 [00:26<00:00,  1.50it/s]\n",
      "100%|██████████| 40/40 [00:26<00:00,  1.48it/s]\n",
      "100%|██████████| 40/40 [00:28<00:00,  1.42it/s]\n",
      "100%|██████████| 40/40 [00:27<00:00,  1.45it/s]\n",
      "100%|██████████| 40/40 [00:28<00:00,  1.39it/s]\n",
      "100%|██████████| 40/40 [00:26<00:00,  1.51it/s]\n",
      "100%|██████████| 40/40 [00:25<00:00,  1.57it/s]\n",
      "100%|██████████| 40/40 [00:25<00:00,  1.54it/s]\n",
      "100%|██████████| 40/40 [00:27<00:00,  1.47it/s]\n",
      "100%|██████████| 25/25 [00:16<00:00,  1.49it/s]\n"
     ]
    }
   ],
   "source": [
    "args_dict = {\n",
    "    \"category\": [\"data science\", \"web development\"],\n",
    "    \"wfh\": \"yes\",\n",
    "    \"location\": [\"bangalore\"]\n",
    "}\n",
    "scraper(args_dict)"
   ]
  },
  {
   "cell_type": "code",
   "execution_count": 255,
   "metadata": {},
   "outputs": [
    {
     "data": {
      "text/html": [
       "<div>\n",
       "<style scoped>\n",
       "    .dataframe tbody tr th:only-of-type {\n",
       "        vertical-align: middle;\n",
       "    }\n",
       "\n",
       "    .dataframe tbody tr th {\n",
       "        vertical-align: top;\n",
       "    }\n",
       "\n",
       "    .dataframe thead th {\n",
       "        text-align: right;\n",
       "    }\n",
       "</style>\n",
       "<table border=\"1\" class=\"dataframe\">\n",
       "  <thead>\n",
       "    <tr style=\"text-align: right;\">\n",
       "      <th></th>\n",
       "      <th>title</th>\n",
       "      <th>company</th>\n",
       "      <th>location</th>\n",
       "      <th>duration</th>\n",
       "      <th>stipend</th>\n",
       "      <th>apply_by</th>\n",
       "      <th>applicants</th>\n",
       "      <th>skills</th>\n",
       "      <th>perks</th>\n",
       "      <th>openings</th>\n",
       "      <th>url</th>\n",
       "    </tr>\n",
       "  </thead>\n",
       "  <tbody>\n",
       "    <tr>\n",
       "      <th>0</th>\n",
       "      <td>Market Research (Analytics)</td>\n",
       "      <td>Justdial Limited</td>\n",
       "      <td>['Delhi', 'Bangalore', 'Mumbai']</td>\n",
       "      <td>2 Months</td>\n",
       "      <td>2000 /month +  Incentives</td>\n",
       "      <td>21 Jul' 22</td>\n",
       "      <td>132 applicants</td>\n",
       "      <td>['MS-Excel', 'MS-Office', 'MS-PowerPoint', 'Re...</td>\n",
       "      <td>['Certificate', 'Flexible work hours']</td>\n",
       "      <td>5</td>\n",
       "      <td>https://internshala.com/internship/detail/mark...</td>\n",
       "    </tr>\n",
       "    <tr>\n",
       "      <th>1</th>\n",
       "      <td>Web Development</td>\n",
       "      <td>IIT Bombay</td>\n",
       "      <td>['Work From Home']</td>\n",
       "      <td>6 Months</td>\n",
       "      <td>2000-5000 /month</td>\n",
       "      <td>20 Jul' 22</td>\n",
       "      <td>187 applicants</td>\n",
       "      <td>['Django', 'MongoDB']</td>\n",
       "      <td>['Certificate', 'Letter of recommendation', 'F...</td>\n",
       "      <td>2</td>\n",
       "      <td>https://internshala.com/internship/detail/web-...</td>\n",
       "    </tr>\n",
       "    <tr>\n",
       "      <th>2</th>\n",
       "      <td>WordPress Development</td>\n",
       "      <td>NoBroker Technologies Solutions Private Limited</td>\n",
       "      <td>['Bangalore']</td>\n",
       "      <td>3 Months</td>\n",
       "      <td>8000 /month</td>\n",
       "      <td>19 Jul' 22</td>\n",
       "      <td>47 applicants</td>\n",
       "      <td>['CSS', 'HTML', 'Java', 'JavaFX', 'JavaScript'...</td>\n",
       "      <td>['Certificate', 'Letter of recommendation', 'F...</td>\n",
       "      <td>4</td>\n",
       "      <td>https://internshala.com/internship/detail/word...</td>\n",
       "    </tr>\n",
       "    <tr>\n",
       "      <th>3</th>\n",
       "      <td>WordPress Web Development</td>\n",
       "      <td>Mechatron Robotics</td>\n",
       "      <td>['Work From Home']</td>\n",
       "      <td>6 Months</td>\n",
       "      <td>5000 /month</td>\n",
       "      <td>26 Jul' 22</td>\n",
       "      <td>Be an early applicant</td>\n",
       "      <td>['WordPress']</td>\n",
       "      <td>['Certificate', 'Letter of recommendation']</td>\n",
       "      <td>2</td>\n",
       "      <td>https://internshala.com/internship/detail/word...</td>\n",
       "    </tr>\n",
       "    <tr>\n",
       "      <th>4</th>\n",
       "      <td>WordPress Development</td>\n",
       "      <td>Akeshya</td>\n",
       "      <td>['Work From Home']</td>\n",
       "      <td>3 Months</td>\n",
       "      <td>4000 /month +  Incentives</td>\n",
       "      <td>26 Jul' 22</td>\n",
       "      <td>66 applicants</td>\n",
       "      <td>['CSS', 'HTML', 'WordPress']</td>\n",
       "      <td>['Certificate', 'Letter of recommendation', 'F...</td>\n",
       "      <td>4</td>\n",
       "      <td>https://internshala.com/internship/detail/word...</td>\n",
       "    </tr>\n",
       "  </tbody>\n",
       "</table>\n",
       "</div>"
      ],
      "text/plain": [
       "                         title  \\\n",
       "0  Market Research (Analytics)   \n",
       "1              Web Development   \n",
       "2        WordPress Development   \n",
       "3    WordPress Web Development   \n",
       "4        WordPress Development   \n",
       "\n",
       "                                           company  \\\n",
       "0                                 Justdial Limited   \n",
       "1                                       IIT Bombay   \n",
       "2  NoBroker Technologies Solutions Private Limited   \n",
       "3                               Mechatron Robotics   \n",
       "4                                          Akeshya   \n",
       "\n",
       "                           location  duration                    stipend  \\\n",
       "0  ['Delhi', 'Bangalore', 'Mumbai']  2 Months  2000 /month +  Incentives   \n",
       "1                ['Work From Home']  6 Months           2000-5000 /month   \n",
       "2                     ['Bangalore']  3 Months                8000 /month   \n",
       "3                ['Work From Home']  6 Months                5000 /month   \n",
       "4                ['Work From Home']  3 Months  4000 /month +  Incentives   \n",
       "\n",
       "     apply_by             applicants  \\\n",
       "0  21 Jul' 22         132 applicants   \n",
       "1  20 Jul' 22         187 applicants   \n",
       "2  19 Jul' 22          47 applicants   \n",
       "3  26 Jul' 22  Be an early applicant   \n",
       "4  26 Jul' 22          66 applicants   \n",
       "\n",
       "                                              skills  \\\n",
       "0  ['MS-Excel', 'MS-Office', 'MS-PowerPoint', 'Re...   \n",
       "1                              ['Django', 'MongoDB']   \n",
       "2  ['CSS', 'HTML', 'Java', 'JavaFX', 'JavaScript'...   \n",
       "3                                      ['WordPress']   \n",
       "4                       ['CSS', 'HTML', 'WordPress']   \n",
       "\n",
       "                                               perks  openings  \\\n",
       "0             ['Certificate', 'Flexible work hours']         5   \n",
       "1  ['Certificate', 'Letter of recommendation', 'F...         2   \n",
       "2  ['Certificate', 'Letter of recommendation', 'F...         4   \n",
       "3        ['Certificate', 'Letter of recommendation']         2   \n",
       "4  ['Certificate', 'Letter of recommendation', 'F...         4   \n",
       "\n",
       "                                                 url  \n",
       "0  https://internshala.com/internship/detail/mark...  \n",
       "1  https://internshala.com/internship/detail/web-...  \n",
       "2  https://internshala.com/internship/detail/word...  \n",
       "3  https://internshala.com/internship/detail/word...  \n",
       "4  https://internshala.com/internship/detail/word...  "
      ]
     },
     "execution_count": 255,
     "metadata": {},
     "output_type": "execute_result"
    }
   ],
   "source": [
    "df = pd.read_csv(\"../data/raw/raw_scraped.csv\")\n",
    "df.head()"
   ]
  },
  {
   "cell_type": "code",
   "execution_count": 196,
   "metadata": {},
   "outputs": [],
   "source": [
    "df.loc[0, \"duration\"] = \"2 weeks\""
   ]
  },
  {
   "cell_type": "code",
   "execution_count": 210,
   "metadata": {},
   "outputs": [],
   "source": [
    "df[\"duration\"] = df[\"duration\"].str.replace(\"Months\", \"\")\n",
    "df[\"duration\"] = df[\"duration\"].str.replace(\"Month\", \"\")\n",
    "df[\"duration\"] = df[\"duration\"].apply(lambda x: float(x.strip()) if x.strip().isnumeric() else np.NaN)\n",
    "# duration fixed, failing cols remove while validation only"
   ]
  },
  {
   "cell_type": "code",
   "execution_count": 256,
   "metadata": {},
   "outputs": [
    {
     "data": {
      "text/html": [
       "<div>\n",
       "<style scoped>\n",
       "    .dataframe tbody tr th:only-of-type {\n",
       "        vertical-align: middle;\n",
       "    }\n",
       "\n",
       "    .dataframe tbody tr th {\n",
       "        vertical-align: top;\n",
       "    }\n",
       "\n",
       "    .dataframe thead th {\n",
       "        text-align: right;\n",
       "    }\n",
       "</style>\n",
       "<table border=\"1\" class=\"dataframe\">\n",
       "  <thead>\n",
       "    <tr style=\"text-align: right;\">\n",
       "      <th></th>\n",
       "      <th>title</th>\n",
       "      <th>company</th>\n",
       "      <th>location</th>\n",
       "      <th>duration</th>\n",
       "      <th>stipend</th>\n",
       "      <th>apply_by</th>\n",
       "      <th>applicants</th>\n",
       "      <th>skills</th>\n",
       "      <th>perks</th>\n",
       "      <th>openings</th>\n",
       "      <th>url</th>\n",
       "    </tr>\n",
       "  </thead>\n",
       "  <tbody>\n",
       "    <tr>\n",
       "      <th>0</th>\n",
       "      <td>Market Research (Analytics)</td>\n",
       "      <td>Justdial Limited</td>\n",
       "      <td>['Delhi', 'Bangalore', 'Mumbai']</td>\n",
       "      <td>2 Months</td>\n",
       "      <td>2000 /month +  Incentives</td>\n",
       "      <td>21 Jul' 22</td>\n",
       "      <td>132 applicants</td>\n",
       "      <td>['MS-Excel', 'MS-Office', 'MS-PowerPoint', 'Re...</td>\n",
       "      <td>['Certificate', 'Flexible work hours']</td>\n",
       "      <td>5</td>\n",
       "      <td>https://internshala.com/internship/detail/mark...</td>\n",
       "    </tr>\n",
       "    <tr>\n",
       "      <th>1</th>\n",
       "      <td>Web Development</td>\n",
       "      <td>IIT Bombay</td>\n",
       "      <td>['Work From Home']</td>\n",
       "      <td>6 Months</td>\n",
       "      <td>2000-5000 /month</td>\n",
       "      <td>20 Jul' 22</td>\n",
       "      <td>187 applicants</td>\n",
       "      <td>['Django', 'MongoDB']</td>\n",
       "      <td>['Certificate', 'Letter of recommendation', 'F...</td>\n",
       "      <td>2</td>\n",
       "      <td>https://internshala.com/internship/detail/web-...</td>\n",
       "    </tr>\n",
       "    <tr>\n",
       "      <th>2</th>\n",
       "      <td>WordPress Development</td>\n",
       "      <td>NoBroker Technologies Solutions Private Limited</td>\n",
       "      <td>['Bangalore']</td>\n",
       "      <td>3 Months</td>\n",
       "      <td>8000 /month</td>\n",
       "      <td>19 Jul' 22</td>\n",
       "      <td>47 applicants</td>\n",
       "      <td>['CSS', 'HTML', 'Java', 'JavaFX', 'JavaScript'...</td>\n",
       "      <td>['Certificate', 'Letter of recommendation', 'F...</td>\n",
       "      <td>4</td>\n",
       "      <td>https://internshala.com/internship/detail/word...</td>\n",
       "    </tr>\n",
       "    <tr>\n",
       "      <th>3</th>\n",
       "      <td>WordPress Web Development</td>\n",
       "      <td>Mechatron Robotics</td>\n",
       "      <td>['Work From Home']</td>\n",
       "      <td>6 Months</td>\n",
       "      <td>5000 /month</td>\n",
       "      <td>26 Jul' 22</td>\n",
       "      <td>Be an early applicant</td>\n",
       "      <td>['WordPress']</td>\n",
       "      <td>['Certificate', 'Letter of recommendation']</td>\n",
       "      <td>2</td>\n",
       "      <td>https://internshala.com/internship/detail/word...</td>\n",
       "    </tr>\n",
       "    <tr>\n",
       "      <th>4</th>\n",
       "      <td>WordPress Development</td>\n",
       "      <td>Akeshya</td>\n",
       "      <td>['Work From Home']</td>\n",
       "      <td>3 Months</td>\n",
       "      <td>4000 /month +  Incentives</td>\n",
       "      <td>26 Jul' 22</td>\n",
       "      <td>66 applicants</td>\n",
       "      <td>['CSS', 'HTML', 'WordPress']</td>\n",
       "      <td>['Certificate', 'Letter of recommendation', 'F...</td>\n",
       "      <td>4</td>\n",
       "      <td>https://internshala.com/internship/detail/word...</td>\n",
       "    </tr>\n",
       "    <tr>\n",
       "      <th>...</th>\n",
       "      <td>...</td>\n",
       "      <td>...</td>\n",
       "      <td>...</td>\n",
       "      <td>...</td>\n",
       "      <td>...</td>\n",
       "      <td>...</td>\n",
       "      <td>...</td>\n",
       "      <td>...</td>\n",
       "      <td>...</td>\n",
       "      <td>...</td>\n",
       "      <td>...</td>\n",
       "    </tr>\n",
       "    <tr>\n",
       "      <th>540</th>\n",
       "      <td>Backend Development</td>\n",
       "      <td>Cognitio Eduventures Private Limited</td>\n",
       "      <td>['Work From Home']</td>\n",
       "      <td>4 Months</td>\n",
       "      <td>15000-20000 /month</td>\n",
       "      <td>20 Jul' 22</td>\n",
       "      <td>290 applicants</td>\n",
       "      <td>['Amazon Web Server (AWS)', 'Apache Cassandra'...</td>\n",
       "      <td>['Certificate', 'Letter of recommendation', 'F...</td>\n",
       "      <td>3</td>\n",
       "      <td>https://internshala.com/internship/detail/back...</td>\n",
       "    </tr>\n",
       "    <tr>\n",
       "      <th>541</th>\n",
       "      <td>Quantitative Research</td>\n",
       "      <td>AR Quants</td>\n",
       "      <td>['Work From Home']</td>\n",
       "      <td>3 Months</td>\n",
       "      <td>1000 /month</td>\n",
       "      <td>15 Jul' 22</td>\n",
       "      <td>78 applicants</td>\n",
       "      <td>['C++ Programming', 'Data Structures', 'Invest...</td>\n",
       "      <td>[]</td>\n",
       "      <td>5</td>\n",
       "      <td>https://internshala.com/internship/detail/quan...</td>\n",
       "    </tr>\n",
       "    <tr>\n",
       "      <th>542</th>\n",
       "      <td>Backend Developement</td>\n",
       "      <td>Messold Technologies</td>\n",
       "      <td>['Work From Home']</td>\n",
       "      <td>6 Months</td>\n",
       "      <td>6000-15000 /month</td>\n",
       "      <td>19 Jul' 22</td>\n",
       "      <td>1000+ applicants</td>\n",
       "      <td>['Bootstrap', 'CSS', 'HTML', 'JavaScript', 'jQ...</td>\n",
       "      <td>['Certificate', 'Letter of recommendation', '5...</td>\n",
       "      <td>4</td>\n",
       "      <td>https://internshala.com/internship/detail/back...</td>\n",
       "    </tr>\n",
       "    <tr>\n",
       "      <th>543</th>\n",
       "      <td>Front End Development (Shopify Website (Liquid))</td>\n",
       "      <td>Messold Technologies</td>\n",
       "      <td>['Work From Home']</td>\n",
       "      <td>6 Months</td>\n",
       "      <td>6000-15000 /month</td>\n",
       "      <td>19 Jul' 22</td>\n",
       "      <td>1000+ applicants</td>\n",
       "      <td>['CSS', 'HTML', 'JavaScript', 'jQuery']</td>\n",
       "      <td>['Certificate', 'Letter of recommendation', '5...</td>\n",
       "      <td>2</td>\n",
       "      <td>https://internshala.com/internship/detail/fron...</td>\n",
       "    </tr>\n",
       "    <tr>\n",
       "      <th>544</th>\n",
       "      <td>Web Development</td>\n",
       "      <td>Innowyze Global Solutions</td>\n",
       "      <td>['Work From Home']</td>\n",
       "      <td>6 Months</td>\n",
       "      <td>10000 /month</td>\n",
       "      <td>17 Jul' 22</td>\n",
       "      <td>461 applicants</td>\n",
       "      <td>['CSS', 'Express.js', 'HTML', 'JavaScript', 'N...</td>\n",
       "      <td>['Certificate']</td>\n",
       "      <td>5</td>\n",
       "      <td>https://internshala.com/internship/detail/web-...</td>\n",
       "    </tr>\n",
       "  </tbody>\n",
       "</table>\n",
       "<p>545 rows × 11 columns</p>\n",
       "</div>"
      ],
      "text/plain": [
       "                                                title  \\\n",
       "0                         Market Research (Analytics)   \n",
       "1                                     Web Development   \n",
       "2                               WordPress Development   \n",
       "3                           WordPress Web Development   \n",
       "4                               WordPress Development   \n",
       "..                                                ...   \n",
       "540                               Backend Development   \n",
       "541                             Quantitative Research   \n",
       "542                              Backend Developement   \n",
       "543  Front End Development (Shopify Website (Liquid))   \n",
       "544                                   Web Development   \n",
       "\n",
       "                                             company  \\\n",
       "0                                   Justdial Limited   \n",
       "1                                         IIT Bombay   \n",
       "2    NoBroker Technologies Solutions Private Limited   \n",
       "3                                 Mechatron Robotics   \n",
       "4                                            Akeshya   \n",
       "..                                               ...   \n",
       "540             Cognitio Eduventures Private Limited   \n",
       "541                                        AR Quants   \n",
       "542                             Messold Technologies   \n",
       "543                             Messold Technologies   \n",
       "544                        Innowyze Global Solutions   \n",
       "\n",
       "                             location  duration                    stipend  \\\n",
       "0    ['Delhi', 'Bangalore', 'Mumbai']  2 Months  2000 /month +  Incentives   \n",
       "1                  ['Work From Home']  6 Months           2000-5000 /month   \n",
       "2                       ['Bangalore']  3 Months                8000 /month   \n",
       "3                  ['Work From Home']  6 Months                5000 /month   \n",
       "4                  ['Work From Home']  3 Months  4000 /month +  Incentives   \n",
       "..                                ...       ...                        ...   \n",
       "540                ['Work From Home']  4 Months         15000-20000 /month   \n",
       "541                ['Work From Home']  3 Months                1000 /month   \n",
       "542                ['Work From Home']  6 Months          6000-15000 /month   \n",
       "543                ['Work From Home']  6 Months          6000-15000 /month   \n",
       "544                ['Work From Home']  6 Months               10000 /month   \n",
       "\n",
       "       apply_by             applicants  \\\n",
       "0    21 Jul' 22         132 applicants   \n",
       "1    20 Jul' 22         187 applicants   \n",
       "2    19 Jul' 22          47 applicants   \n",
       "3    26 Jul' 22  Be an early applicant   \n",
       "4    26 Jul' 22          66 applicants   \n",
       "..          ...                    ...   \n",
       "540  20 Jul' 22         290 applicants   \n",
       "541  15 Jul' 22          78 applicants   \n",
       "542  19 Jul' 22       1000+ applicants   \n",
       "543  19 Jul' 22       1000+ applicants   \n",
       "544  17 Jul' 22         461 applicants   \n",
       "\n",
       "                                                skills  \\\n",
       "0    ['MS-Excel', 'MS-Office', 'MS-PowerPoint', 'Re...   \n",
       "1                                ['Django', 'MongoDB']   \n",
       "2    ['CSS', 'HTML', 'Java', 'JavaFX', 'JavaScript'...   \n",
       "3                                        ['WordPress']   \n",
       "4                         ['CSS', 'HTML', 'WordPress']   \n",
       "..                                                 ...   \n",
       "540  ['Amazon Web Server (AWS)', 'Apache Cassandra'...   \n",
       "541  ['C++ Programming', 'Data Structures', 'Invest...   \n",
       "542  ['Bootstrap', 'CSS', 'HTML', 'JavaScript', 'jQ...   \n",
       "543            ['CSS', 'HTML', 'JavaScript', 'jQuery']   \n",
       "544  ['CSS', 'Express.js', 'HTML', 'JavaScript', 'N...   \n",
       "\n",
       "                                                 perks  openings  \\\n",
       "0               ['Certificate', 'Flexible work hours']         5   \n",
       "1    ['Certificate', 'Letter of recommendation', 'F...         2   \n",
       "2    ['Certificate', 'Letter of recommendation', 'F...         4   \n",
       "3          ['Certificate', 'Letter of recommendation']         2   \n",
       "4    ['Certificate', 'Letter of recommendation', 'F...         4   \n",
       "..                                                 ...       ...   \n",
       "540  ['Certificate', 'Letter of recommendation', 'F...         3   \n",
       "541                                                 []         5   \n",
       "542  ['Certificate', 'Letter of recommendation', '5...         4   \n",
       "543  ['Certificate', 'Letter of recommendation', '5...         2   \n",
       "544                                    ['Certificate']         5   \n",
       "\n",
       "                                                   url  \n",
       "0    https://internshala.com/internship/detail/mark...  \n",
       "1    https://internshala.com/internship/detail/web-...  \n",
       "2    https://internshala.com/internship/detail/word...  \n",
       "3    https://internshala.com/internship/detail/word...  \n",
       "4    https://internshala.com/internship/detail/word...  \n",
       "..                                                 ...  \n",
       "540  https://internshala.com/internship/detail/back...  \n",
       "541  https://internshala.com/internship/detail/quan...  \n",
       "542  https://internshala.com/internship/detail/back...  \n",
       "543  https://internshala.com/internship/detail/fron...  \n",
       "544  https://internshala.com/internship/detail/web-...  \n",
       "\n",
       "[545 rows x 11 columns]"
      ]
     },
     "execution_count": 256,
     "metadata": {},
     "output_type": "execute_result"
    }
   ],
   "source": [
    "df"
   ]
  },
  {
   "cell_type": "code",
   "execution_count": 257,
   "metadata": {},
   "outputs": [],
   "source": [
    "df[\"stipend\"] = df[\"stipend\"].apply(lambda x: x if \"month\" in x else np.nan)"
   ]
  },
  {
   "cell_type": "code",
   "execution_count": 258,
   "metadata": {},
   "outputs": [
    {
     "data": {
      "text/plain": [
       "25"
      ]
     },
     "execution_count": 258,
     "metadata": {},
     "output_type": "execute_result"
    }
   ],
   "source": [
    "df[\"stipend\"].isna().sum()"
   ]
  },
  {
   "cell_type": "code",
   "execution_count": 259,
   "metadata": {},
   "outputs": [],
   "source": [
    "df[\"stipend\"] = df[\"stipend\"].dropna().apply(lambda x: x.split(\" \")[0])"
   ]
  },
  {
   "cell_type": "code",
   "execution_count": 260,
   "metadata": {},
   "outputs": [],
   "source": [
    "df[\"stipend\"] = df[\"stipend\"].str.replace(\"Unpaid\", \"0\")"
   ]
  },
  {
   "cell_type": "code",
   "execution_count": 261,
   "metadata": {},
   "outputs": [],
   "source": [
    "import numpy as np"
   ]
  },
  {
   "cell_type": "code",
   "execution_count": 262,
   "metadata": {},
   "outputs": [],
   "source": [
    "def clean_stipend(row):\n",
    "    try:\n",
    "        if len(row.split(\"-\")) == 2:\n",
    "            return (float(row.split(\"-\")[0]) + float(row.split(\"-\")[0]))/2  #average\n",
    "        else:\n",
    "            try:\n",
    "                return float(row)\n",
    "            except:\n",
    "                return np.nan\n",
    "    except:\n",
    "        np.nan"
   ]
  },
  {
   "cell_type": "code",
   "execution_count": 263,
   "metadata": {},
   "outputs": [],
   "source": [
    "df[\"stipend\"] = df[\"stipend\"].apply(clean_stipend)"
   ]
  },
  {
   "cell_type": "code",
   "execution_count": 264,
   "metadata": {},
   "outputs": [
    {
     "data": {
      "text/plain": [
       "26"
      ]
     },
     "execution_count": 264,
     "metadata": {},
     "output_type": "execute_result"
    }
   ],
   "source": [
    "df[\"stipend\"].isna().sum()"
   ]
  },
  {
   "cell_type": "code",
   "execution_count": 181,
   "metadata": {},
   "outputs": [
    {
     "data": {
      "text/html": [
       "<div>\n",
       "<style scoped>\n",
       "    .dataframe tbody tr th:only-of-type {\n",
       "        vertical-align: middle;\n",
       "    }\n",
       "\n",
       "    .dataframe tbody tr th {\n",
       "        vertical-align: top;\n",
       "    }\n",
       "\n",
       "    .dataframe thead th {\n",
       "        text-align: right;\n",
       "    }\n",
       "</style>\n",
       "<table border=\"1\" class=\"dataframe\">\n",
       "  <thead>\n",
       "    <tr style=\"text-align: right;\">\n",
       "      <th></th>\n",
       "      <th>title</th>\n",
       "      <th>company</th>\n",
       "      <th>location</th>\n",
       "      <th>duration</th>\n",
       "      <th>stipend</th>\n",
       "      <th>apply_by</th>\n",
       "      <th>applicants</th>\n",
       "      <th>skills</th>\n",
       "      <th>perks</th>\n",
       "      <th>openings</th>\n",
       "      <th>url</th>\n",
       "    </tr>\n",
       "  </thead>\n",
       "  <tbody>\n",
       "    <tr>\n",
       "      <th>0</th>\n",
       "      <td>Market Research (Analytics)</td>\n",
       "      <td>Justdial Limited</td>\n",
       "      <td>['Delhi', 'Bangalore', 'Mumbai']</td>\n",
       "      <td>2</td>\n",
       "      <td>2000.0</td>\n",
       "      <td>21 Jul' 22</td>\n",
       "      <td>132 applicants</td>\n",
       "      <td>['MS-Excel', 'MS-Office', 'MS-PowerPoint', 'Re...</td>\n",
       "      <td>['Certificate', 'Flexible work hours']</td>\n",
       "      <td>5</td>\n",
       "      <td>https://internshala.com/internship/detail/mark...</td>\n",
       "    </tr>\n",
       "    <tr>\n",
       "      <th>1</th>\n",
       "      <td>Web Development</td>\n",
       "      <td>IIT Bombay</td>\n",
       "      <td>['Work From Home']</td>\n",
       "      <td>6</td>\n",
       "      <td>2000.0</td>\n",
       "      <td>20 Jul' 22</td>\n",
       "      <td>187 applicants</td>\n",
       "      <td>['Django', 'MongoDB']</td>\n",
       "      <td>['Certificate', 'Letter of recommendation', 'F...</td>\n",
       "      <td>2</td>\n",
       "      <td>https://internshala.com/internship/detail/web-...</td>\n",
       "    </tr>\n",
       "    <tr>\n",
       "      <th>2</th>\n",
       "      <td>WordPress Development</td>\n",
       "      <td>NoBroker Technologies Solutions Private Limited</td>\n",
       "      <td>['Bangalore']</td>\n",
       "      <td>3</td>\n",
       "      <td>8000.0</td>\n",
       "      <td>19 Jul' 22</td>\n",
       "      <td>47 applicants</td>\n",
       "      <td>['CSS', 'HTML', 'Java', 'JavaFX', 'JavaScript'...</td>\n",
       "      <td>['Certificate', 'Letter of recommendation', 'F...</td>\n",
       "      <td>4</td>\n",
       "      <td>https://internshala.com/internship/detail/word...</td>\n",
       "    </tr>\n",
       "    <tr>\n",
       "      <th>3</th>\n",
       "      <td>WordPress Web Development</td>\n",
       "      <td>Mechatron Robotics</td>\n",
       "      <td>['Work From Home']</td>\n",
       "      <td>6</td>\n",
       "      <td>5000.0</td>\n",
       "      <td>26 Jul' 22</td>\n",
       "      <td>Be an early applicant</td>\n",
       "      <td>['WordPress']</td>\n",
       "      <td>['Certificate', 'Letter of recommendation']</td>\n",
       "      <td>2</td>\n",
       "      <td>https://internshala.com/internship/detail/word...</td>\n",
       "    </tr>\n",
       "    <tr>\n",
       "      <th>4</th>\n",
       "      <td>WordPress Development</td>\n",
       "      <td>Akeshya</td>\n",
       "      <td>['Work From Home']</td>\n",
       "      <td>3</td>\n",
       "      <td>4000.0</td>\n",
       "      <td>26 Jul' 22</td>\n",
       "      <td>66 applicants</td>\n",
       "      <td>['CSS', 'HTML', 'WordPress']</td>\n",
       "      <td>['Certificate', 'Letter of recommendation', 'F...</td>\n",
       "      <td>4</td>\n",
       "      <td>https://internshala.com/internship/detail/word...</td>\n",
       "    </tr>\n",
       "    <tr>\n",
       "      <th>...</th>\n",
       "      <td>...</td>\n",
       "      <td>...</td>\n",
       "      <td>...</td>\n",
       "      <td>...</td>\n",
       "      <td>...</td>\n",
       "      <td>...</td>\n",
       "      <td>...</td>\n",
       "      <td>...</td>\n",
       "      <td>...</td>\n",
       "      <td>...</td>\n",
       "      <td>...</td>\n",
       "    </tr>\n",
       "    <tr>\n",
       "      <th>540</th>\n",
       "      <td>Backend Development</td>\n",
       "      <td>Cognitio Eduventures Private Limited</td>\n",
       "      <td>['Work From Home']</td>\n",
       "      <td>4</td>\n",
       "      <td>15000.0</td>\n",
       "      <td>20 Jul' 22</td>\n",
       "      <td>290 applicants</td>\n",
       "      <td>['Amazon Web Server (AWS)', 'Apache Cassandra'...</td>\n",
       "      <td>['Certificate', 'Letter of recommendation', 'F...</td>\n",
       "      <td>3</td>\n",
       "      <td>https://internshala.com/internship/detail/back...</td>\n",
       "    </tr>\n",
       "    <tr>\n",
       "      <th>541</th>\n",
       "      <td>Quantitative Research</td>\n",
       "      <td>AR Quants</td>\n",
       "      <td>['Work From Home']</td>\n",
       "      <td>3</td>\n",
       "      <td>1000.0</td>\n",
       "      <td>15 Jul' 22</td>\n",
       "      <td>78 applicants</td>\n",
       "      <td>['C++ Programming', 'Data Structures', 'Invest...</td>\n",
       "      <td>[]</td>\n",
       "      <td>5</td>\n",
       "      <td>https://internshala.com/internship/detail/quan...</td>\n",
       "    </tr>\n",
       "    <tr>\n",
       "      <th>542</th>\n",
       "      <td>Backend Developement</td>\n",
       "      <td>Messold Technologies</td>\n",
       "      <td>['Work From Home']</td>\n",
       "      <td>6</td>\n",
       "      <td>6000.0</td>\n",
       "      <td>19 Jul' 22</td>\n",
       "      <td>1000+ applicants</td>\n",
       "      <td>['Bootstrap', 'CSS', 'HTML', 'JavaScript', 'jQ...</td>\n",
       "      <td>['Certificate', 'Letter of recommendation', '5...</td>\n",
       "      <td>4</td>\n",
       "      <td>https://internshala.com/internship/detail/back...</td>\n",
       "    </tr>\n",
       "    <tr>\n",
       "      <th>543</th>\n",
       "      <td>Front End Development (Shopify Website (Liquid))</td>\n",
       "      <td>Messold Technologies</td>\n",
       "      <td>['Work From Home']</td>\n",
       "      <td>6</td>\n",
       "      <td>6000.0</td>\n",
       "      <td>19 Jul' 22</td>\n",
       "      <td>1000+ applicants</td>\n",
       "      <td>['CSS', 'HTML', 'JavaScript', 'jQuery']</td>\n",
       "      <td>['Certificate', 'Letter of recommendation', '5...</td>\n",
       "      <td>2</td>\n",
       "      <td>https://internshala.com/internship/detail/fron...</td>\n",
       "    </tr>\n",
       "    <tr>\n",
       "      <th>544</th>\n",
       "      <td>Web Development</td>\n",
       "      <td>Innowyze Global Solutions</td>\n",
       "      <td>['Work From Home']</td>\n",
       "      <td>6</td>\n",
       "      <td>10000.0</td>\n",
       "      <td>17 Jul' 22</td>\n",
       "      <td>461 applicants</td>\n",
       "      <td>['CSS', 'Express.js', 'HTML', 'JavaScript', 'N...</td>\n",
       "      <td>['Certificate']</td>\n",
       "      <td>5</td>\n",
       "      <td>https://internshala.com/internship/detail/web-...</td>\n",
       "    </tr>\n",
       "  </tbody>\n",
       "</table>\n",
       "<p>544 rows × 11 columns</p>\n",
       "</div>"
      ],
      "text/plain": [
       "                                                title  \\\n",
       "0                         Market Research (Analytics)   \n",
       "1                                     Web Development   \n",
       "2                               WordPress Development   \n",
       "3                           WordPress Web Development   \n",
       "4                               WordPress Development   \n",
       "..                                                ...   \n",
       "540                               Backend Development   \n",
       "541                             Quantitative Research   \n",
       "542                              Backend Developement   \n",
       "543  Front End Development (Shopify Website (Liquid))   \n",
       "544                                   Web Development   \n",
       "\n",
       "                                             company  \\\n",
       "0                                   Justdial Limited   \n",
       "1                                         IIT Bombay   \n",
       "2    NoBroker Technologies Solutions Private Limited   \n",
       "3                                 Mechatron Robotics   \n",
       "4                                            Akeshya   \n",
       "..                                               ...   \n",
       "540             Cognitio Eduventures Private Limited   \n",
       "541                                        AR Quants   \n",
       "542                             Messold Technologies   \n",
       "543                             Messold Technologies   \n",
       "544                        Innowyze Global Solutions   \n",
       "\n",
       "                             location  duration  stipend    apply_by  \\\n",
       "0    ['Delhi', 'Bangalore', 'Mumbai']         2   2000.0  21 Jul' 22   \n",
       "1                  ['Work From Home']         6   2000.0  20 Jul' 22   \n",
       "2                       ['Bangalore']         3   8000.0  19 Jul' 22   \n",
       "3                  ['Work From Home']         6   5000.0  26 Jul' 22   \n",
       "4                  ['Work From Home']         3   4000.0  26 Jul' 22   \n",
       "..                                ...       ...      ...         ...   \n",
       "540                ['Work From Home']         4  15000.0  20 Jul' 22   \n",
       "541                ['Work From Home']         3   1000.0  15 Jul' 22   \n",
       "542                ['Work From Home']         6   6000.0  19 Jul' 22   \n",
       "543                ['Work From Home']         6   6000.0  19 Jul' 22   \n",
       "544                ['Work From Home']         6  10000.0  17 Jul' 22   \n",
       "\n",
       "                applicants                                             skills  \\\n",
       "0           132 applicants  ['MS-Excel', 'MS-Office', 'MS-PowerPoint', 'Re...   \n",
       "1           187 applicants                              ['Django', 'MongoDB']   \n",
       "2            47 applicants  ['CSS', 'HTML', 'Java', 'JavaFX', 'JavaScript'...   \n",
       "3    Be an early applicant                                      ['WordPress']   \n",
       "4            66 applicants                       ['CSS', 'HTML', 'WordPress']   \n",
       "..                     ...                                                ...   \n",
       "540         290 applicants  ['Amazon Web Server (AWS)', 'Apache Cassandra'...   \n",
       "541          78 applicants  ['C++ Programming', 'Data Structures', 'Invest...   \n",
       "542       1000+ applicants  ['Bootstrap', 'CSS', 'HTML', 'JavaScript', 'jQ...   \n",
       "543       1000+ applicants            ['CSS', 'HTML', 'JavaScript', 'jQuery']   \n",
       "544         461 applicants  ['CSS', 'Express.js', 'HTML', 'JavaScript', 'N...   \n",
       "\n",
       "                                                 perks  openings  \\\n",
       "0               ['Certificate', 'Flexible work hours']         5   \n",
       "1    ['Certificate', 'Letter of recommendation', 'F...         2   \n",
       "2    ['Certificate', 'Letter of recommendation', 'F...         4   \n",
       "3          ['Certificate', 'Letter of recommendation']         2   \n",
       "4    ['Certificate', 'Letter of recommendation', 'F...         4   \n",
       "..                                                 ...       ...   \n",
       "540  ['Certificate', 'Letter of recommendation', 'F...         3   \n",
       "541                                                 []         5   \n",
       "542  ['Certificate', 'Letter of recommendation', '5...         4   \n",
       "543  ['Certificate', 'Letter of recommendation', '5...         2   \n",
       "544                                    ['Certificate']         5   \n",
       "\n",
       "                                                   url  \n",
       "0    https://internshala.com/internship/detail/mark...  \n",
       "1    https://internshala.com/internship/detail/web-...  \n",
       "2    https://internshala.com/internship/detail/word...  \n",
       "3    https://internshala.com/internship/detail/word...  \n",
       "4    https://internshala.com/internship/detail/word...  \n",
       "..                                                 ...  \n",
       "540  https://internshala.com/internship/detail/back...  \n",
       "541  https://internshala.com/internship/detail/quan...  \n",
       "542  https://internshala.com/internship/detail/back...  \n",
       "543  https://internshala.com/internship/detail/fron...  \n",
       "544  https://internshala.com/internship/detail/web-...  \n",
       "\n",
       "[544 rows x 11 columns]"
      ]
     },
     "execution_count": 181,
     "metadata": {},
     "output_type": "execute_result"
    }
   ],
   "source": [
    "to_drop = []\n",
    "to_drop += [int(i) for i in df[df[\"stipend\"].isna()].index]\n",
    "df.drop(to_drop, axis=0) ## log these rows"
   ]
  },
  {
   "cell_type": "code",
   "execution_count": 182,
   "metadata": {},
   "outputs": [],
   "source": [
    "df[\"apply_by\"] = pd.to_datetime(df[\"apply_by\"], errors=\"raise\")"
   ]
  },
  {
   "cell_type": "code",
   "execution_count": 183,
   "metadata": {},
   "outputs": [
    {
     "data": {
      "text/html": [
       "<div>\n",
       "<style scoped>\n",
       "    .dataframe tbody tr th:only-of-type {\n",
       "        vertical-align: middle;\n",
       "    }\n",
       "\n",
       "    .dataframe tbody tr th {\n",
       "        vertical-align: top;\n",
       "    }\n",
       "\n",
       "    .dataframe thead th {\n",
       "        text-align: right;\n",
       "    }\n",
       "</style>\n",
       "<table border=\"1\" class=\"dataframe\">\n",
       "  <thead>\n",
       "    <tr style=\"text-align: right;\">\n",
       "      <th></th>\n",
       "      <th>title</th>\n",
       "      <th>company</th>\n",
       "      <th>location</th>\n",
       "      <th>duration</th>\n",
       "      <th>stipend</th>\n",
       "      <th>apply_by</th>\n",
       "      <th>applicants</th>\n",
       "      <th>skills</th>\n",
       "      <th>perks</th>\n",
       "      <th>openings</th>\n",
       "      <th>url</th>\n",
       "    </tr>\n",
       "  </thead>\n",
       "  <tbody>\n",
       "    <tr>\n",
       "      <th>0</th>\n",
       "      <td>Market Research (Analytics)</td>\n",
       "      <td>Justdial Limited</td>\n",
       "      <td>['Delhi', 'Bangalore', 'Mumbai']</td>\n",
       "      <td>2</td>\n",
       "      <td>2000.0</td>\n",
       "      <td>2022-07-21</td>\n",
       "      <td>132 applicants</td>\n",
       "      <td>['MS-Excel', 'MS-Office', 'MS-PowerPoint', 'Re...</td>\n",
       "      <td>['Certificate', 'Flexible work hours']</td>\n",
       "      <td>5</td>\n",
       "      <td>https://internshala.com/internship/detail/mark...</td>\n",
       "    </tr>\n",
       "    <tr>\n",
       "      <th>1</th>\n",
       "      <td>Web Development</td>\n",
       "      <td>IIT Bombay</td>\n",
       "      <td>['Work From Home']</td>\n",
       "      <td>6</td>\n",
       "      <td>2000.0</td>\n",
       "      <td>2022-07-20</td>\n",
       "      <td>187 applicants</td>\n",
       "      <td>['Django', 'MongoDB']</td>\n",
       "      <td>['Certificate', 'Letter of recommendation', 'F...</td>\n",
       "      <td>2</td>\n",
       "      <td>https://internshala.com/internship/detail/web-...</td>\n",
       "    </tr>\n",
       "    <tr>\n",
       "      <th>2</th>\n",
       "      <td>WordPress Development</td>\n",
       "      <td>NoBroker Technologies Solutions Private Limited</td>\n",
       "      <td>['Bangalore']</td>\n",
       "      <td>3</td>\n",
       "      <td>8000.0</td>\n",
       "      <td>2022-07-19</td>\n",
       "      <td>47 applicants</td>\n",
       "      <td>['CSS', 'HTML', 'Java', 'JavaFX', 'JavaScript'...</td>\n",
       "      <td>['Certificate', 'Letter of recommendation', 'F...</td>\n",
       "      <td>4</td>\n",
       "      <td>https://internshala.com/internship/detail/word...</td>\n",
       "    </tr>\n",
       "    <tr>\n",
       "      <th>3</th>\n",
       "      <td>WordPress Web Development</td>\n",
       "      <td>Mechatron Robotics</td>\n",
       "      <td>['Work From Home']</td>\n",
       "      <td>6</td>\n",
       "      <td>5000.0</td>\n",
       "      <td>2022-07-26</td>\n",
       "      <td>Be an early applicant</td>\n",
       "      <td>['WordPress']</td>\n",
       "      <td>['Certificate', 'Letter of recommendation']</td>\n",
       "      <td>2</td>\n",
       "      <td>https://internshala.com/internship/detail/word...</td>\n",
       "    </tr>\n",
       "    <tr>\n",
       "      <th>4</th>\n",
       "      <td>WordPress Development</td>\n",
       "      <td>Akeshya</td>\n",
       "      <td>['Work From Home']</td>\n",
       "      <td>3</td>\n",
       "      <td>4000.0</td>\n",
       "      <td>2022-07-26</td>\n",
       "      <td>66 applicants</td>\n",
       "      <td>['CSS', 'HTML', 'WordPress']</td>\n",
       "      <td>['Certificate', 'Letter of recommendation', 'F...</td>\n",
       "      <td>4</td>\n",
       "      <td>https://internshala.com/internship/detail/word...</td>\n",
       "    </tr>\n",
       "    <tr>\n",
       "      <th>...</th>\n",
       "      <td>...</td>\n",
       "      <td>...</td>\n",
       "      <td>...</td>\n",
       "      <td>...</td>\n",
       "      <td>...</td>\n",
       "      <td>...</td>\n",
       "      <td>...</td>\n",
       "      <td>...</td>\n",
       "      <td>...</td>\n",
       "      <td>...</td>\n",
       "      <td>...</td>\n",
       "    </tr>\n",
       "    <tr>\n",
       "      <th>540</th>\n",
       "      <td>Backend Development</td>\n",
       "      <td>Cognitio Eduventures Private Limited</td>\n",
       "      <td>['Work From Home']</td>\n",
       "      <td>4</td>\n",
       "      <td>15000.0</td>\n",
       "      <td>2022-07-20</td>\n",
       "      <td>290 applicants</td>\n",
       "      <td>['Amazon Web Server (AWS)', 'Apache Cassandra'...</td>\n",
       "      <td>['Certificate', 'Letter of recommendation', 'F...</td>\n",
       "      <td>3</td>\n",
       "      <td>https://internshala.com/internship/detail/back...</td>\n",
       "    </tr>\n",
       "    <tr>\n",
       "      <th>541</th>\n",
       "      <td>Quantitative Research</td>\n",
       "      <td>AR Quants</td>\n",
       "      <td>['Work From Home']</td>\n",
       "      <td>3</td>\n",
       "      <td>1000.0</td>\n",
       "      <td>2022-07-15</td>\n",
       "      <td>78 applicants</td>\n",
       "      <td>['C++ Programming', 'Data Structures', 'Invest...</td>\n",
       "      <td>[]</td>\n",
       "      <td>5</td>\n",
       "      <td>https://internshala.com/internship/detail/quan...</td>\n",
       "    </tr>\n",
       "    <tr>\n",
       "      <th>542</th>\n",
       "      <td>Backend Developement</td>\n",
       "      <td>Messold Technologies</td>\n",
       "      <td>['Work From Home']</td>\n",
       "      <td>6</td>\n",
       "      <td>6000.0</td>\n",
       "      <td>2022-07-19</td>\n",
       "      <td>1000+ applicants</td>\n",
       "      <td>['Bootstrap', 'CSS', 'HTML', 'JavaScript', 'jQ...</td>\n",
       "      <td>['Certificate', 'Letter of recommendation', '5...</td>\n",
       "      <td>4</td>\n",
       "      <td>https://internshala.com/internship/detail/back...</td>\n",
       "    </tr>\n",
       "    <tr>\n",
       "      <th>543</th>\n",
       "      <td>Front End Development (Shopify Website (Liquid))</td>\n",
       "      <td>Messold Technologies</td>\n",
       "      <td>['Work From Home']</td>\n",
       "      <td>6</td>\n",
       "      <td>6000.0</td>\n",
       "      <td>2022-07-19</td>\n",
       "      <td>1000+ applicants</td>\n",
       "      <td>['CSS', 'HTML', 'JavaScript', 'jQuery']</td>\n",
       "      <td>['Certificate', 'Letter of recommendation', '5...</td>\n",
       "      <td>2</td>\n",
       "      <td>https://internshala.com/internship/detail/fron...</td>\n",
       "    </tr>\n",
       "    <tr>\n",
       "      <th>544</th>\n",
       "      <td>Web Development</td>\n",
       "      <td>Innowyze Global Solutions</td>\n",
       "      <td>['Work From Home']</td>\n",
       "      <td>6</td>\n",
       "      <td>10000.0</td>\n",
       "      <td>2022-07-17</td>\n",
       "      <td>461 applicants</td>\n",
       "      <td>['CSS', 'Express.js', 'HTML', 'JavaScript', 'N...</td>\n",
       "      <td>['Certificate']</td>\n",
       "      <td>5</td>\n",
       "      <td>https://internshala.com/internship/detail/web-...</td>\n",
       "    </tr>\n",
       "  </tbody>\n",
       "</table>\n",
       "<p>545 rows × 11 columns</p>\n",
       "</div>"
      ],
      "text/plain": [
       "                                                title  \\\n",
       "0                         Market Research (Analytics)   \n",
       "1                                     Web Development   \n",
       "2                               WordPress Development   \n",
       "3                           WordPress Web Development   \n",
       "4                               WordPress Development   \n",
       "..                                                ...   \n",
       "540                               Backend Development   \n",
       "541                             Quantitative Research   \n",
       "542                              Backend Developement   \n",
       "543  Front End Development (Shopify Website (Liquid))   \n",
       "544                                   Web Development   \n",
       "\n",
       "                                             company  \\\n",
       "0                                   Justdial Limited   \n",
       "1                                         IIT Bombay   \n",
       "2    NoBroker Technologies Solutions Private Limited   \n",
       "3                                 Mechatron Robotics   \n",
       "4                                            Akeshya   \n",
       "..                                               ...   \n",
       "540             Cognitio Eduventures Private Limited   \n",
       "541                                        AR Quants   \n",
       "542                             Messold Technologies   \n",
       "543                             Messold Technologies   \n",
       "544                        Innowyze Global Solutions   \n",
       "\n",
       "                             location  duration  stipend   apply_by  \\\n",
       "0    ['Delhi', 'Bangalore', 'Mumbai']         2   2000.0 2022-07-21   \n",
       "1                  ['Work From Home']         6   2000.0 2022-07-20   \n",
       "2                       ['Bangalore']         3   8000.0 2022-07-19   \n",
       "3                  ['Work From Home']         6   5000.0 2022-07-26   \n",
       "4                  ['Work From Home']         3   4000.0 2022-07-26   \n",
       "..                                ...       ...      ...        ...   \n",
       "540                ['Work From Home']         4  15000.0 2022-07-20   \n",
       "541                ['Work From Home']         3   1000.0 2022-07-15   \n",
       "542                ['Work From Home']         6   6000.0 2022-07-19   \n",
       "543                ['Work From Home']         6   6000.0 2022-07-19   \n",
       "544                ['Work From Home']         6  10000.0 2022-07-17   \n",
       "\n",
       "                applicants                                             skills  \\\n",
       "0           132 applicants  ['MS-Excel', 'MS-Office', 'MS-PowerPoint', 'Re...   \n",
       "1           187 applicants                              ['Django', 'MongoDB']   \n",
       "2            47 applicants  ['CSS', 'HTML', 'Java', 'JavaFX', 'JavaScript'...   \n",
       "3    Be an early applicant                                      ['WordPress']   \n",
       "4            66 applicants                       ['CSS', 'HTML', 'WordPress']   \n",
       "..                     ...                                                ...   \n",
       "540         290 applicants  ['Amazon Web Server (AWS)', 'Apache Cassandra'...   \n",
       "541          78 applicants  ['C++ Programming', 'Data Structures', 'Invest...   \n",
       "542       1000+ applicants  ['Bootstrap', 'CSS', 'HTML', 'JavaScript', 'jQ...   \n",
       "543       1000+ applicants            ['CSS', 'HTML', 'JavaScript', 'jQuery']   \n",
       "544         461 applicants  ['CSS', 'Express.js', 'HTML', 'JavaScript', 'N...   \n",
       "\n",
       "                                                 perks  openings  \\\n",
       "0               ['Certificate', 'Flexible work hours']         5   \n",
       "1    ['Certificate', 'Letter of recommendation', 'F...         2   \n",
       "2    ['Certificate', 'Letter of recommendation', 'F...         4   \n",
       "3          ['Certificate', 'Letter of recommendation']         2   \n",
       "4    ['Certificate', 'Letter of recommendation', 'F...         4   \n",
       "..                                                 ...       ...   \n",
       "540  ['Certificate', 'Letter of recommendation', 'F...         3   \n",
       "541                                                 []         5   \n",
       "542  ['Certificate', 'Letter of recommendation', '5...         4   \n",
       "543  ['Certificate', 'Letter of recommendation', '5...         2   \n",
       "544                                    ['Certificate']         5   \n",
       "\n",
       "                                                   url  \n",
       "0    https://internshala.com/internship/detail/mark...  \n",
       "1    https://internshala.com/internship/detail/web-...  \n",
       "2    https://internshala.com/internship/detail/word...  \n",
       "3    https://internshala.com/internship/detail/word...  \n",
       "4    https://internshala.com/internship/detail/word...  \n",
       "..                                                 ...  \n",
       "540  https://internshala.com/internship/detail/back...  \n",
       "541  https://internshala.com/internship/detail/quan...  \n",
       "542  https://internshala.com/internship/detail/back...  \n",
       "543  https://internshala.com/internship/detail/fron...  \n",
       "544  https://internshala.com/internship/detail/web-...  \n",
       "\n",
       "[545 rows x 11 columns]"
      ]
     },
     "execution_count": 183,
     "metadata": {},
     "output_type": "execute_result"
    }
   ],
   "source": [
    "df"
   ]
  },
  {
   "cell_type": "code",
   "execution_count": 184,
   "metadata": {},
   "outputs": [],
   "source": [
    "df[\"applicants\"] = df[\"applicants\"].str.replace(\"Be an early applicant\", \"0\")\n",
    "df[\"applicants\"] = df[\"applicants\"].apply(lambda x: x.split(\" \")[0])\n",
    "df[\"applicants\"] = df[\"applicants\"].str.replace(\"+\", \"\", regex=True)\n",
    "df[\"applicants\"] = df[\"applicants\"].apply(lambda x: float(x.strip()) if x.strip().isnumeric() else np.NaN)"
   ]
  },
  {
   "cell_type": "code",
   "execution_count": 185,
   "metadata": {},
   "outputs": [],
   "source": []
  },
  {
   "cell_type": "code",
   "execution_count": 186,
   "metadata": {},
   "outputs": [],
   "source": []
  },
  {
   "cell_type": "code",
   "execution_count": 187,
   "metadata": {},
   "outputs": [],
   "source": []
  },
  {
   "cell_type": "code",
   "execution_count": 188,
   "metadata": {},
   "outputs": [],
   "source": [
    "import ast\n",
    "df[\"skills\"] = df[\"skills\"].apply(lambda x: ast.literal_eval(x))"
   ]
  },
  {
   "cell_type": "code",
   "execution_count": 189,
   "metadata": {},
   "outputs": [
    {
     "data": {
      "text/html": [
       "<div>\n",
       "<style scoped>\n",
       "    .dataframe tbody tr th:only-of-type {\n",
       "        vertical-align: middle;\n",
       "    }\n",
       "\n",
       "    .dataframe tbody tr th {\n",
       "        vertical-align: top;\n",
       "    }\n",
       "\n",
       "    .dataframe thead th {\n",
       "        text-align: right;\n",
       "    }\n",
       "</style>\n",
       "<table border=\"1\" class=\"dataframe\">\n",
       "  <thead>\n",
       "    <tr style=\"text-align: right;\">\n",
       "      <th></th>\n",
       "      <th>title</th>\n",
       "      <th>company</th>\n",
       "      <th>location</th>\n",
       "      <th>duration</th>\n",
       "      <th>stipend</th>\n",
       "      <th>apply_by</th>\n",
       "      <th>applicants</th>\n",
       "      <th>skills</th>\n",
       "      <th>perks</th>\n",
       "      <th>openings</th>\n",
       "      <th>url</th>\n",
       "    </tr>\n",
       "  </thead>\n",
       "  <tbody>\n",
       "    <tr>\n",
       "      <th>0</th>\n",
       "      <td>Market Research (Analytics)</td>\n",
       "      <td>Justdial Limited</td>\n",
       "      <td>['Delhi', 'Bangalore', 'Mumbai']</td>\n",
       "      <td>2</td>\n",
       "      <td>2000.0</td>\n",
       "      <td>2022-07-21</td>\n",
       "      <td>132</td>\n",
       "      <td>[MS-Excel, MS-Office, MS-PowerPoint, Research ...</td>\n",
       "      <td>['Certificate', 'Flexible work hours']</td>\n",
       "      <td>5</td>\n",
       "      <td>https://internshala.com/internship/detail/mark...</td>\n",
       "    </tr>\n",
       "    <tr>\n",
       "      <th>1</th>\n",
       "      <td>Web Development</td>\n",
       "      <td>IIT Bombay</td>\n",
       "      <td>['Work From Home']</td>\n",
       "      <td>6</td>\n",
       "      <td>2000.0</td>\n",
       "      <td>2022-07-20</td>\n",
       "      <td>187</td>\n",
       "      <td>[Django, MongoDB]</td>\n",
       "      <td>['Certificate', 'Letter of recommendation', 'F...</td>\n",
       "      <td>2</td>\n",
       "      <td>https://internshala.com/internship/detail/web-...</td>\n",
       "    </tr>\n",
       "    <tr>\n",
       "      <th>2</th>\n",
       "      <td>WordPress Development</td>\n",
       "      <td>NoBroker Technologies Solutions Private Limited</td>\n",
       "      <td>['Bangalore']</td>\n",
       "      <td>3</td>\n",
       "      <td>8000.0</td>\n",
       "      <td>2022-07-19</td>\n",
       "      <td>47</td>\n",
       "      <td>[CSS, HTML, Java, JavaFX, JavaScript, jQuery, ...</td>\n",
       "      <td>['Certificate', 'Letter of recommendation', 'F...</td>\n",
       "      <td>4</td>\n",
       "      <td>https://internshala.com/internship/detail/word...</td>\n",
       "    </tr>\n",
       "    <tr>\n",
       "      <th>3</th>\n",
       "      <td>WordPress Web Development</td>\n",
       "      <td>Mechatron Robotics</td>\n",
       "      <td>['Work From Home']</td>\n",
       "      <td>6</td>\n",
       "      <td>5000.0</td>\n",
       "      <td>2022-07-26</td>\n",
       "      <td>0</td>\n",
       "      <td>[WordPress]</td>\n",
       "      <td>['Certificate', 'Letter of recommendation']</td>\n",
       "      <td>2</td>\n",
       "      <td>https://internshala.com/internship/detail/word...</td>\n",
       "    </tr>\n",
       "    <tr>\n",
       "      <th>4</th>\n",
       "      <td>WordPress Development</td>\n",
       "      <td>Akeshya</td>\n",
       "      <td>['Work From Home']</td>\n",
       "      <td>3</td>\n",
       "      <td>4000.0</td>\n",
       "      <td>2022-07-26</td>\n",
       "      <td>66</td>\n",
       "      <td>[CSS, HTML, WordPress]</td>\n",
       "      <td>['Certificate', 'Letter of recommendation', 'F...</td>\n",
       "      <td>4</td>\n",
       "      <td>https://internshala.com/internship/detail/word...</td>\n",
       "    </tr>\n",
       "    <tr>\n",
       "      <th>...</th>\n",
       "      <td>...</td>\n",
       "      <td>...</td>\n",
       "      <td>...</td>\n",
       "      <td>...</td>\n",
       "      <td>...</td>\n",
       "      <td>...</td>\n",
       "      <td>...</td>\n",
       "      <td>...</td>\n",
       "      <td>...</td>\n",
       "      <td>...</td>\n",
       "      <td>...</td>\n",
       "    </tr>\n",
       "    <tr>\n",
       "      <th>540</th>\n",
       "      <td>Backend Development</td>\n",
       "      <td>Cognitio Eduventures Private Limited</td>\n",
       "      <td>['Work From Home']</td>\n",
       "      <td>4</td>\n",
       "      <td>15000.0</td>\n",
       "      <td>2022-07-20</td>\n",
       "      <td>290</td>\n",
       "      <td>[Amazon Web Server (AWS), Apache Cassandra, Ja...</td>\n",
       "      <td>['Certificate', 'Letter of recommendation', 'F...</td>\n",
       "      <td>3</td>\n",
       "      <td>https://internshala.com/internship/detail/back...</td>\n",
       "    </tr>\n",
       "    <tr>\n",
       "      <th>541</th>\n",
       "      <td>Quantitative Research</td>\n",
       "      <td>AR Quants</td>\n",
       "      <td>['Work From Home']</td>\n",
       "      <td>3</td>\n",
       "      <td>1000.0</td>\n",
       "      <td>2022-07-15</td>\n",
       "      <td>78</td>\n",
       "      <td>[C++ Programming, Data Structures, Investing, ...</td>\n",
       "      <td>[]</td>\n",
       "      <td>5</td>\n",
       "      <td>https://internshala.com/internship/detail/quan...</td>\n",
       "    </tr>\n",
       "    <tr>\n",
       "      <th>542</th>\n",
       "      <td>Backend Developement</td>\n",
       "      <td>Messold Technologies</td>\n",
       "      <td>['Work From Home']</td>\n",
       "      <td>6</td>\n",
       "      <td>6000.0</td>\n",
       "      <td>2022-07-19</td>\n",
       "      <td>1000</td>\n",
       "      <td>[Bootstrap, CSS, HTML, JavaScript, jQuery]</td>\n",
       "      <td>['Certificate', 'Letter of recommendation', '5...</td>\n",
       "      <td>4</td>\n",
       "      <td>https://internshala.com/internship/detail/back...</td>\n",
       "    </tr>\n",
       "    <tr>\n",
       "      <th>543</th>\n",
       "      <td>Front End Development (Shopify Website (Liquid))</td>\n",
       "      <td>Messold Technologies</td>\n",
       "      <td>['Work From Home']</td>\n",
       "      <td>6</td>\n",
       "      <td>6000.0</td>\n",
       "      <td>2022-07-19</td>\n",
       "      <td>1000</td>\n",
       "      <td>[CSS, HTML, JavaScript, jQuery]</td>\n",
       "      <td>['Certificate', 'Letter of recommendation', '5...</td>\n",
       "      <td>2</td>\n",
       "      <td>https://internshala.com/internship/detail/fron...</td>\n",
       "    </tr>\n",
       "    <tr>\n",
       "      <th>544</th>\n",
       "      <td>Web Development</td>\n",
       "      <td>Innowyze Global Solutions</td>\n",
       "      <td>['Work From Home']</td>\n",
       "      <td>6</td>\n",
       "      <td>10000.0</td>\n",
       "      <td>2022-07-17</td>\n",
       "      <td>461</td>\n",
       "      <td>[CSS, Express.js, HTML, JavaScript, Node.js]</td>\n",
       "      <td>['Certificate']</td>\n",
       "      <td>5</td>\n",
       "      <td>https://internshala.com/internship/detail/web-...</td>\n",
       "    </tr>\n",
       "  </tbody>\n",
       "</table>\n",
       "<p>545 rows × 11 columns</p>\n",
       "</div>"
      ],
      "text/plain": [
       "                                                title  \\\n",
       "0                         Market Research (Analytics)   \n",
       "1                                     Web Development   \n",
       "2                               WordPress Development   \n",
       "3                           WordPress Web Development   \n",
       "4                               WordPress Development   \n",
       "..                                                ...   \n",
       "540                               Backend Development   \n",
       "541                             Quantitative Research   \n",
       "542                              Backend Developement   \n",
       "543  Front End Development (Shopify Website (Liquid))   \n",
       "544                                   Web Development   \n",
       "\n",
       "                                             company  \\\n",
       "0                                   Justdial Limited   \n",
       "1                                         IIT Bombay   \n",
       "2    NoBroker Technologies Solutions Private Limited   \n",
       "3                                 Mechatron Robotics   \n",
       "4                                            Akeshya   \n",
       "..                                               ...   \n",
       "540             Cognitio Eduventures Private Limited   \n",
       "541                                        AR Quants   \n",
       "542                             Messold Technologies   \n",
       "543                             Messold Technologies   \n",
       "544                        Innowyze Global Solutions   \n",
       "\n",
       "                             location  duration  stipend   apply_by  \\\n",
       "0    ['Delhi', 'Bangalore', 'Mumbai']         2   2000.0 2022-07-21   \n",
       "1                  ['Work From Home']         6   2000.0 2022-07-20   \n",
       "2                       ['Bangalore']         3   8000.0 2022-07-19   \n",
       "3                  ['Work From Home']         6   5000.0 2022-07-26   \n",
       "4                  ['Work From Home']         3   4000.0 2022-07-26   \n",
       "..                                ...       ...      ...        ...   \n",
       "540                ['Work From Home']         4  15000.0 2022-07-20   \n",
       "541                ['Work From Home']         3   1000.0 2022-07-15   \n",
       "542                ['Work From Home']         6   6000.0 2022-07-19   \n",
       "543                ['Work From Home']         6   6000.0 2022-07-19   \n",
       "544                ['Work From Home']         6  10000.0 2022-07-17   \n",
       "\n",
       "     applicants                                             skills  \\\n",
       "0           132  [MS-Excel, MS-Office, MS-PowerPoint, Research ...   \n",
       "1           187                                  [Django, MongoDB]   \n",
       "2            47  [CSS, HTML, Java, JavaFX, JavaScript, jQuery, ...   \n",
       "3             0                                        [WordPress]   \n",
       "4            66                             [CSS, HTML, WordPress]   \n",
       "..          ...                                                ...   \n",
       "540         290  [Amazon Web Server (AWS), Apache Cassandra, Ja...   \n",
       "541          78  [C++ Programming, Data Structures, Investing, ...   \n",
       "542        1000         [Bootstrap, CSS, HTML, JavaScript, jQuery]   \n",
       "543        1000                    [CSS, HTML, JavaScript, jQuery]   \n",
       "544         461       [CSS, Express.js, HTML, JavaScript, Node.js]   \n",
       "\n",
       "                                                 perks  openings  \\\n",
       "0               ['Certificate', 'Flexible work hours']         5   \n",
       "1    ['Certificate', 'Letter of recommendation', 'F...         2   \n",
       "2    ['Certificate', 'Letter of recommendation', 'F...         4   \n",
       "3          ['Certificate', 'Letter of recommendation']         2   \n",
       "4    ['Certificate', 'Letter of recommendation', 'F...         4   \n",
       "..                                                 ...       ...   \n",
       "540  ['Certificate', 'Letter of recommendation', 'F...         3   \n",
       "541                                                 []         5   \n",
       "542  ['Certificate', 'Letter of recommendation', '5...         4   \n",
       "543  ['Certificate', 'Letter of recommendation', '5...         2   \n",
       "544                                    ['Certificate']         5   \n",
       "\n",
       "                                                   url  \n",
       "0    https://internshala.com/internship/detail/mark...  \n",
       "1    https://internshala.com/internship/detail/web-...  \n",
       "2    https://internshala.com/internship/detail/word...  \n",
       "3    https://internshala.com/internship/detail/word...  \n",
       "4    https://internshala.com/internship/detail/word...  \n",
       "..                                                 ...  \n",
       "540  https://internshala.com/internship/detail/back...  \n",
       "541  https://internshala.com/internship/detail/quan...  \n",
       "542  https://internshala.com/internship/detail/back...  \n",
       "543  https://internshala.com/internship/detail/fron...  \n",
       "544  https://internshala.com/internship/detail/web-...  \n",
       "\n",
       "[545 rows x 11 columns]"
      ]
     },
     "execution_count": 189,
     "metadata": {},
     "output_type": "execute_result"
    }
   ],
   "source": [
    "df"
   ]
  },
  {
   "cell_type": "code",
   "execution_count": 190,
   "metadata": {},
   "outputs": [
    {
     "data": {
      "text/plain": [
       "['MS-Excel', 'MS-Office', 'MS-PowerPoint', 'Research and Analytics']"
      ]
     },
     "execution_count": 190,
     "metadata": {},
     "output_type": "execute_result"
    }
   ],
   "source": [
    "df[\"skills\"][0]"
   ]
  },
  {
   "cell_type": "code",
   "execution_count": 47,
   "metadata": {},
   "outputs": [
    {
     "data": {
      "text/html": [
       "<div>\n",
       "<style scoped>\n",
       "    .dataframe tbody tr th:only-of-type {\n",
       "        vertical-align: middle;\n",
       "    }\n",
       "\n",
       "    .dataframe tbody tr th {\n",
       "        vertical-align: top;\n",
       "    }\n",
       "\n",
       "    .dataframe thead th {\n",
       "        text-align: right;\n",
       "    }\n",
       "</style>\n",
       "<table border=\"1\" class=\"dataframe\">\n",
       "  <thead>\n",
       "    <tr style=\"text-align: right;\">\n",
       "      <th></th>\n",
       "      <th>Skill</th>\n",
       "      <th>Count</th>\n",
       "    </tr>\n",
       "  </thead>\n",
       "  <tbody>\n",
       "    <tr>\n",
       "      <th>0</th>\n",
       "      <td>Machine Learning</td>\n",
       "      <td>11</td>\n",
       "    </tr>\n",
       "    <tr>\n",
       "      <th>1</th>\n",
       "      <td>Python</td>\n",
       "      <td>10</td>\n",
       "    </tr>\n",
       "    <tr>\n",
       "      <th>2</th>\n",
       "      <td>Data Science</td>\n",
       "      <td>7</td>\n",
       "    </tr>\n",
       "    <tr>\n",
       "      <th>3</th>\n",
       "      <td>Computer Vision</td>\n",
       "      <td>6</td>\n",
       "    </tr>\n",
       "    <tr>\n",
       "      <th>4</th>\n",
       "      <td>Artifical Intelligence</td>\n",
       "      <td>5</td>\n",
       "    </tr>\n",
       "    <tr>\n",
       "      <th>5</th>\n",
       "      <td>Deep Learning</td>\n",
       "      <td>5</td>\n",
       "    </tr>\n",
       "    <tr>\n",
       "      <th>6</th>\n",
       "      <td>Data Analytics</td>\n",
       "      <td>4</td>\n",
       "    </tr>\n",
       "    <tr>\n",
       "      <th>7</th>\n",
       "      <td>Natural Language Processing (NLP)</td>\n",
       "      <td>4</td>\n",
       "    </tr>\n",
       "    <tr>\n",
       "      <th>8</th>\n",
       "      <td>SQL</td>\n",
       "      <td>3</td>\n",
       "    </tr>\n",
       "    <tr>\n",
       "      <th>9</th>\n",
       "      <td>Google Cloud Computing</td>\n",
       "      <td>2</td>\n",
       "    </tr>\n",
       "  </tbody>\n",
       "</table>\n",
       "</div>"
      ],
      "text/plain": [
       "                               Skill  Count\n",
       "0                   Machine Learning     11\n",
       "1                             Python     10\n",
       "2                       Data Science      7\n",
       "3                    Computer Vision      6\n",
       "4             Artifical Intelligence      5\n",
       "5                      Deep Learning      5\n",
       "6                     Data Analytics      4\n",
       "7  Natural Language Processing (NLP)      4\n",
       "8                                SQL      3\n",
       "9             Google Cloud Computing      2"
      ]
     },
     "execution_count": 47,
     "metadata": {},
     "output_type": "execute_result"
    }
   ],
   "source": [
    "from collections import Counter\n",
    "import operator\n",
    "\n",
    "s_list = []\n",
    "for i in df[\"skills\"]:\n",
    "    s_list += i\n",
    "\n",
    "skill_cnt = dict(Counter(s_list))\n",
    "skill_cnt_dict = dict(sorted(skill_cnt.items(), key=operator.itemgetter(1),reverse=True))\n",
    "skill_count_df = pd.DataFrame(skill_cnt_dict.items(), columns=['Skill', 'Count'])\n",
    "skill_count_df[:10]"
   ]
  },
  {
   "cell_type": "code",
   "execution_count": 66,
   "metadata": {},
   "outputs": [],
   "source": [
    "top10_skill_df = skill_count_df[:10].set_index(\"Skill\").squeeze()"
   ]
  },
  {
   "cell_type": "code",
   "execution_count": 67,
   "metadata": {},
   "outputs": [],
   "source": [
    "import matplotlib.pyplot as plt\n",
    "import seaborn as sns"
   ]
  },
  {
   "cell_type": "code",
   "execution_count": 71,
   "metadata": {},
   "outputs": [
    {
     "data": {
      "text/plain": [
       "Skill\n",
       "Machine Learning                     11\n",
       "Python                               10\n",
       "Data Science                          7\n",
       "Computer Vision                       6\n",
       "Artifical Intelligence                5\n",
       "Deep Learning                         5\n",
       "Data Analytics                        4\n",
       "Natural Language Processing (NLP)     4\n",
       "SQL                                   3\n",
       "Google Cloud Computing                2\n",
       "Name: Count, dtype: int64"
      ]
     },
     "execution_count": 71,
     "metadata": {},
     "output_type": "execute_result"
    }
   ],
   "source": [
    "top10_skill_df"
   ]
  },
  {
   "cell_type": "code",
   "execution_count": 80,
   "metadata": {},
   "outputs": [
    {
     "data": {
      "image/png": "[encoded data removed]",
      "text/plain": [
       "<Figure size 432x288 with 1 Axes>"
      ]
     },
     "metadata": {},
     "output_type": "display_data"
    }
   ],
   "source": [
    "sns.set()\n",
    "ax = sns.barplot(x = top10_skill_df.values, y = top10_skill_df.index, color='b')\n",
    "abs_values = top10_skill_df.values\n",
    "ax.bar_label(container=ax.containers[0], labels=abs_values)\n",
    "plt.title(\"Top 10 Skills in Highest Demand\")\n",
    "plt.xlabel(\"Count\")\n",
    "plt.ylabel(\"Skill\")\n",
    "# plt.savefig(\"abcd.png\", bbox_inches = \"tight\")"
   ]
  },
  {
   "cell_type": "code",
   "execution_count": 192,
   "metadata": {},
   "outputs": [
    {
     "data": {
      "text/html": [
       "<div>\n",
       "<style scoped>\n",
       "    .dataframe tbody tr th:only-of-type {\n",
       "        vertical-align: middle;\n",
       "    }\n",
       "\n",
       "    .dataframe tbody tr th {\n",
       "        vertical-align: top;\n",
       "    }\n",
       "\n",
       "    .dataframe thead th {\n",
       "        text-align: right;\n",
       "    }\n",
       "</style>\n",
       "<table border=\"1\" class=\"dataframe\">\n",
       "  <thead>\n",
       "    <tr style=\"text-align: right;\">\n",
       "      <th></th>\n",
       "      <th>Skill</th>\n",
       "      <th>Count</th>\n",
       "    </tr>\n",
       "  </thead>\n",
       "  <tbody>\n",
       "    <tr>\n",
       "      <th>0</th>\n",
       "      <td>Certificate</td>\n",
       "      <td>467</td>\n",
       "    </tr>\n",
       "    <tr>\n",
       "      <th>1</th>\n",
       "      <td>Letter of recommendation</td>\n",
       "      <td>366</td>\n",
       "    </tr>\n",
       "    <tr>\n",
       "      <th>2</th>\n",
       "      <td>Flexible work hours</td>\n",
       "      <td>343</td>\n",
       "    </tr>\n",
       "    <tr>\n",
       "      <th>3</th>\n",
       "      <td>5 days a week</td>\n",
       "      <td>219</td>\n",
       "    </tr>\n",
       "    <tr>\n",
       "      <th>4</th>\n",
       "      <td>Job offer</td>\n",
       "      <td>150</td>\n",
       "    </tr>\n",
       "    <tr>\n",
       "      <th>5</th>\n",
       "      <td>Informal dress code</td>\n",
       "      <td>45</td>\n",
       "    </tr>\n",
       "    <tr>\n",
       "      <th>6</th>\n",
       "      <td>Free snacks &amp; beverages</td>\n",
       "      <td>30</td>\n",
       "    </tr>\n",
       "  </tbody>\n",
       "</table>\n",
       "</div>"
      ],
      "text/plain": [
       "                      Skill  Count\n",
       "0               Certificate    467\n",
       "1  Letter of recommendation    366\n",
       "2       Flexible work hours    343\n",
       "3             5 days a week    219\n",
       "4                 Job offer    150\n",
       "5       Informal dress code     45\n",
       "6   Free snacks & beverages     30"
      ]
     },
     "execution_count": 192,
     "metadata": {},
     "output_type": "execute_result"
    }
   ],
   "source": [
    "df[\"perks\"] = df[\"perks\"].apply(lambda x: ast.literal_eval(x))\n",
    "p_list = []\n",
    "for i in df[\"perks\"]:\n",
    "    p_list += i\n",
    "\n",
    "perk_cnt = dict(Counter(p_list))\n",
    "perk_cnt_dict = dict(sorted(perk_cnt.items(), key=operator.itemgetter(1),reverse=True))\n",
    "perk_count_df = pd.DataFrame(perk_cnt_dict.items(), columns=['Skill', 'Count'])\n",
    "perk_count_df[:10]"
   ]
  },
  {
   "cell_type": "code",
   "execution_count": 215,
   "metadata": {},
   "outputs": [
    {
     "data": {
      "text/plain": [
       "[0]"
      ]
     },
     "execution_count": 215,
     "metadata": {},
     "output_type": "execute_result"
    }
   ],
   "source": [
    "df[df.isna().any(axis=1)].index.to_list()\n",
    "# index of all rows that have any nulls... will validate bad data out and you can log that row"
   ]
  },
  {
   "cell_type": "code",
   "execution_count": 217,
   "metadata": {},
   "outputs": [],
   "source": [
    "bad_data = [0, 1, 2, 4, 5]"
   ]
  },
  {
   "cell_type": "code",
   "execution_count": 220,
   "metadata": {},
   "outputs": [
    {
     "data": {
      "text/plain": [
       "'{\"title\":{\"0\":\"Market Research (Analytics)\",\"1\":\"Web Development\",\"2\":\"WordPress Development\",\"4\":\"WordPress Development\",\"5\":\"Web Development\"},\"company\":{\"0\":\"Justdial Limited\",\"1\":\"IIT Bombay\",\"2\":\"NoBroker Technologies Solutions Private Limited\",\"4\":\"Akeshya\",\"5\":\"SilverOakHealth\"},\"location\":{\"0\":\"[\\'Delhi\\', \\'Bangalore\\', \\'Mumbai\\']\",\"1\":\"[\\'Work From Home\\']\",\"2\":\"[\\'Bangalore\\']\",\"4\":\"[\\'Work From Home\\']\",\"5\":\"[\\'Work From Home\\']\"},\"duration\":{\"0\":null,\"1\":6.0,\"2\":3.0,\"4\":3.0,\"5\":2.0},\"stipend\":{\"0\":\"2000 \\\\/month +  Incentives\",\"1\":\"2000-5000 \\\\/month\",\"2\":\"8000 \\\\/month\",\"4\":\"4000 \\\\/month +  Incentives\",\"5\":\"10000 \\\\/month\"},\"apply_by\":{\"0\":\"21 Jul\\' 22\",\"1\":\"20 Jul\\' 22\",\"2\":\"19 Jul\\' 22\",\"4\":\"26 Jul\\' 22\",\"5\":\"26 Jul\\' 22\"},\"applicants\":{\"0\":\"132 applicants\",\"1\":\"187 applicants\",\"2\":\"47 applicants\",\"4\":\"66 applicants\",\"5\":\"121 applicants\"},\"skills\":{\"0\":\"[\\'MS-Excel\\', \\'MS-Office\\', \\'MS-PowerPoint\\', \\'Research and Analytics\\']\",\"1\":\"[\\'Django\\', \\'MongoDB\\']\",\"2\":\"[\\'CSS\\', \\'HTML\\', \\'Java\\', \\'JavaFX\\', \\'JavaScript\\', \\'jQuery\\', \\'MySQL\\', \\'PHP\\', \\'WordPress\\']\",\"4\":\"[\\'CSS\\', \\'HTML\\', \\'WordPress\\']\",\"5\":\"[\\'Bootstrap\\', \\'CSS\\', \\'HTML\\', \\'JavaScript\\', \\'jQuery\\', \\'MySQL\\', \\'PHP\\']\"},\"perks\":{\"0\":\"[\\'Certificate\\', \\'Flexible work hours\\']\",\"1\":\"[\\'Certificate\\', \\'Letter of recommendation\\', \\'Flexible work hours\\', \\'5 days a week\\']\",\"2\":\"[\\'Certificate\\', \\'Letter of recommendation\\', \\'Flexible work hours\\', \\'Informal dress code\\', \\'5 days a week\\', \\'Free snacks & beverages\\']\",\"4\":\"[\\'Certificate\\', \\'Letter of recommendation\\', \\'Flexible work hours\\', \\'5 days a week\\']\",\"5\":\"[\\'Certificate\\', \\'Letter of recommendation\\', \\'Flexible work hours\\', \\'5 days a week\\']\"},\"openings\":{\"0\":5,\"1\":2,\"2\":4,\"4\":4,\"5\":10},\"url\":{\"0\":\"https:\\\\/\\\\/internshala.com\\\\/internship\\\\/detail\\\\/market-research-analytics-internship-in-multiple-locations-at-justdial-limited1657168942\",\"1\":\"https:\\\\/\\\\/internshala.com\\\\/internship\\\\/detail\\\\/web-development-work-from-home-job-internship-at-iit-bombay1657015519\",\"2\":\"https:\\\\/\\\\/internshala.com\\\\/internship\\\\/detail\\\\/wordpress-development-internship-in-bangalore-at-nobroker-technologies-solutions-private-limited1657018408\",\"4\":\"https:\\\\/\\\\/internshala.com\\\\/internship\\\\/detail\\\\/wordpress-development-work-from-home-job-internship-at-akeshya1652856830\",\"5\":\"https:\\\\/\\\\/internshala.com\\\\/internship\\\\/detail\\\\/web-development-work-from-home-job-internship-at-silveroakhealth1657639633\"}}'"
      ]
     },
     "execution_count": 220,
     "metadata": {},
     "output_type": "execute_result"
    }
   ],
   "source": [
    "df.loc[bad_data].to_json()"
   ]
  },
  {
   "cell_type": "code",
   "execution_count": null,
   "metadata": {},
   "outputs": [],
   "source": [
    "with open(\"bad_data_files.log\", \"w\") as f:\n",
    "    for file in bad_data_list:\n",
    "        f.write(file + \"\\n\")\n",
    "    f.close()"
   ]
  },
  {
   "cell_type": "code",
   "execution_count": 6,
   "metadata": {},
   "outputs": [],
   "source": [
    "import pandas as pd\n",
    "import ast\n",
    "df = pd.read_csv(\"..\\data\\processed\\prp_data.csv\", parse_dates=[\"apply_by\"])\n",
    "df[\"skills\"] = df[\"skills\"].apply(lambda x: ast.literal_eval(x))\n",
    "df[\"perks\"] = df[\"perks\"].apply(lambda x: ast.literal_eval(x))\n",
    "df[\"apply_by\"] = df[\"apply_by\"].astype(\"int\")"
   ]
  },
  {
   "cell_type": "code",
   "execution_count": 7,
   "metadata": {},
   "outputs": [
    {
     "name": "stdout",
     "output_type": "stream",
     "text": [
      "<class 'pandas.core.frame.DataFrame'>\n",
      "RangeIndex: 16 entries, 0 to 15\n",
      "Data columns (total 11 columns):\n",
      " #   Column      Non-Null Count  Dtype  \n",
      "---  ------      --------------  -----  \n",
      " 0   title       16 non-null     object \n",
      " 1   company     16 non-null     object \n",
      " 2   location    16 non-null     object \n",
      " 3   duration    16 non-null     float64\n",
      " 4   stipend     16 non-null     float64\n",
      " 5   apply_by    16 non-null     int32  \n",
      " 6   applicants  16 non-null     float64\n",
      " 7   skills      16 non-null     object \n",
      " 8   perks       16 non-null     object \n",
      " 9   openings    16 non-null     int64  \n",
      " 10  url         16 non-null     object \n",
      "dtypes: float64(3), int32(1), int64(1), object(6)\n",
      "memory usage: 1.4+ KB\n"
     ]
    }
   ],
   "source": [
    "df.info()"
   ]
  },
  {
   "cell_type": "code",
   "execution_count": 8,
   "metadata": {},
   "outputs": [
    {
     "name": "stdout",
     "output_type": "stream",
     "text": [
      "Average duration is 4 month(s)\n",
      "Minimum duration is 1 month(s) offered by 1 internship(s)\n",
      "Maximum duration is 6 month(s) offered by 5 internship(s)\n"
     ]
    }
   ],
   "source": [
    "d_avg = round(df[\"duration\"].mean())\n",
    "d_min = round(df[\"duration\"].min())\n",
    "d_min_count = (df[\"duration\"] == d_min).sum()\n",
    "d_max = round(df[\"duration\"].max())\n",
    "d_max_count = (df[\"duration\"] == d_max).sum()\n",
    "print(f\"Average duration is {d_avg} month(s)\")\n",
    "print(f\"Minimum duration is {d_min} month(s) offered by {d_min_count} internship(s)\")\n",
    "print(f\"Maximum duration is {d_max} month(s) offered by {d_max_count} internship(s)\")"
   ]
  },
  {
   "cell_type": "code",
   "execution_count": 9,
   "metadata": {},
   "outputs": [
    {
     "name": "stdout",
     "output_type": "stream",
     "text": [
      "Average stipend is Rs.8688 / month\n",
      "Maximum stipend is Rs.30000 / month offered by 1 internship(s)\n"
     ]
    }
   ],
   "source": [
    "s_avg = round(df[\"stipend\"].mean())\n",
    "s_max = round(df[\"stipend\"].max())\n",
    "s_max_count = (df[\"stipend\"] == s_max).sum()\n",
    "print(f\"Average stipend is Rs.{s_avg} / month\")\n",
    "print(f\"Maximum stipend is Rs.{s_max} / month offered by {s_max_count} internship(s)\")"
   ]
  },
  {
   "cell_type": "code",
   "execution_count": 112,
   "metadata": {},
   "outputs": [
    {
     "name": "stdout",
     "output_type": "stream",
     "text": [
      "Hurry up! 2 internships expiring in 0 day(s)!\n"
     ]
    }
   ],
   "source": [
    "least_days = df[\"apply_by\"].sort_values()[0:1].tolist()[0]\n",
    "least_days_internship_count = (df[\"apply_by\"] == least_days).sum()\n",
    "if least_days <= 0:\n",
    "    f\"Hurry up! {least_days_internship_count} internships expiring by today!!!\"\n",
    "print(f\"Hurry up! {least_days_internship_count} internships expiring in {least_days} day(s)!\")\n",
    "# add if else for today and tommorrow"
   ]
  },
  {
   "cell_type": "code",
   "execution_count": null,
   "metadata": {},
   "outputs": [],
   "source": []
  },
  {
   "cell_type": "code",
   "execution_count": 11,
   "metadata": {},
   "outputs": [
    {
     "name": "stdout",
     "output_type": "stream",
     "text": [
      "0 internships are in early application stage, apply fast !!!\n",
      "0 internships have 1000+ applicants, not very likely to receive response...\n"
     ]
    }
   ],
   "source": [
    "early_appl_stage = (df[\"applicants\"] == 0).sum()\n",
    "thousand_plus = (df[\"applicants\"] == 1000).sum()\n",
    "print(f\"{early_appl_stage} internships are in early application stage, apply fast !!!\")\n",
    "print(f\"{thousand_plus} internships have 1000+ applicants, not very likely to receive response...\")"
   ]
  },
  {
   "cell_type": "code",
   "execution_count": 12,
   "metadata": {},
   "outputs": [
    {
     "name": "stdout",
     "output_type": "stream",
     "text": [
      "Average applicants is 332 / internship\n"
     ]
    }
   ],
   "source": [
    "applicants_srs = df[(df[\"applicants\"] != 0) & (df[\"applicants\"] != 1000)][\"applicants\"]\n",
    "a_avg = round(applicants_srs.mean())\n",
    "a_min = round(applicants_srs.min())\n",
    "a_max = round(applicants_srs.max())\n",
    "print(f\"Average applicants is {a_avg} / internship\")"
   ]
  },
  {
   "cell_type": "code",
   "execution_count": 13,
   "metadata": {},
   "outputs": [
    {
     "data": {
      "text/html": [
       "<div>\n",
       "<style scoped>\n",
       "    .dataframe tbody tr th:only-of-type {\n",
       "        vertical-align: middle;\n",
       "    }\n",
       "\n",
       "    .dataframe tbody tr th {\n",
       "        vertical-align: top;\n",
       "    }\n",
       "\n",
       "    .dataframe thead th {\n",
       "        text-align: right;\n",
       "    }\n",
       "</style>\n",
       "<table border=\"1\" class=\"dataframe\">\n",
       "  <thead>\n",
       "    <tr style=\"text-align: right;\">\n",
       "      <th></th>\n",
       "      <th>Skill</th>\n",
       "      <th>Count</th>\n",
       "    </tr>\n",
       "  </thead>\n",
       "  <tbody>\n",
       "    <tr>\n",
       "      <th>0</th>\n",
       "      <td>Machine Learning</td>\n",
       "      <td>11</td>\n",
       "    </tr>\n",
       "    <tr>\n",
       "      <th>1</th>\n",
       "      <td>Python</td>\n",
       "      <td>10</td>\n",
       "    </tr>\n",
       "    <tr>\n",
       "      <th>2</th>\n",
       "      <td>Data Science</td>\n",
       "      <td>7</td>\n",
       "    </tr>\n",
       "    <tr>\n",
       "      <th>3</th>\n",
       "      <td>Computer Vision</td>\n",
       "      <td>6</td>\n",
       "    </tr>\n",
       "    <tr>\n",
       "      <th>4</th>\n",
       "      <td>Artifical Intelligence</td>\n",
       "      <td>5</td>\n",
       "    </tr>\n",
       "    <tr>\n",
       "      <th>5</th>\n",
       "      <td>Deep Learning</td>\n",
       "      <td>5</td>\n",
       "    </tr>\n",
       "    <tr>\n",
       "      <th>6</th>\n",
       "      <td>Data Analytics</td>\n",
       "      <td>4</td>\n",
       "    </tr>\n",
       "    <tr>\n",
       "      <th>7</th>\n",
       "      <td>Natural Language Processing (NLP)</td>\n",
       "      <td>4</td>\n",
       "    </tr>\n",
       "    <tr>\n",
       "      <th>8</th>\n",
       "      <td>SQL</td>\n",
       "      <td>3</td>\n",
       "    </tr>\n",
       "    <tr>\n",
       "      <th>9</th>\n",
       "      <td>Google Cloud Computing</td>\n",
       "      <td>2</td>\n",
       "    </tr>\n",
       "  </tbody>\n",
       "</table>\n",
       "</div>"
      ],
      "text/plain": [
       "                               Skill  Count\n",
       "0                   Machine Learning     11\n",
       "1                             Python     10\n",
       "2                       Data Science      7\n",
       "3                    Computer Vision      6\n",
       "4             Artifical Intelligence      5\n",
       "5                      Deep Learning      5\n",
       "6                     Data Analytics      4\n",
       "7  Natural Language Processing (NLP)      4\n",
       "8                                SQL      3\n",
       "9             Google Cloud Computing      2"
      ]
     },
     "execution_count": 13,
     "metadata": {},
     "output_type": "execute_result"
    }
   ],
   "source": [
    "from collections import Counter\n",
    "import operator\n",
    "\n",
    "s_list = []\n",
    "for i in df[\"skills\"]:\n",
    "    s_list += i\n",
    "\n",
    "skill_cnt = dict(Counter(s_list))\n",
    "skill_cnt_dict = dict(sorted(skill_cnt.items(), key=operator.itemgetter(1),reverse=True))\n",
    "skill_count_df = pd.DataFrame(skill_cnt_dict.items(), columns=['Skill', 'Count'])\n",
    "skill_count_df[:10]\n",
    "# top 10 skills highest in demand"
   ]
  },
  {
   "cell_type": "code",
   "execution_count": 81,
   "metadata": {},
   "outputs": [
    {
     "data": {
      "text/html": [
       "<div>\n",
       "<style scoped>\n",
       "    .dataframe tbody tr th:only-of-type {\n",
       "        vertical-align: middle;\n",
       "    }\n",
       "\n",
       "    .dataframe tbody tr th {\n",
       "        vertical-align: top;\n",
       "    }\n",
       "\n",
       "    .dataframe thead th {\n",
       "        text-align: right;\n",
       "    }\n",
       "</style>\n",
       "<table border=\"1\" class=\"dataframe\">\n",
       "  <thead>\n",
       "    <tr style=\"text-align: right;\">\n",
       "      <th></th>\n",
       "      <th>Skill</th>\n",
       "      <th>Count</th>\n",
       "    </tr>\n",
       "  </thead>\n",
       "  <tbody>\n",
       "    <tr>\n",
       "      <th>0</th>\n",
       "      <td>Certificate</td>\n",
       "      <td>13</td>\n",
       "    </tr>\n",
       "    <tr>\n",
       "      <th>1</th>\n",
       "      <td>Letter of recommendation</td>\n",
       "      <td>13</td>\n",
       "    </tr>\n",
       "    <tr>\n",
       "      <th>2</th>\n",
       "      <td>Flexible work hours</td>\n",
       "      <td>13</td>\n",
       "    </tr>\n",
       "    <tr>\n",
       "      <th>3</th>\n",
       "      <td>5 days a week</td>\n",
       "      <td>7</td>\n",
       "    </tr>\n",
       "    <tr>\n",
       "      <th>4</th>\n",
       "      <td>Job offer</td>\n",
       "      <td>5</td>\n",
       "    </tr>\n",
       "  </tbody>\n",
       "</table>\n",
       "</div>"
      ],
      "text/plain": [
       "                      Skill  Count\n",
       "0               Certificate     13\n",
       "1  Letter of recommendation     13\n",
       "2       Flexible work hours     13\n",
       "3             5 days a week      7\n",
       "4                 Job offer      5"
      ]
     },
     "execution_count": 81,
     "metadata": {},
     "output_type": "execute_result"
    }
   ],
   "source": [
    "p_list = []\n",
    "for i in df[\"perks\"]:\n",
    "    p_list += i\n",
    "\n",
    "perk_cnt = dict(Counter(p_list))\n",
    "perk_cnt_dict = dict(sorted(perk_cnt.items(), key=operator.itemgetter(1),reverse=True))\n",
    "perk_count_df = pd.DataFrame(perk_cnt_dict.items(), columns=['Skill', 'Count'])\n",
    "perk_count_df[:5]\n",
    "# top 5 perks most commonly on offer"
   ]
  },
  {
   "cell_type": "code",
   "execution_count": 15,
   "metadata": {},
   "outputs": [
    {
     "name": "stdout",
     "output_type": "stream",
     "text": [
      "Average openings is 4 / internship\n",
      "Maximum openings in an internship is 10\n"
     ]
    }
   ],
   "source": [
    "o_avg = round(df[\"openings\"].mean())\n",
    "o_max = round(df[\"openings\"].max())\n",
    "print(f\"Average openings is {o_avg} / internship\")\n",
    "print(f\"Maximum openings in an internship is {o_max}\")"
   ]
  },
  {
   "cell_type": "code",
   "execution_count": 16,
   "metadata": {},
   "outputs": [
    {
     "data": {
      "text/html": [
       "<div>\n",
       "<style scoped>\n",
       "    .dataframe tbody tr th:only-of-type {\n",
       "        vertical-align: middle;\n",
       "    }\n",
       "\n",
       "    .dataframe tbody tr th {\n",
       "        vertical-align: top;\n",
       "    }\n",
       "\n",
       "    .dataframe thead th {\n",
       "        text-align: right;\n",
       "    }\n",
       "</style>\n",
       "<table border=\"1\" class=\"dataframe\">\n",
       "  <thead>\n",
       "    <tr style=\"text-align: right;\">\n",
       "      <th></th>\n",
       "      <th>title</th>\n",
       "      <th>company</th>\n",
       "      <th>location</th>\n",
       "      <th>duration</th>\n",
       "      <th>stipend</th>\n",
       "      <th>apply_by</th>\n",
       "      <th>applicants</th>\n",
       "      <th>skills</th>\n",
       "      <th>perks</th>\n",
       "      <th>openings</th>\n",
       "      <th>url</th>\n",
       "    </tr>\n",
       "  </thead>\n",
       "  <tbody>\n",
       "    <tr>\n",
       "      <th>0</th>\n",
       "      <td>Data Engineering</td>\n",
       "      <td>Blackcoffer</td>\n",
       "      <td>['Work From Home']</td>\n",
       "      <td>6.0</td>\n",
       "      <td>7000.0</td>\n",
       "      <td>11</td>\n",
       "      <td>155.0</td>\n",
       "      <td>[Amazon Web Server (AWS), Artifical Intelligen...</td>\n",
       "      <td>[Certificate, Letter of recommendation, Flexib...</td>\n",
       "      <td>10</td>\n",
       "      <td>https://internshala.com/internship/detail/data...</td>\n",
       "    </tr>\n",
       "    <tr>\n",
       "      <th>1</th>\n",
       "      <td>Teaching (Basics of Python &amp; Machine Learning)</td>\n",
       "      <td>SURE Trust</td>\n",
       "      <td>['Work From Home']</td>\n",
       "      <td>4.0</td>\n",
       "      <td>0.0</td>\n",
       "      <td>10</td>\n",
       "      <td>138.0</td>\n",
       "      <td>[Machine Learning, Python]</td>\n",
       "      <td>[Certificate, Letter of recommendation, Flexib...</td>\n",
       "      <td>4</td>\n",
       "      <td>https://internshala.com/internship/detail/teac...</td>\n",
       "    </tr>\n",
       "    <tr>\n",
       "      <th>2</th>\n",
       "      <td>Machine Learning/AI Research Content Writing</td>\n",
       "      <td>Marktechpost LLC</td>\n",
       "      <td>['Work From Home']</td>\n",
       "      <td>3.0</td>\n",
       "      <td>10000.0</td>\n",
       "      <td>8</td>\n",
       "      <td>167.0</td>\n",
       "      <td>[Artifical Intelligence, Data Science, Deep Le...</td>\n",
       "      <td>[Letter of recommendation, Flexible work hours]</td>\n",
       "      <td>1</td>\n",
       "      <td>https://internshala.com/internship/detail/mach...</td>\n",
       "    </tr>\n",
       "    <tr>\n",
       "      <th>3</th>\n",
       "      <td>Course Development</td>\n",
       "      <td>Childo Education Research And Development Foun...</td>\n",
       "      <td>['Work From Home']</td>\n",
       "      <td>1.0</td>\n",
       "      <td>0.0</td>\n",
       "      <td>8</td>\n",
       "      <td>284.0</td>\n",
       "      <td>[]</td>\n",
       "      <td>[Certificate, Letter of recommendation, Flexib...</td>\n",
       "      <td>5</td>\n",
       "      <td>https://internshala.com/internship/detail/cour...</td>\n",
       "    </tr>\n",
       "    <tr>\n",
       "      <th>4</th>\n",
       "      <td>Curriculum Development (AI/ML)</td>\n",
       "      <td>Sustainable Living Lab (SL2)</td>\n",
       "      <td>['Work From Home']</td>\n",
       "      <td>3.0</td>\n",
       "      <td>15000.0</td>\n",
       "      <td>7</td>\n",
       "      <td>670.0</td>\n",
       "      <td>[Artifical Intelligence, Data Science, Machine...</td>\n",
       "      <td>[Certificate, Letter of recommendation, Flexib...</td>\n",
       "      <td>3</td>\n",
       "      <td>https://internshala.com/internship/detail/curr...</td>\n",
       "    </tr>\n",
       "  </tbody>\n",
       "</table>\n",
       "</div>"
      ],
      "text/plain": [
       "                                            title  \\\n",
       "0                                Data Engineering   \n",
       "1  Teaching (Basics of Python & Machine Learning)   \n",
       "2    Machine Learning/AI Research Content Writing   \n",
       "3                              Course Development   \n",
       "4                  Curriculum Development (AI/ML)   \n",
       "\n",
       "                                             company            location  \\\n",
       "0                                        Blackcoffer  ['Work From Home']   \n",
       "1                                         SURE Trust  ['Work From Home']   \n",
       "2                                   Marktechpost LLC  ['Work From Home']   \n",
       "3  Childo Education Research And Development Foun...  ['Work From Home']   \n",
       "4                       Sustainable Living Lab (SL2)  ['Work From Home']   \n",
       "\n",
       "   duration  stipend  apply_by  applicants  \\\n",
       "0       6.0   7000.0        11       155.0   \n",
       "1       4.0      0.0        10       138.0   \n",
       "2       3.0  10000.0         8       167.0   \n",
       "3       1.0      0.0         8       284.0   \n",
       "4       3.0  15000.0         7       670.0   \n",
       "\n",
       "                                              skills  \\\n",
       "0  [Amazon Web Server (AWS), Artifical Intelligen...   \n",
       "1                         [Machine Learning, Python]   \n",
       "2  [Artifical Intelligence, Data Science, Deep Le...   \n",
       "3                                                 []   \n",
       "4  [Artifical Intelligence, Data Science, Machine...   \n",
       "\n",
       "                                               perks  openings  \\\n",
       "0  [Certificate, Letter of recommendation, Flexib...        10   \n",
       "1  [Certificate, Letter of recommendation, Flexib...         4   \n",
       "2    [Letter of recommendation, Flexible work hours]         1   \n",
       "3  [Certificate, Letter of recommendation, Flexib...         5   \n",
       "4  [Certificate, Letter of recommendation, Flexib...         3   \n",
       "\n",
       "                                                 url  \n",
       "0  https://internshala.com/internship/detail/data...  \n",
       "1  https://internshala.com/internship/detail/teac...  \n",
       "2  https://internshala.com/internship/detail/mach...  \n",
       "3  https://internshala.com/internship/detail/cour...  \n",
       "4  https://internshala.com/internship/detail/curr...  "
      ]
     },
     "execution_count": 16,
     "metadata": {},
     "output_type": "execute_result"
    }
   ],
   "source": [
    "df.head()"
   ]
  },
  {
   "cell_type": "code",
   "execution_count": 18,
   "metadata": {},
   "outputs": [
    {
     "data": {
      "text/plain": [
       "0     False\n",
       "1     False\n",
       "2     False\n",
       "3     False\n",
       "4     False\n",
       "5     False\n",
       "6     False\n",
       "7      True\n",
       "8     False\n",
       "9     False\n",
       "10    False\n",
       "11    False\n",
       "12    False\n",
       "13    False\n",
       "14    False\n",
       "15    False\n",
       "Name: skills, dtype: bool"
      ]
     },
     "execution_count": 18,
     "metadata": {},
     "output_type": "execute_result"
    }
   ],
   "source": [
    "(df[\"skills\"].astype(\"str\").str.lower().apply(lambda x: \"css\" in x))"
   ]
  },
  {
   "cell_type": "code",
   "execution_count": 19,
   "metadata": {},
   "outputs": [],
   "source": [
    "a = [3,4,5]\n",
    "b = [4,5,6]\n",
    "c = []"
   ]
  },
  {
   "cell_type": "code",
   "execution_count": 20,
   "metadata": {},
   "outputs": [
    {
     "data": {
      "text/plain": [
       "[3, 4, 5, 6]"
      ]
     },
     "execution_count": 20,
     "metadata": {},
     "output_type": "execute_result"
    }
   ],
   "source": [
    "c += a\n",
    "c += b\n",
    "list(set(c))"
   ]
  },
  {
   "cell_type": "code",
   "execution_count": 24,
   "metadata": {},
   "outputs": [],
   "source": [
    "import numpy as np\n",
    "def get_skills_intersection_index(skills_list):\n",
    "    intersection_skill_row_index = list(np.where(df[\"skills\"].astype(\"str\").str.lower().apply(lambda x: skills_list[0].lower() in x))[0])\n",
    "    for skill in skills_list:\n",
    "        sub_index = list(np.where(df[\"skills\"].astype(\"str\").str.lower().apply(lambda x: skill.lower() in x))[0])\n",
    "        intersection_skill_row_index = list(set(intersection_skill_row_index) & set(sub_index))\n",
    "    return intersection_skill_row_index"
   ]
  },
  {
   "cell_type": "code",
   "execution_count": 25,
   "metadata": {},
   "outputs": [],
   "source": [
    "skills_list = [\"css\", \"html\", \"python\", \"sql\", \"php\", \"mongodb\", \"tableau\", \"blabla\", \"werwer\", \"rwrwe\"] \n",
    "# add a spelling validation for each skill before passing\n",
    "intersection = get_skills_intersection_index(skills_list)"
   ]
  },
  {
   "cell_type": "code",
   "execution_count": 26,
   "metadata": {},
   "outputs": [
    {
     "name": "stdout",
     "output_type": "stream",
     "text": [
      "['css', 'html']\n",
      "                   title      company            location  duration  stipend  \\\n",
      "7  Front End Development  TrueFoundry  ['Work From Home']       3.0  30000.0   \n",
      "\n",
      "   apply_by  applicants                                    skills  \\\n",
      "7         5       403.0  [CSS, HTML, JavaScript, ReactJS, Vue Js]   \n",
      "\n",
      "                                               perks  openings  \\\n",
      "7  [Certificate, Letter of recommendation, Flexib...         3   \n",
      "\n",
      "                                                 url  \n",
      "7  https://internshala.com/internship/detail/fron...  \n"
     ]
    }
   ],
   "source": [
    "while not len(intersection) > 0:\n",
    "    if len(skills_list) > 0:\n",
    "        skills_list = skills_list[:-1]\n",
    "        intersection = get_skills_intersection_index(skills_list)\n",
    "    else:\n",
    "        break\n",
    "print(skills_list)\n",
    "if len(intersection) > 0:\n",
    "    print(df.loc[intersection])\n",
    "else:\n",
    "    print(\"Skills not found!\") # this can never happen if u validate the entries as above"
   ]
  },
  {
   "cell_type": "code",
   "execution_count": 27,
   "metadata": {},
   "outputs": [
    {
     "data": {
      "text/html": [
       "<div>\n",
       "<style scoped>\n",
       "    .dataframe tbody tr th:only-of-type {\n",
       "        vertical-align: middle;\n",
       "    }\n",
       "\n",
       "    .dataframe tbody tr th {\n",
       "        vertical-align: top;\n",
       "    }\n",
       "\n",
       "    .dataframe thead th {\n",
       "        text-align: right;\n",
       "    }\n",
       "</style>\n",
       "<table border=\"1\" class=\"dataframe\">\n",
       "  <thead>\n",
       "    <tr style=\"text-align: right;\">\n",
       "      <th></th>\n",
       "      <th>title</th>\n",
       "      <th>company</th>\n",
       "      <th>location</th>\n",
       "      <th>duration</th>\n",
       "      <th>stipend</th>\n",
       "      <th>apply_by</th>\n",
       "      <th>applicants</th>\n",
       "      <th>skills</th>\n",
       "      <th>perks</th>\n",
       "      <th>openings</th>\n",
       "      <th>url</th>\n",
       "    </tr>\n",
       "  </thead>\n",
       "  <tbody>\n",
       "    <tr>\n",
       "      <th>7</th>\n",
       "      <td>Front End Development</td>\n",
       "      <td>TrueFoundry</td>\n",
       "      <td>['Work From Home']</td>\n",
       "      <td>3.0</td>\n",
       "      <td>30000.0</td>\n",
       "      <td>5</td>\n",
       "      <td>403.0</td>\n",
       "      <td>[CSS, HTML, JavaScript, ReactJS, Vue Js]</td>\n",
       "      <td>[Certificate, Letter of recommendation, Flexib...</td>\n",
       "      <td>3</td>\n",
       "      <td>https://internshala.com/internship/detail/fron...</td>\n",
       "    </tr>\n",
       "  </tbody>\n",
       "</table>\n",
       "</div>"
      ],
      "text/plain": [
       "                   title      company            location  duration  stipend  \\\n",
       "7  Front End Development  TrueFoundry  ['Work From Home']       3.0  30000.0   \n",
       "\n",
       "   apply_by  applicants                                    skills  \\\n",
       "7         5       403.0  [CSS, HTML, JavaScript, ReactJS, Vue Js]   \n",
       "\n",
       "                                               perks  openings  \\\n",
       "7  [Certificate, Letter of recommendation, Flexib...         3   \n",
       "\n",
       "                                                 url  \n",
       "7  https://internshala.com/internship/detail/fron...  "
      ]
     },
     "execution_count": 27,
     "metadata": {},
     "output_type": "execute_result"
    }
   ],
   "source": [
    "df.loc[intersection]"
   ]
  },
  {
   "cell_type": "code",
   "execution_count": 28,
   "metadata": {},
   "outputs": [],
   "source": [
    "top10_result_index = list(df.loc[intersection][\"duration\"].apply(lambda x: abs(x-4)).sort_values()[:10].index)"
   ]
  },
  {
   "cell_type": "code",
   "execution_count": 29,
   "metadata": {},
   "outputs": [],
   "source": [
    "recommended_df = df.loc[top10_result_index].sort_values([\"applicants\"])"
   ]
  },
  {
   "cell_type": "code",
   "execution_count": 30,
   "metadata": {},
   "outputs": [
    {
     "data": {
      "text/html": [
       "<div>\n",
       "<style scoped>\n",
       "    .dataframe tbody tr th:only-of-type {\n",
       "        vertical-align: middle;\n",
       "    }\n",
       "\n",
       "    .dataframe tbody tr th {\n",
       "        vertical-align: top;\n",
       "    }\n",
       "\n",
       "    .dataframe thead th {\n",
       "        text-align: right;\n",
       "    }\n",
       "</style>\n",
       "<table border=\"1\" class=\"dataframe\">\n",
       "  <thead>\n",
       "    <tr style=\"text-align: right;\">\n",
       "      <th></th>\n",
       "      <th>title</th>\n",
       "      <th>company</th>\n",
       "      <th>location</th>\n",
       "      <th>duration</th>\n",
       "      <th>stipend</th>\n",
       "      <th>apply_by</th>\n",
       "      <th>applicants</th>\n",
       "      <th>skills</th>\n",
       "      <th>perks</th>\n",
       "      <th>openings</th>\n",
       "      <th>url</th>\n",
       "    </tr>\n",
       "  </thead>\n",
       "  <tbody>\n",
       "    <tr>\n",
       "      <th>7</th>\n",
       "      <td>Front End Development</td>\n",
       "      <td>TrueFoundry</td>\n",
       "      <td>['Work From Home']</td>\n",
       "      <td>3.0</td>\n",
       "      <td>30000.0</td>\n",
       "      <td>5</td>\n",
       "      <td>403.0</td>\n",
       "      <td>[CSS, HTML, JavaScript, ReactJS, Vue Js]</td>\n",
       "      <td>[Certificate, Letter of recommendation, Flexib...</td>\n",
       "      <td>3</td>\n",
       "      <td>https://internshala.com/internship/detail/fron...</td>\n",
       "    </tr>\n",
       "  </tbody>\n",
       "</table>\n",
       "</div>"
      ],
      "text/plain": [
       "                   title      company            location  duration  stipend  \\\n",
       "7  Front End Development  TrueFoundry  ['Work From Home']       3.0  30000.0   \n",
       "\n",
       "   apply_by  applicants                                    skills  \\\n",
       "7         5       403.0  [CSS, HTML, JavaScript, ReactJS, Vue Js]   \n",
       "\n",
       "                                               perks  openings  \\\n",
       "7  [Certificate, Letter of recommendation, Flexib...         3   \n",
       "\n",
       "                                                 url  \n",
       "7  https://internshala.com/internship/detail/fron...  "
      ]
     },
     "execution_count": 30,
     "metadata": {},
     "output_type": "execute_result"
    }
   ],
   "source": [
    "recommended_df"
   ]
  },
  {
   "cell_type": "code",
   "execution_count": 31,
   "metadata": {},
   "outputs": [],
   "source": [
    "all_skills = []\n",
    "for skills in df[\"skills\"]:\n",
    "    all_skills += skills\n",
    "all_skills = list(set(all_skills))"
   ]
  },
  {
   "cell_type": "code",
   "execution_count": 32,
   "metadata": {},
   "outputs": [],
   "source": [
    "# user entered these values lets say\n",
    "skills_list = ['artifical intelligence']\n",
    "duration = \"54\""
   ]
  },
  {
   "cell_type": "code",
   "execution_count": 33,
   "metadata": {},
   "outputs": [],
   "source": [
    "# validate it\n",
    "def validate_skills_list(skills_list):\n",
    "    condition = 0\n",
    "    for skill in skills_list:\n",
    "        if not skill.lower() in [i.lower() for i in all_skills]:\n",
    "            condition = 1\n",
    "            break\n",
    "    if condition == 1:\n",
    "        raise AttributeError(\"Skill entered not in list of skills.\")\n",
    "    elif condition == 0:\n",
    "        return skills_list\n",
    "    \n",
    "def validate_duration(duration):\n",
    "    try:\n",
    "        return int(duration)\n",
    "    except:\n",
    "        raise AttributeError(\"Enter number of months as integer in duration.\")"
   ]
  },
  {
   "cell_type": "code",
   "execution_count": 34,
   "metadata": {},
   "outputs": [],
   "source": [
    "def get_skills_intersection_index(skills_list):\n",
    "    intersection_skill_row_index = list(np.where(df[\"skills\"].astype(\"str\").str.lower().apply(lambda x: skills_list[0].lower() in x))[0])\n",
    "    for skill in skills_list:\n",
    "        sub_index = list(np.where(df[\"skills\"].astype(\"str\").str.lower().apply(lambda x: skill.lower() in x))[0])\n",
    "        intersection_skill_row_index = list(set(intersection_skill_row_index) & set(sub_index))\n",
    "    return intersection_skill_row_index\n",
    "\n",
    "def get_recommendation(skills_list, duration):\n",
    "    skills_list = validate_skills_list(skills_list)\n",
    "    duration = validate_duration(duration)\n",
    "    intersection = get_skills_intersection_index(skills_list)\n",
    "    while not len(intersection) > 0:\n",
    "        if len(skills_list) > 0:\n",
    "            skills_list = skills_list[:-1]\n",
    "            intersection = get_skills_intersection_index(skills_list)\n",
    "        else:\n",
    "            break\n",
    "    skill_intersect_df = df.loc[intersection]\n",
    "    top10_result_index = list(skill_intersect_df[\"duration\"].apply(lambda x: abs(x-duration)).sort_values()[:10].index)\n",
    "    recommended_df = df.loc[top10_result_index].sort_values([\"applicants\"])\n",
    "    return recommended_df"
   ]
  },
  {
   "cell_type": "code",
   "execution_count": 88,
   "metadata": {},
   "outputs": [
    {
     "data": {
      "text/html": [
       "<div>\n",
       "<style scoped>\n",
       "    .dataframe tbody tr th:only-of-type {\n",
       "        vertical-align: middle;\n",
       "    }\n",
       "\n",
       "    .dataframe tbody tr th {\n",
       "        vertical-align: top;\n",
       "    }\n",
       "\n",
       "    .dataframe thead th {\n",
       "        text-align: right;\n",
       "    }\n",
       "</style>\n",
       "<table border=\"1\" class=\"dataframe\">\n",
       "  <thead>\n",
       "    <tr style=\"text-align: right;\">\n",
       "      <th></th>\n",
       "      <th>title</th>\n",
       "      <th>company</th>\n",
       "      <th>location</th>\n",
       "      <th>duration</th>\n",
       "      <th>stipend</th>\n",
       "      <th>apply_by</th>\n",
       "      <th>applicants</th>\n",
       "      <th>skills</th>\n",
       "      <th>perks</th>\n",
       "      <th>openings</th>\n",
       "      <th>url</th>\n",
       "    </tr>\n",
       "  </thead>\n",
       "  <tbody>\n",
       "    <tr>\n",
       "      <th>0</th>\n",
       "      <td>Data Engineering</td>\n",
       "      <td>Blackcoffer</td>\n",
       "      <td>['Work From Home']</td>\n",
       "      <td>6.0</td>\n",
       "      <td>7000.0</td>\n",
       "      <td>11</td>\n",
       "      <td>155.0</td>\n",
       "      <td>[Amazon Web Server (AWS), Artifical Intelligen...</td>\n",
       "      <td>[Certificate, Letter of recommendation, Flexib...</td>\n",
       "      <td>10</td>\n",
       "      <td>https://internshala.com/internship/detail/data...</td>\n",
       "    </tr>\n",
       "    <tr>\n",
       "      <th>2</th>\n",
       "      <td>Machine Learning/AI Research Content Writing</td>\n",
       "      <td>Marktechpost LLC</td>\n",
       "      <td>['Work From Home']</td>\n",
       "      <td>3.0</td>\n",
       "      <td>10000.0</td>\n",
       "      <td>8</td>\n",
       "      <td>167.0</td>\n",
       "      <td>[Artifical Intelligence, Data Science, Deep Le...</td>\n",
       "      <td>[Letter of recommendation, Flexible work hours]</td>\n",
       "      <td>1</td>\n",
       "      <td>https://internshala.com/internship/detail/mach...</td>\n",
       "    </tr>\n",
       "    <tr>\n",
       "      <th>6</th>\n",
       "      <td>Machine Learning</td>\n",
       "      <td>BsHappy Technologies</td>\n",
       "      <td>['Work From Home']</td>\n",
       "      <td>6.0</td>\n",
       "      <td>3000.0</td>\n",
       "      <td>6</td>\n",
       "      <td>445.0</td>\n",
       "      <td>[Artifical Intelligence, Data Analytics, Data ...</td>\n",
       "      <td>[Certificate, Letter of recommendation, Flexib...</td>\n",
       "      <td>8</td>\n",
       "      <td>https://internshala.com/internship/detail/mach...</td>\n",
       "    </tr>\n",
       "    <tr>\n",
       "      <th>14</th>\n",
       "      <td>Data Annotation</td>\n",
       "      <td>KoiReader Technologies</td>\n",
       "      <td>['Work From Home']</td>\n",
       "      <td>3.0</td>\n",
       "      <td>4000.0</td>\n",
       "      <td>16</td>\n",
       "      <td>529.0</td>\n",
       "      <td>[Artifical Intelligence, Computer Vision, Imag...</td>\n",
       "      <td>[Certificate, Flexible work hours]</td>\n",
       "      <td>8</td>\n",
       "      <td>https://internshala.com/internship/detail/data...</td>\n",
       "    </tr>\n",
       "    <tr>\n",
       "      <th>4</th>\n",
       "      <td>Curriculum Development (AI/ML)</td>\n",
       "      <td>Sustainable Living Lab (SL2)</td>\n",
       "      <td>['Work From Home']</td>\n",
       "      <td>3.0</td>\n",
       "      <td>15000.0</td>\n",
       "      <td>7</td>\n",
       "      <td>670.0</td>\n",
       "      <td>[Artifical Intelligence, Data Science, Machine...</td>\n",
       "      <td>[Certificate, Letter of recommendation, Flexib...</td>\n",
       "      <td>3</td>\n",
       "      <td>https://internshala.com/internship/detail/curr...</td>\n",
       "    </tr>\n",
       "  </tbody>\n",
       "</table>\n",
       "</div>"
      ],
      "text/plain": [
       "                                           title  \\\n",
       "0                               Data Engineering   \n",
       "2   Machine Learning/AI Research Content Writing   \n",
       "6                               Machine Learning   \n",
       "14                               Data Annotation   \n",
       "4                 Curriculum Development (AI/ML)   \n",
       "\n",
       "                         company            location  duration  stipend  \\\n",
       "0                    Blackcoffer  ['Work From Home']       6.0   7000.0   \n",
       "2               Marktechpost LLC  ['Work From Home']       3.0  10000.0   \n",
       "6           BsHappy Technologies  ['Work From Home']       6.0   3000.0   \n",
       "14        KoiReader Technologies  ['Work From Home']       3.0   4000.0   \n",
       "4   Sustainable Living Lab (SL2)  ['Work From Home']       3.0  15000.0   \n",
       "\n",
       "    apply_by  applicants                                             skills  \\\n",
       "0         11       155.0  [Amazon Web Server (AWS), Artifical Intelligen...   \n",
       "2          8       167.0  [Artifical Intelligence, Data Science, Deep Le...   \n",
       "6          6       445.0  [Artifical Intelligence, Data Analytics, Data ...   \n",
       "14        16       529.0  [Artifical Intelligence, Computer Vision, Imag...   \n",
       "4          7       670.0  [Artifical Intelligence, Data Science, Machine...   \n",
       "\n",
       "                                                perks  openings  \\\n",
       "0   [Certificate, Letter of recommendation, Flexib...        10   \n",
       "2     [Letter of recommendation, Flexible work hours]         1   \n",
       "6   [Certificate, Letter of recommendation, Flexib...         8   \n",
       "14                 [Certificate, Flexible work hours]         8   \n",
       "4   [Certificate, Letter of recommendation, Flexib...         3   \n",
       "\n",
       "                                                  url  \n",
       "0   https://internshala.com/internship/detail/data...  \n",
       "2   https://internshala.com/internship/detail/mach...  \n",
       "6   https://internshala.com/internship/detail/mach...  \n",
       "14  https://internshala.com/internship/detail/data...  \n",
       "4   https://internshala.com/internship/detail/curr...  "
      ]
     },
     "execution_count": 88,
     "metadata": {},
     "output_type": "execute_result"
    }
   ],
   "source": [
    "get_recommendation(skills_list, duration)"
   ]
  },
  {
   "cell_type": "code",
   "execution_count": 89,
   "metadata": {},
   "outputs": [],
   "source": [
    "recommended_df = get_recommendation(skills_list, duration)"
   ]
  },
  {
   "cell_type": "code",
   "execution_count": 37,
   "metadata": {},
   "outputs": [],
   "source": [
    "abcd = {}"
   ]
  },
  {
   "cell_type": "code",
   "execution_count": 38,
   "metadata": {},
   "outputs": [],
   "source": [
    "abcd[\"recommended_df\"] = recommended_df"
   ]
  },
  {
   "cell_type": "code",
   "execution_count": 39,
   "metadata": {},
   "outputs": [
    {
     "data": {
      "text/html": [
       "<div>\n",
       "<style scoped>\n",
       "    .dataframe tbody tr th:only-of-type {\n",
       "        vertical-align: middle;\n",
       "    }\n",
       "\n",
       "    .dataframe tbody tr th {\n",
       "        vertical-align: top;\n",
       "    }\n",
       "\n",
       "    .dataframe thead th {\n",
       "        text-align: right;\n",
       "    }\n",
       "</style>\n",
       "<table border=\"1\" class=\"dataframe\">\n",
       "  <thead>\n",
       "    <tr style=\"text-align: right;\">\n",
       "      <th></th>\n",
       "      <th>title</th>\n",
       "      <th>company</th>\n",
       "      <th>location</th>\n",
       "      <th>duration</th>\n",
       "      <th>stipend</th>\n",
       "      <th>apply_by</th>\n",
       "      <th>applicants</th>\n",
       "      <th>skills</th>\n",
       "      <th>perks</th>\n",
       "      <th>openings</th>\n",
       "      <th>url</th>\n",
       "    </tr>\n",
       "  </thead>\n",
       "  <tbody>\n",
       "    <tr>\n",
       "      <th>7</th>\n",
       "      <td>Front End Development</td>\n",
       "      <td>TrueFoundry</td>\n",
       "      <td>['Work From Home']</td>\n",
       "      <td>3.0</td>\n",
       "      <td>30000.0</td>\n",
       "      <td>5</td>\n",
       "      <td>403.0</td>\n",
       "      <td>[CSS, HTML, JavaScript, ReactJS, Vue Js]</td>\n",
       "      <td>[Certificate, Letter of recommendation, Flexib...</td>\n",
       "      <td>3</td>\n",
       "      <td>https://internshala.com/internship/detail/fron...</td>\n",
       "    </tr>\n",
       "  </tbody>\n",
       "</table>\n",
       "</div>"
      ],
      "text/plain": [
       "                   title      company            location  duration  stipend  \\\n",
       "7  Front End Development  TrueFoundry  ['Work From Home']       3.0  30000.0   \n",
       "\n",
       "   apply_by  applicants                                    skills  \\\n",
       "7         5       403.0  [CSS, HTML, JavaScript, ReactJS, Vue Js]   \n",
       "\n",
       "                                               perks  openings  \\\n",
       "7  [Certificate, Letter of recommendation, Flexib...         3   \n",
       "\n",
       "                                                 url  \n",
       "7  https://internshala.com/internship/detail/fron...  "
      ]
     },
     "execution_count": 39,
     "metadata": {},
     "output_type": "execute_result"
    }
   ],
   "source": [
    "abcd[\"recommended_df\"]"
   ]
  },
  {
   "cell_type": "code",
   "execution_count": 40,
   "metadata": {},
   "outputs": [],
   "source": [
    "all_categories_list = list(pd.read_excel(\"../all_category.xlsx\").squeeze())"
   ]
  },
  {
   "cell_type": "code",
   "execution_count": 41,
   "metadata": {},
   "outputs": [
    {
     "data": {
      "text/plain": [
       "('category1', 'Mustard')"
      ]
     },
     "execution_count": 41,
     "metadata": {},
     "output_type": "execute_result"
    }
   ],
   "source": [
    "[('category1', 'Mustard'), ('category1', 'Ketchup'), ('wfh', 'on'), ('location', 'Guwahati')][0]"
   ]
  },
  {
   "cell_type": "code",
   "execution_count": 43,
   "metadata": {},
   "outputs": [
    {
     "data": {
      "text/plain": [
       "\"                   title      company            location  duration  stipend  \\\\\\n7  Front End Development  TrueFoundry  ['Work From Home']       3.0  30000.0   \\n\\n   apply_by  applicants                                    skills  \\\\\\n7         5       403.0  [CSS, HTML, JavaScript, ReactJS, Vue Js]   \\n\\n                                               perks  openings  \\\\\\n7  [Certificate, Letter of recommendation, Flexib...         3   \\n\\n                                                 url  \\n7  https://internshala.com/internship/detail/fron...  \""
      ]
     },
     "execution_count": 43,
     "metadata": {},
     "output_type": "execute_result"
    }
   ],
   "source": [
    "str(recommended_df)"
   ]
  },
  {
   "cell_type": "code",
   "execution_count": 45,
   "metadata": {},
   "outputs": [
    {
     "name": "stdout",
     "output_type": "stream",
     "text": [
      "<option>.NET Development</option>\n",
      "<option>3D Printing</option>\n",
      "<option>Accounts</option>\n",
      "<option>Acting</option>\n",
      "<option>Aerospace Engineering</option>\n",
      "<option>Agriculture &amp; Food Engineering</option>\n",
      "<option>Analytics</option>\n",
      "<option>Anchoring</option>\n",
      "<option>Android App Development</option>\n",
      "<option>Angular.js Development</option>\n",
      "<option>Animation</option>\n",
      "<option>Architecture</option>\n",
      "<option>Artificial Intelligence (AI)</option>\n",
      "<option>ASP.NET Development</option>\n",
      "<option>Audio Making/Editing</option>\n",
      "<option>Automobile Engineering</option>\n",
      "<option>Backend Development</option>\n",
      "<option>Big Data</option>\n",
      "<option>Bioinformatics</option>\n",
      "<option>Biology</option>\n",
      "<option>Biotechnology Engineering</option>\n",
      "<option>Blockchain Development</option>\n",
      "<option>Blogging</option>\n",
      "<option>Brand Management</option>\n",
      "<option>CAD Design</option>\n",
      "<option>Campus Ambassador</option>\n",
      "<option>Chartered Accountancy (CA)</option>\n",
      "<option>Chemical Engineering</option>\n",
      "<option>Chemistry</option>\n",
      "<option>Cinematography</option>\n",
      "<option>Civil Engineering</option>\n",
      "<option>Client Servicing</option>\n",
      "<option>Cloud Computing</option>\n",
      "<option>Commerce</option>\n",
      "<option>Company Secretary (CS)</option>\n",
      "<option>Computer Science</option>\n",
      "<option>Computer Vision</option>\n",
      "<option>Content Writing</option>\n",
      "<option>Copywriting</option>\n",
      "<option>Creative Writing</option>\n",
      "<option>Culinary Arts</option>\n",
      "<option>Customer Service</option>\n",
      "<option>Cyber Security</option>\n",
      "<option>Data Entry</option>\n",
      "<option>Data Science</option>\n",
      "<option>Database Building</option>\n",
      "<option>Design</option>\n",
      "<option>Dietetics/Nutrition</option>\n",
      "<option>Digital Marketing</option>\n",
      "<option>Editorial</option>\n",
      "<option>Electrical Engineering</option>\n",
      "<option>Electronics Engineering</option>\n",
      "<option>Embedded Systems</option>\n",
      "<option>Energy Science &amp; Engineering</option>\n",
      "<option>Engineering</option>\n",
      "<option>Engineering Design</option>\n",
      "<option>Engineering Physics</option>\n",
      "<option>Environmental Sciences</option>\n",
      "<option>Event Management</option>\n",
      "<option>Facebook Marketing</option>\n",
      "<option>Fashion Design</option>\n",
      "<option>Film Making</option>\n",
      "<option>Finance</option>\n",
      "<option>Flutter Development</option>\n",
      "<option>Front End Development</option>\n",
      "<option>Full Stack Development</option>\n",
      "<option>Fundraising</option>\n",
      "<option>Game Development</option>\n",
      "<option>General Management</option>\n",
      "<option>Government</option>\n",
      "<option>Graphic Design</option>\n",
      "<option>Hospitality</option>\n",
      "<option>Hotel Management</option>\n",
      "<option>Human Resources (HR)</option>\n",
      "<option>Humanities</option>\n",
      "<option>Image Processing</option>\n",
      "<option>Industrial &amp; Production Engineering</option>\n",
      "<option>Industrial Design</option>\n",
      "<option>Information Technology</option>\n",
      "<option>Instrumentation &amp; Control Engineering</option>\n",
      "<option>Interior Design</option>\n",
      "<option>Internet of Things (IoT)</option>\n",
      "<option>iOS App Development</option>\n",
      "<option>Java Development</option>\n",
      "<option>Javascript Development</option>\n",
      "<option>Journalism</option>\n",
      "<option>Law</option>\n",
      "<option>Legal Research</option>\n",
      "<option>Machine Learning</option>\n",
      "<option>Magento Development</option>\n",
      "<option>Manufacturing Engineering</option>\n",
      "<option>Market/Business Research</option>\n",
      "<option>Marketing/Sales</option>\n",
      "<option>Material Science</option>\n",
      "<option>Mathematics</option>\n",
      "<option>MBA</option>\n",
      "<option>Mechanical Engineering</option>\n",
      "<option>Mechatronics</option>\n",
      "<option>Media</option>\n",
      "<option>Medicine</option>\n",
      "<option>Merchandise Design</option>\n",
      "<option>Mobile App Development</option>\n",
      "<option>Motion Graphics</option>\n",
      "<option>Music</option>\n",
      "<option>Network Engineering</option>\n",
      "<option>NGO</option>\n",
      "<option>Node.js Development</option>\n",
      "<option>Operations</option>\n",
      "<option>Pharmaceutical</option>\n",
      "<option>Photography</option>\n",
      "<option>PHP Development</option>\n",
      "<option>Physics</option>\n",
      "<option>Political/Economics/Policy Research</option>\n",
      "<option>Public Relations (PR)</option>\n",
      "<option>Product Management</option>\n",
      "<option>Programming</option>\n",
      "<option>Project Management </option>\n",
      "<option>Proofreading</option>\n",
      "<option>Psychology</option>\n",
      "<option>Python/Django Development</option>\n",
      "<option>Recruitment</option>\n",
      "<option>Robotics</option>\n",
      "<option>Ruby on Rails</option>\n",
      "<option>Science</option>\n",
      "<option>Search Engine Optimization (SEO)</option>\n",
      "<option>Social Media Marketing</option>\n",
      "<option>Social Work</option>\n",
      "<option>Software Development</option>\n",
      "<option>Software Testing</option>\n",
      "<option>Statistics</option>\n",
      "<option>Strategy</option>\n",
      "<option>Subject Matter Expert (SME)</option>\n",
      "<option>Supply Chain Management (SCM)</option>\n",
      "<option>Talent Acquisition</option>\n",
      "<option>Teaching</option>\n",
      "<option>Telecalling</option>\n",
      "<option>Transcription</option>\n",
      "<option>Translation</option>\n",
      "<option>Travel &amp; Tourism</option>\n",
      "<option>UI/UX Design</option>\n",
      "<option>Video Making/Editing</option>\n",
      "<option>Videography</option>\n",
      "<option>Volunteering</option>\n",
      "<option>Web Development</option>\n",
      "<option>Wordpress Development</option>\n"
     ]
    }
   ],
   "source": [
    "for i in all_categories_list:\n",
    "    print(f\"<option>{i}</option>\")"
   ]
  },
  {
   "cell_type": "code",
   "execution_count": 82,
   "metadata": {},
   "outputs": [],
   "source": [
    "a_list = [\"abc\", \"def\"]"
   ]
  },
  {
   "cell_type": "code",
   "execution_count": 86,
   "metadata": {},
   "outputs": [
    {
     "data": {
      "text/plain": [
       "'abc, def'"
      ]
     },
     "execution_count": 86,
     "metadata": {},
     "output_type": "execute_result"
    }
   ],
   "source": [
    "\", \".join(a_list)"
   ]
  },
  {
   "cell_type": "code",
   "execution_count": 114,
   "metadata": {},
   "outputs": [
    {
     "data": {
      "text/html": [
       "<div>\n",
       "<style scoped>\n",
       "    .dataframe tbody tr th:only-of-type {\n",
       "        vertical-align: middle;\n",
       "    }\n",
       "\n",
       "    .dataframe tbody tr th {\n",
       "        vertical-align: top;\n",
       "    }\n",
       "\n",
       "    .dataframe thead th {\n",
       "        text-align: right;\n",
       "    }\n",
       "</style>\n",
       "<table border=\"1\" class=\"dataframe\">\n",
       "  <thead>\n",
       "    <tr style=\"text-align: right;\">\n",
       "      <th></th>\n",
       "      <th>title</th>\n",
       "      <th>company</th>\n",
       "      <th>location</th>\n",
       "      <th>duration</th>\n",
       "      <th>stipend</th>\n",
       "      <th>apply_by</th>\n",
       "      <th>applicants</th>\n",
       "      <th>skills</th>\n",
       "      <th>perks</th>\n",
       "      <th>openings</th>\n",
       "      <th>url</th>\n",
       "    </tr>\n",
       "  </thead>\n",
       "  <tbody>\n",
       "    <tr>\n",
       "      <th>0</th>\n",
       "      <td>Data Engineering</td>\n",
       "      <td>Blackcoffer</td>\n",
       "      <td>['Work From Home']</td>\n",
       "      <td>6.0</td>\n",
       "      <td>7000.0</td>\n",
       "      <td>11</td>\n",
       "      <td>155.0</td>\n",
       "      <td>[Amazon Web Server (AWS), Artifical Intelligen...</td>\n",
       "      <td>[Certificate, Letter of recommendation, Flexib...</td>\n",
       "      <td>10</td>\n",
       "      <td>https://internshala.com/internship/detail/data...</td>\n",
       "    </tr>\n",
       "    <tr>\n",
       "      <th>2</th>\n",
       "      <td>Machine Learning/AI Research Content Writing</td>\n",
       "      <td>Marktechpost LLC</td>\n",
       "      <td>['Work From Home']</td>\n",
       "      <td>3.0</td>\n",
       "      <td>10000.0</td>\n",
       "      <td>8</td>\n",
       "      <td>167.0</td>\n",
       "      <td>[Artifical Intelligence, Data Science, Deep Le...</td>\n",
       "      <td>[Letter of recommendation, Flexible work hours]</td>\n",
       "      <td>1</td>\n",
       "      <td>https://internshala.com/internship/detail/mach...</td>\n",
       "    </tr>\n",
       "    <tr>\n",
       "      <th>6</th>\n",
       "      <td>Machine Learning</td>\n",
       "      <td>BsHappy Technologies</td>\n",
       "      <td>['Work From Home']</td>\n",
       "      <td>6.0</td>\n",
       "      <td>3000.0</td>\n",
       "      <td>6</td>\n",
       "      <td>445.0</td>\n",
       "      <td>[Artifical Intelligence, Data Analytics, Data ...</td>\n",
       "      <td>[Certificate, Letter of recommendation, Flexib...</td>\n",
       "      <td>8</td>\n",
       "      <td>https://internshala.com/internship/detail/mach...</td>\n",
       "    </tr>\n",
       "    <tr>\n",
       "      <th>14</th>\n",
       "      <td>Data Annotation</td>\n",
       "      <td>KoiReader Technologies</td>\n",
       "      <td>['Work From Home']</td>\n",
       "      <td>3.0</td>\n",
       "      <td>4000.0</td>\n",
       "      <td>16</td>\n",
       "      <td>529.0</td>\n",
       "      <td>[Artifical Intelligence, Computer Vision, Imag...</td>\n",
       "      <td>[Certificate, Flexible work hours]</td>\n",
       "      <td>8</td>\n",
       "      <td>https://internshala.com/internship/detail/data...</td>\n",
       "    </tr>\n",
       "    <tr>\n",
       "      <th>4</th>\n",
       "      <td>Curriculum Development (AI/ML)</td>\n",
       "      <td>Sustainable Living Lab (SL2)</td>\n",
       "      <td>['Work From Home']</td>\n",
       "      <td>3.0</td>\n",
       "      <td>15000.0</td>\n",
       "      <td>7</td>\n",
       "      <td>670.0</td>\n",
       "      <td>[Artifical Intelligence, Data Science, Machine...</td>\n",
       "      <td>[Certificate, Letter of recommendation, Flexib...</td>\n",
       "      <td>3</td>\n",
       "      <td>https://internshala.com/internship/detail/curr...</td>\n",
       "    </tr>\n",
       "  </tbody>\n",
       "</table>\n",
       "</div>"
      ],
      "text/plain": [
       "                                           title  \\\n",
       "0                               Data Engineering   \n",
       "2   Machine Learning/AI Research Content Writing   \n",
       "6                               Machine Learning   \n",
       "14                               Data Annotation   \n",
       "4                 Curriculum Development (AI/ML)   \n",
       "\n",
       "                         company            location  duration  stipend  \\\n",
       "0                    Blackcoffer  ['Work From Home']       6.0   7000.0   \n",
       "2               Marktechpost LLC  ['Work From Home']       3.0  10000.0   \n",
       "6           BsHappy Technologies  ['Work From Home']       6.0   3000.0   \n",
       "14        KoiReader Technologies  ['Work From Home']       3.0   4000.0   \n",
       "4   Sustainable Living Lab (SL2)  ['Work From Home']       3.0  15000.0   \n",
       "\n",
       "    apply_by  applicants                                             skills  \\\n",
       "0         11       155.0  [Amazon Web Server (AWS), Artifical Intelligen...   \n",
       "2          8       167.0  [Artifical Intelligence, Data Science, Deep Le...   \n",
       "6          6       445.0  [Artifical Intelligence, Data Analytics, Data ...   \n",
       "14        16       529.0  [Artifical Intelligence, Computer Vision, Imag...   \n",
       "4          7       670.0  [Artifical Intelligence, Data Science, Machine...   \n",
       "\n",
       "                                                perks  openings  \\\n",
       "0   [Certificate, Letter of recommendation, Flexib...        10   \n",
       "2     [Letter of recommendation, Flexible work hours]         1   \n",
       "6   [Certificate, Letter of recommendation, Flexib...         8   \n",
       "14                 [Certificate, Flexible work hours]         8   \n",
       "4   [Certificate, Letter of recommendation, Flexib...         3   \n",
       "\n",
       "                                                  url  \n",
       "0   https://internshala.com/internship/detail/data...  \n",
       "2   https://internshala.com/internship/detail/mach...  \n",
       "6   https://internshala.com/internship/detail/mach...  \n",
       "14  https://internshala.com/internship/detail/data...  \n",
       "4   https://internshala.com/internship/detail/curr...  "
      ]
     },
     "execution_count": 114,
     "metadata": {},
     "output_type": "execute_result"
    }
   ],
   "source": [
    "recommended_df"
   ]
  },
  {
   "cell_type": "code",
   "execution_count": 115,
   "metadata": {},
   "outputs": [
    {
     "data": {
      "text/plain": [
       "Index(['title', 'company', 'location', 'duration', 'stipend', 'apply_by',\n",
       "       'applicants', 'skills', 'perks', 'openings', 'url'],\n",
       "      dtype='object')"
      ]
     },
     "execution_count": 115,
     "metadata": {},
     "output_type": "execute_result"
    }
   ],
   "source": [
    "recommended_df.columns"
   ]
  },
  {
   "cell_type": "code",
   "execution_count": 116,
   "metadata": {},
   "outputs": [
    {
     "data": {
      "text/html": [
       "<div>\n",
       "<style scoped>\n",
       "    .dataframe tbody tr th:only-of-type {\n",
       "        vertical-align: middle;\n",
       "    }\n",
       "\n",
       "    .dataframe tbody tr th {\n",
       "        vertical-align: top;\n",
       "    }\n",
       "\n",
       "    .dataframe thead th {\n",
       "        text-align: right;\n",
       "    }\n",
       "</style>\n",
       "<table border=\"1\" class=\"dataframe\">\n",
       "  <thead>\n",
       "    <tr style=\"text-align: right;\">\n",
       "      <th></th>\n",
       "      <th>title</th>\n",
       "      <th>company</th>\n",
       "      <th>duration</th>\n",
       "      <th>stipend</th>\n",
       "      <th>apply_by</th>\n",
       "      <th>openings</th>\n",
       "      <th>url</th>\n",
       "    </tr>\n",
       "  </thead>\n",
       "  <tbody>\n",
       "    <tr>\n",
       "      <th>0</th>\n",
       "      <td>Data Engineering</td>\n",
       "      <td>Blackcoffer</td>\n",
       "      <td>6.0</td>\n",
       "      <td>7000.0</td>\n",
       "      <td>11</td>\n",
       "      <td>10</td>\n",
       "      <td>https://internshala.com/internship/detail/data...</td>\n",
       "    </tr>\n",
       "    <tr>\n",
       "      <th>2</th>\n",
       "      <td>Machine Learning/AI Research Content Writing</td>\n",
       "      <td>Marktechpost LLC</td>\n",
       "      <td>3.0</td>\n",
       "      <td>10000.0</td>\n",
       "      <td>8</td>\n",
       "      <td>1</td>\n",
       "      <td>https://internshala.com/internship/detail/mach...</td>\n",
       "    </tr>\n",
       "    <tr>\n",
       "      <th>6</th>\n",
       "      <td>Machine Learning</td>\n",
       "      <td>BsHappy Technologies</td>\n",
       "      <td>6.0</td>\n",
       "      <td>3000.0</td>\n",
       "      <td>6</td>\n",
       "      <td>8</td>\n",
       "      <td>https://internshala.com/internship/detail/mach...</td>\n",
       "    </tr>\n",
       "    <tr>\n",
       "      <th>14</th>\n",
       "      <td>Data Annotation</td>\n",
       "      <td>KoiReader Technologies</td>\n",
       "      <td>3.0</td>\n",
       "      <td>4000.0</td>\n",
       "      <td>16</td>\n",
       "      <td>8</td>\n",
       "      <td>https://internshala.com/internship/detail/data...</td>\n",
       "    </tr>\n",
       "    <tr>\n",
       "      <th>4</th>\n",
       "      <td>Curriculum Development (AI/ML)</td>\n",
       "      <td>Sustainable Living Lab (SL2)</td>\n",
       "      <td>3.0</td>\n",
       "      <td>15000.0</td>\n",
       "      <td>7</td>\n",
       "      <td>3</td>\n",
       "      <td>https://internshala.com/internship/detail/curr...</td>\n",
       "    </tr>\n",
       "  </tbody>\n",
       "</table>\n",
       "</div>"
      ],
      "text/plain": [
       "                                           title  \\\n",
       "0                               Data Engineering   \n",
       "2   Machine Learning/AI Research Content Writing   \n",
       "6                               Machine Learning   \n",
       "14                               Data Annotation   \n",
       "4                 Curriculum Development (AI/ML)   \n",
       "\n",
       "                         company  duration  stipend  apply_by  openings  \\\n",
       "0                    Blackcoffer       6.0   7000.0        11        10   \n",
       "2               Marktechpost LLC       3.0  10000.0         8         1   \n",
       "6           BsHappy Technologies       6.0   3000.0         6         8   \n",
       "14        KoiReader Technologies       3.0   4000.0        16         8   \n",
       "4   Sustainable Living Lab (SL2)       3.0  15000.0         7         3   \n",
       "\n",
       "                                                  url  \n",
       "0   https://internshala.com/internship/detail/data...  \n",
       "2   https://internshala.com/internship/detail/mach...  \n",
       "6   https://internshala.com/internship/detail/mach...  \n",
       "14  https://internshala.com/internship/detail/data...  \n",
       "4   https://internshala.com/internship/detail/curr...  "
      ]
     },
     "execution_count": 116,
     "metadata": {},
     "output_type": "execute_result"
    }
   ],
   "source": [
    "rdf = recommended_df[['title', 'company', 'duration', 'stipend', 'apply_by', 'openings', 'url']]\n",
    "# rdf.columns = [\"Title\", \"Company\", \"Duration\", \"Stipend\", \"Apply By\", \"Openings\", \"url\"]\n",
    "rdf"
   ]
  },
  {
   "cell_type": "code",
   "execution_count": 118,
   "metadata": {},
   "outputs": [
    {
     "data": {
      "text/plain": [
       "0     11 days\n",
       "2      8 days\n",
       "6      6 days\n",
       "14    16 days\n",
       "4      7 days\n",
       "Name: apply_by, dtype: object"
      ]
     },
     "execution_count": 118,
     "metadata": {},
     "output_type": "execute_result"
    }
   ],
   "source": [
    "rdf[\"apply_by\"].apply(lambda x: f\"{str(x)} days\" if x > 0 else \"Today!!\")"
   ]
  },
  {
   "cell_type": "code",
   "execution_count": 110,
   "metadata": {},
   "outputs": [
    {
     "name": "stderr",
     "output_type": "stream",
     "text": [
      "C:\\Users\\rishi\\AppData\\Local\\Temp\\ipykernel_13836\\2117281585.py:1: SettingWithCopyWarning: \n",
      "A value is trying to be set on a copy of a slice from a DataFrame.\n",
      "Try using .loc[row_indexer,col_indexer] = value instead\n",
      "\n",
      "See the caveats in the documentation: https://pandas.pydata.org/pandas-docs/stable/user_guide/indexing.html#returning-a-view-versus-a-copy\n",
      "  rdf[\"duration\"] = rdf[\"duration\"].apply(lambda x: f\"{str(int(x))} Month(s)\")\n",
      "C:\\Users\\rishi\\AppData\\Local\\Temp\\ipykernel_13836\\2117281585.py:2: SettingWithCopyWarning: \n",
      "A value is trying to be set on a copy of a slice from a DataFrame.\n",
      "Try using .loc[row_indexer,col_indexer] = value instead\n",
      "\n",
      "See the caveats in the documentation: https://pandas.pydata.org/pandas-docs/stable/user_guide/indexing.html#returning-a-view-versus-a-copy\n",
      "  rdf[\"stipend\"] = rdf[\"stipend\"].apply(lambda x: f\"Rs.{str(int(x))} / Month\")\n",
      "C:\\Users\\rishi\\AppData\\Local\\Temp\\ipykernel_13836\\2117281585.py:3: SettingWithCopyWarning: \n",
      "A value is trying to be set on a copy of a slice from a DataFrame.\n",
      "Try using .loc[row_indexer,col_indexer] = value instead\n",
      "\n",
      "See the caveats in the documentation: https://pandas.pydata.org/pandas-docs/stable/user_guide/indexing.html#returning-a-view-versus-a-copy\n",
      "  rdf[\"apply_by\"] = rdf[\"apply_by\"].apply(lambda x: f\"{str(x)} days\")\n"
     ]
    }
   ],
   "source": [
    "rdf[\"duration\"] = rdf[\"duration\"].apply(lambda x: f\"{str(int(x))} month(s)\")\n",
    "rdf[\"stipend\"] = rdf[\"stipend\"].apply(lambda x: f\"Rs.{str(int(x))} / month\")\n",
    "rdf[\"apply_by\"] = rdf[\"apply_by\"].apply(lambda x: f\"{str(x)} days\")"
   ]
  },
  {
   "cell_type": "code",
   "execution_count": 113,
   "metadata": {},
   "outputs": [
    {
     "data": {
      "text/html": [
       "<div>\n",
       "<style scoped>\n",
       "    .dataframe tbody tr th:only-of-type {\n",
       "        vertical-align: middle;\n",
       "    }\n",
       "\n",
       "    .dataframe tbody tr th {\n",
       "        vertical-align: top;\n",
       "    }\n",
       "\n",
       "    .dataframe thead th {\n",
       "        text-align: right;\n",
       "    }\n",
       "</style>\n",
       "<table border=\"1\" class=\"dataframe\">\n",
       "  <thead>\n",
       "    <tr style=\"text-align: right;\">\n",
       "      <th></th>\n",
       "      <th>title</th>\n",
       "      <th>company</th>\n",
       "      <th>duration</th>\n",
       "      <th>stipend</th>\n",
       "      <th>apply_by</th>\n",
       "      <th>openings</th>\n",
       "      <th>url</th>\n",
       "    </tr>\n",
       "  </thead>\n",
       "  <tbody>\n",
       "    <tr>\n",
       "      <th>0</th>\n",
       "      <td>Data Engineering</td>\n",
       "      <td>Blackcoffer</td>\n",
       "      <td>6 Month(s)</td>\n",
       "      <td>Rs.7000 / Month</td>\n",
       "      <td>11 days</td>\n",
       "      <td>10</td>\n",
       "      <td>https://internshala.com/internship/detail/data...</td>\n",
       "    </tr>\n",
       "    <tr>\n",
       "      <th>2</th>\n",
       "      <td>Machine Learning/AI Research Content Writing</td>\n",
       "      <td>Marktechpost LLC</td>\n",
       "      <td>3 Month(s)</td>\n",
       "      <td>Rs.10000 / Month</td>\n",
       "      <td>8 days</td>\n",
       "      <td>1</td>\n",
       "      <td>https://internshala.com/internship/detail/mach...</td>\n",
       "    </tr>\n",
       "    <tr>\n",
       "      <th>6</th>\n",
       "      <td>Machine Learning</td>\n",
       "      <td>BsHappy Technologies</td>\n",
       "      <td>6 Month(s)</td>\n",
       "      <td>Rs.3000 / Month</td>\n",
       "      <td>6 days</td>\n",
       "      <td>8</td>\n",
       "      <td>https://internshala.com/internship/detail/mach...</td>\n",
       "    </tr>\n",
       "    <tr>\n",
       "      <th>14</th>\n",
       "      <td>Data Annotation</td>\n",
       "      <td>KoiReader Technologies</td>\n",
       "      <td>3 Month(s)</td>\n",
       "      <td>Rs.4000 / Month</td>\n",
       "      <td>16 days</td>\n",
       "      <td>8</td>\n",
       "      <td>https://internshala.com/internship/detail/data...</td>\n",
       "    </tr>\n",
       "    <tr>\n",
       "      <th>4</th>\n",
       "      <td>Curriculum Development (AI/ML)</td>\n",
       "      <td>Sustainable Living Lab (SL2)</td>\n",
       "      <td>3 Month(s)</td>\n",
       "      <td>Rs.15000 / Month</td>\n",
       "      <td>7 days</td>\n",
       "      <td>3</td>\n",
       "      <td>https://internshala.com/internship/detail/curr...</td>\n",
       "    </tr>\n",
       "  </tbody>\n",
       "</table>\n",
       "</div>"
      ],
      "text/plain": [
       "                                           title  \\\n",
       "0                               Data Engineering   \n",
       "2   Machine Learning/AI Research Content Writing   \n",
       "6                               Machine Learning   \n",
       "14                               Data Annotation   \n",
       "4                 Curriculum Development (AI/ML)   \n",
       "\n",
       "                         company    duration           stipend apply_by  \\\n",
       "0                    Blackcoffer  6 Month(s)   Rs.7000 / Month  11 days   \n",
       "2               Marktechpost LLC  3 Month(s)  Rs.10000 / Month   8 days   \n",
       "6           BsHappy Technologies  6 Month(s)   Rs.3000 / Month   6 days   \n",
       "14        KoiReader Technologies  3 Month(s)   Rs.4000 / Month  16 days   \n",
       "4   Sustainable Living Lab (SL2)  3 Month(s)  Rs.15000 / Month   7 days   \n",
       "\n",
       "    openings                                                url  \n",
       "0         10  https://internshala.com/internship/detail/data...  \n",
       "2          1  https://internshala.com/internship/detail/mach...  \n",
       "6          8  https://internshala.com/internship/detail/mach...  \n",
       "14         8  https://internshala.com/internship/detail/data...  \n",
       "4          3  https://internshala.com/internship/detail/curr...  "
      ]
     },
     "execution_count": 113,
     "metadata": {},
     "output_type": "execute_result"
    }
   ],
   "source": [
    "rdf"
   ]
  },
  {
   "cell_type": "code",
   "execution_count": null,
   "metadata": {},
   "outputs": [],
   "source": []
  }
 ],
 "metadata": {
  "kernelspec": {
   "display_name": "Python 3.8.13 ('ds_env')",
   "language": "python",
   "name": "python3"
  },
  "language_info": {
   "codemirror_mode": {
    "name": "ipython",
    "version": 3
   },
   "file_extension": ".py",
   "mimetype": "text/x-python",
   "name": "python",
   "nbconvert_exporter": "python",
   "pygments_lexer": "ipython3",
   "version": "3.8.13"
  },
  "orig_nbformat": 4,
  "vscode": {
   "interpreter": {
    "hash": "9305a441e3baf81fa49aeca3e631d460143ceef0226d164e3d301dcea8ecc4e5"
   }
  }
 },
 "nbformat": 4,
 "nbformat_minor": 2
}
