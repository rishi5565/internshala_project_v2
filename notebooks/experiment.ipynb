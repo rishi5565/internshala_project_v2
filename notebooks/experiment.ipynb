{
 "cells": [
  {
   "cell_type": "code",
   "execution_count": 3,
   "metadata": {},
   "outputs": [],
   "source": [
    "import requests\n",
    "from bs4 import BeautifulSoup"
   ]
  },
  {
   "cell_type": "code",
   "execution_count": 25,
   "metadata": {},
   "outputs": [],
   "source": [
    "url = \"https://internshala.com/internships/work-from-home-data-science,machine-learning-internships/\""
   ]
  },
  {
   "cell_type": "code",
   "execution_count": 5,
   "metadata": {},
   "outputs": [],
   "source": [
    "req = requests.get(url)"
   ]
  },
  {
   "cell_type": "code",
   "execution_count": 9,
   "metadata": {},
   "outputs": [],
   "source": [
    "soup = BeautifulSoup(req.content, \"html.parser\")"
   ]
  },
  {
   "cell_type": "code",
   "execution_count": 18,
   "metadata": {},
   "outputs": [
    {
     "data": {
      "text/plain": [
       "2"
      ]
     },
     "execution_count": 18,
     "metadata": {},
     "output_type": "execute_result"
    }
   ],
   "source": [
    "total_pages = int(soup.find(id='total_pages').text.strip())\n",
    "total_pages"
   ]
  },
  {
   "cell_type": "code",
   "execution_count": 20,
   "metadata": {},
   "outputs": [
    {
     "data": {
      "text/plain": [
       "range(0, 2)"
      ]
     },
     "execution_count": 20,
     "metadata": {},
     "output_type": "execute_result"
    }
   ],
   "source": [
    "range(total_pages)"
   ]
  },
  {
   "cell_type": "code",
   "execution_count": 28,
   "metadata": {},
   "outputs": [
    {
     "name": "stdout",
     "output_type": "stream",
     "text": [
      "https://internshala.com/internships/work-from-home-data-science,machine-learning-internships/page-1/\n",
      "https://internshala.com/internships/work-from-home-data-science,machine-learning-internships/page-2/\n"
     ]
    }
   ],
   "source": [
    "for page in range(total_pages):\n",
    "    pg_url = url\n",
    "    pg_url += f\"page-{page+1}/\"\n",
    "    # print(pg_url)\n",
    "    req_pg = requests.get(pg_url)\n",
    "    soup = BeautifulSoup(req_pg.content, \"html.parser\")\n",
    "    "
   ]
  },
  {
   "cell_type": "code",
   "execution_count": 130,
   "metadata": {},
   "outputs": [],
   "source": [
    "pg_url = \"https://internshala.com/internships/work-from-home-data-science,machine-learning-internships/page-2/\"\n",
    "req_pg = requests.get(pg_url)\n",
    "soup = BeautifulSoup(req_pg.content, \"html.parser\")"
   ]
  },
  {
   "cell_type": "code",
   "execution_count": 131,
   "metadata": {},
   "outputs": [],
   "source": [
    "internships = soup.find_all(class_ = 'heading_4_5 profile')"
   ]
  },
  {
   "cell_type": "code",
   "execution_count": 132,
   "metadata": {},
   "outputs": [
    {
     "data": {
      "text/plain": [
       "'/internship/detail/artificial-intelligence-ai-python-development-work-from-home-job-internship-at-scure-infosec1655700102'"
      ]
     },
     "execution_count": 132,
     "metadata": {},
     "output_type": "execute_result"
    }
   ],
   "source": [
    "internships[2].find('a', href=True)[\"href\"]"
   ]
  },
  {
   "cell_type": "code",
   "execution_count": 165,
   "metadata": {},
   "outputs": [],
   "source": [
    "sub_url = 'https://internshala.com' + internships[2].find('a', href=True)[\"href\"]\n",
    "sub_url = \"https://internshala.com/internship/detail/market-research-analytics-internship-in-multiple-locations-at-justdial-limited1657168942\""
   ]
  },
  {
   "cell_type": "code",
   "execution_count": 166,
   "metadata": {},
   "outputs": [],
   "source": [
    "req_sub_pg = requests.get(sub_url)\n",
    "sub_soup = BeautifulSoup(req_sub_pg.content, \"html.parser\")"
   ]
  },
  {
   "cell_type": "code",
   "execution_count": 167,
   "metadata": {},
   "outputs": [
    {
     "data": {
      "text/plain": [
       "'Market Research (Analytics)'"
      ]
     },
     "execution_count": 167,
     "metadata": {},
     "output_type": "execute_result"
    }
   ],
   "source": [
    "sub_soup.find(class_ = 'profile_on_detail_page').text.strip()"
   ]
  },
  {
   "cell_type": "code",
   "execution_count": 168,
   "metadata": {},
   "outputs": [
    {
     "data": {
      "text/plain": [
       "'Justdial Limited'"
      ]
     },
     "execution_count": 168,
     "metadata": {},
     "output_type": "execute_result"
    }
   ],
   "source": [
    "sub_soup.find(class_ = 'heading_6 company_name').find('a').text.strip()"
   ]
  },
  {
   "cell_type": "code",
   "execution_count": 169,
   "metadata": {},
   "outputs": [
    {
     "data": {
      "text/plain": [
       "['Delhi', 'Bangalore', 'Mumbai']"
      ]
     },
     "execution_count": 169,
     "metadata": {},
     "output_type": "execute_result"
    }
   ],
   "source": [
    "[i.text.strip() for i in sub_soup.find_all(class_ = 'location_link')]"
   ]
  },
  {
   "cell_type": "code",
   "execution_count": null,
   "metadata": {},
   "outputs": [],
   "source": []
  },
  {
   "cell_type": "code",
   "execution_count": 170,
   "metadata": {},
   "outputs": [],
   "source": [
    "info = sub_soup.find(class_ = 'internship_other_details_container')\n",
    "other_details = info.find_all(class_ = 'item_body')"
   ]
  },
  {
   "cell_type": "code",
   "execution_count": 171,
   "metadata": {},
   "outputs": [
    {
     "data": {
      "text/plain": [
       "'2 Months'"
      ]
     },
     "execution_count": 171,
     "metadata": {},
     "output_type": "execute_result"
    }
   ],
   "source": [
    "other_details[1].text.strip()"
   ]
  },
  {
   "cell_type": "code",
   "execution_count": 172,
   "metadata": {},
   "outputs": [
    {
     "data": {
      "text/plain": [
       "'2000 /month +  Incentives'"
      ]
     },
     "execution_count": 172,
     "metadata": {},
     "output_type": "execute_result"
    }
   ],
   "source": [
    "other_details[2].text.strip()"
   ]
  },
  {
   "cell_type": "code",
   "execution_count": 173,
   "metadata": {},
   "outputs": [
    {
     "data": {
      "text/plain": [
       "\"21 Jul' 22\""
      ]
     },
     "execution_count": 173,
     "metadata": {},
     "output_type": "execute_result"
    }
   ],
   "source": [
    "other_details[3].text.strip() # apply by"
   ]
  },
  {
   "cell_type": "code",
   "execution_count": 174,
   "metadata": {},
   "outputs": [
    {
     "data": {
      "text/plain": [
       "'132 applicants'"
      ]
     },
     "execution_count": 174,
     "metadata": {},
     "output_type": "execute_result"
    }
   ],
   "source": [
    "sub_soup.find(class_ = 'applications_message').text.strip()"
   ]
  },
  {
   "cell_type": "code",
   "execution_count": 163,
   "metadata": {},
   "outputs": [],
   "source": [
    "skills_raw = sub_soup.find(class_ = 'heading_5_5',string = 'Skill(s) required')"
   ]
  },
  {
   "cell_type": "code",
   "execution_count": 164,
   "metadata": {},
   "outputs": [
    {
     "ename": "AttributeError",
     "evalue": "'NoneType' object has no attribute 'findNext'",
     "output_type": "error",
     "traceback": [
      "\u001b[1;31m---------------------------------------------------------------------------\u001b[0m",
      "\u001b[1;31mAttributeError\u001b[0m                            Traceback (most recent call last)",
      "\u001b[1;32mc:\\Workspace\\Internshala_project_v2\\notebooks\\experiment.ipynb Cell 23\u001b[0m in \u001b[0;36m<cell line: 1>\u001b[1;34m()\u001b[0m\n\u001b[1;32m----> <a href='vscode-notebook-cell:/c%3A/Workspace/Internshala_project_v2/notebooks/experiment.ipynb#ch0000022?line=0'>1</a>\u001b[0m skills_raw \u001b[39m=\u001b[39m skills_raw\u001b[39m.\u001b[39;49mfindNext(class_ \u001b[39m=\u001b[39m \u001b[39m'\u001b[39m\u001b[39mround_tabs_container\u001b[39m\u001b[39m'\u001b[39m)\n",
      "\u001b[1;31mAttributeError\u001b[0m: 'NoneType' object has no attribute 'findNext'"
     ]
    }
   ],
   "source": [
    "skills_raw = skills_raw.findNext(class_ = 'round_tabs_container')"
   ]
  },
  {
   "cell_type": "code",
   "execution_count": 58,
   "metadata": {},
   "outputs": [
    {
     "data": {
      "text/plain": [
       "[<span class=\"round_tabs\">Financial literacy</span>,\n",
       " <span class=\"round_tabs\">Labour laws</span>,\n",
       " <span class=\"round_tabs\">MS-Excel</span>,\n",
       " <span class=\"round_tabs\">MS-PowerPoint</span>]"
      ]
     },
     "execution_count": 58,
     "metadata": {},
     "output_type": "execute_result"
    }
   ],
   "source": [
    "skills_raw.find_all(class_ = 'round_tabs')"
   ]
  },
  {
   "cell_type": "code",
   "execution_count": 141,
   "metadata": {},
   "outputs": [
    {
     "data": {
      "text/plain": [
       "['Financial literacy', 'Labour laws', 'MS-Excel', 'MS-PowerPoint']"
      ]
     },
     "execution_count": 141,
     "metadata": {},
     "output_type": "execute_result"
    }
   ],
   "source": [
    "[i.text.strip() for i in skills_raw.find_all(class_ = 'round_tabs')]"
   ]
  },
  {
   "cell_type": "code",
   "execution_count": 61,
   "metadata": {},
   "outputs": [
    {
     "data": {
      "text/plain": [
       "['Certificate', 'Letter of recommendation', 'Job offer']"
      ]
     },
     "execution_count": 61,
     "metadata": {},
     "output_type": "execute_result"
    }
   ],
   "source": [
    "perks_raw = sub_soup.find(class_ = 'heading_5_5',string = 'Perks')\n",
    "perks_raw = perks_raw.findNext(class_ = 'round_tabs_container')\n",
    "[i.text.strip() for i in perks_raw.find_all(class_ = 'round_tabs')]"
   ]
  },
  {
   "cell_type": "code",
   "execution_count": 63,
   "metadata": {},
   "outputs": [
    {
     "data": {
      "text/plain": [
       "'4'"
      ]
     },
     "execution_count": 63,
     "metadata": {},
     "output_type": "execute_result"
    }
   ],
   "source": [
    "sub_soup.find_all(class_='text-container')[-1].text.strip()"
   ]
  },
  {
   "cell_type": "code",
   "execution_count": 64,
   "metadata": {},
   "outputs": [
    {
     "data": {
      "text/plain": [
       "'https://internshala.com/internships/work-from-home-data-science,machine-learning-internships/'"
      ]
     },
     "execution_count": 64,
     "metadata": {},
     "output_type": "execute_result"
    }
   ],
   "source": [
    "url"
   ]
  },
  {
   "cell_type": "code",
   "execution_count": 86,
   "metadata": {},
   "outputs": [],
   "source": [
    "def transform_categories(category_list):\n",
    "    final_params = []\n",
    "    for category in category_list:\n",
    "        category = category.strip().lower()\n",
    "        category = category.replace(' ','-')\n",
    "        final_params.append(category)\n",
    "    final_params = ','.join(final_params)\n",
    "    final_params+='-internship'\n",
    "    return final_params"
   ]
  },
  {
   "cell_type": "code",
   "execution_count": 87,
   "metadata": {},
   "outputs": [
    {
     "data": {
      "text/plain": [
       "'data-science,artificial-intelligence-(ai)-internship'"
      ]
     },
     "execution_count": 87,
     "metadata": {},
     "output_type": "execute_result"
    }
   ],
   "source": [
    "transform_categories(['Data Science', 'Artificial Intelligence (AI)'])\n",
    "# "
   ]
  },
  {
   "cell_type": "code",
   "execution_count": 75,
   "metadata": {},
   "outputs": [
    {
     "data": {
      "text/plain": [
       "['Data Science', ' Machine Learning']"
      ]
     },
     "execution_count": 75,
     "metadata": {},
     "output_type": "execute_result"
    }
   ],
   "source": [
    "list(map(str,input(\"Enter different categories separated by commas* (Required)\\n\").split(',')))"
   ]
  },
  {
   "cell_type": "code",
   "execution_count": 96,
   "metadata": {},
   "outputs": [],
   "source": [
    "def transform_locations(location_list):\n",
    "    final_params = []\n",
    "    for location in location_list:\n",
    "        location = location.strip().lower()\n",
    "        location = location.replace(' ','-')\n",
    "        final_params.append(location)\n",
    "    final_params = ','.join(final_params)\n",
    "    final_params ='-in-'+final_params\n",
    "\n",
    "    return final_params"
   ]
  },
  {
   "cell_type": "code",
   "execution_count": 97,
   "metadata": {},
   "outputs": [
    {
     "data": {
      "text/plain": [
       "'-in-delhi,mumbai'"
      ]
     },
     "execution_count": 97,
     "metadata": {},
     "output_type": "execute_result"
    }
   ],
   "source": [
    "transform_locations([\"Delhi\", \"Mumbai\"])"
   ]
  },
  {
   "cell_type": "code",
   "execution_count": 98,
   "metadata": {},
   "outputs": [],
   "source": [
    "base_url = \"https://internshala.com/internships/\""
   ]
  },
  {
   "cell_type": "code",
   "execution_count": 142,
   "metadata": {},
   "outputs": [],
   "source": [
    "input = {\n",
    "    \"category\": [\"Machine Learning\"],\n",
    "    \"wfh\": \"yes\",\n",
    "    \"location\": []\n",
    "}"
   ]
  },
  {
   "cell_type": "code",
   "execution_count": 143,
   "metadata": {},
   "outputs": [],
   "source": [
    "import pandas as pd\n",
    "df = pd.DataFrame()"
   ]
  },
  {
   "cell_type": "code",
   "execution_count": 178,
   "metadata": {},
   "outputs": [],
   "source": [
    "df = pd.concat([df, pd.DataFrame([input])], ignore_index=True)"
   ]
  },
  {
   "cell_type": "code",
   "execution_count": 179,
   "metadata": {},
   "outputs": [
    {
     "data": {
      "text/html": [
       "<div>\n",
       "<style scoped>\n",
       "    .dataframe tbody tr th:only-of-type {\n",
       "        vertical-align: middle;\n",
       "    }\n",
       "\n",
       "    .dataframe tbody tr th {\n",
       "        vertical-align: top;\n",
       "    }\n",
       "\n",
       "    .dataframe thead th {\n",
       "        text-align: right;\n",
       "    }\n",
       "</style>\n",
       "<table border=\"1\" class=\"dataframe\">\n",
       "  <thead>\n",
       "    <tr style=\"text-align: right;\">\n",
       "      <th></th>\n",
       "      <th>category</th>\n",
       "      <th>wfh</th>\n",
       "      <th>location</th>\n",
       "    </tr>\n",
       "  </thead>\n",
       "  <tbody>\n",
       "    <tr>\n",
       "      <th>0</th>\n",
       "      <td>[Data Science, Machine Learning]</td>\n",
       "      <td>yes</td>\n",
       "      <td>[Bangalore, Delhi]</td>\n",
       "    </tr>\n",
       "    <tr>\n",
       "      <th>1</th>\n",
       "      <td>[Data Science, Machine Learning]</td>\n",
       "      <td>yes</td>\n",
       "      <td>[Bangalore, Delhi]</td>\n",
       "    </tr>\n",
       "  </tbody>\n",
       "</table>\n",
       "</div>"
      ],
      "text/plain": [
       "                           category  wfh            location\n",
       "0  [Data Science, Machine Learning]  yes  [Bangalore, Delhi]\n",
       "1  [Data Science, Machine Learning]  yes  [Bangalore, Delhi]"
      ]
     },
     "execution_count": 179,
     "metadata": {},
     "output_type": "execute_result"
    }
   ],
   "source": [
    "df"
   ]
  },
  {
   "cell_type": "code",
   "execution_count": 12,
   "metadata": {},
   "outputs": [],
   "source": [
    "import os\n",
    "import sys\n",
    "sys.path.insert(0, os.path.abspath(os.path.join(os.path.dirname(\"notebooks\"), '..')))\n",
    "from src.web_scraper.scraper_functions import format_categories, format_locations"
   ]
  },
  {
   "cell_type": "code",
   "execution_count": 27,
   "metadata": {},
   "outputs": [
    {
     "name": "stderr",
     "output_type": "stream",
     "text": [
      "100%|██████████| 13/13 [00:08<00:00,  1.60it/s]\n"
     ]
    }
   ],
   "source": [
    "# from scraper_functions import format_categories, format_locations\n",
    "import requests\n",
    "from bs4 import BeautifulSoup\n",
    "import pandas as pd\n",
    "from tqdm import tqdm\n",
    "\n",
    "class TooManyPages(Exception):\n",
    "    def __init__(self, message=\"Please narrow search with filters, too many pages!\"):\n",
    "        self.message = message\n",
    "        super().__init__(self.message)\n",
    "\n",
    "\n",
    "def scraper(args_dict):\n",
    "\n",
    "    base_url = \"https://internshala.com/internships/\"\n",
    "    cat = args_dict[\"category\"]\n",
    "    wfh = args_dict[\"wfh\"]\n",
    "    loc = args_dict[\"location\"]\n",
    "\n",
    "    if wfh == \"yes\":\n",
    "        base_url += \"work-from-home-\"\n",
    "        wfh_status = True\n",
    "        base_url += format_categories(cat, wfh_status)\n",
    "    elif wfh == \"no\":\n",
    "        wfh_status = False\n",
    "        base_url += format_categories(cat, wfh_status)\n",
    "\n",
    "    if len(loc) > 0:\n",
    "        base_url += format_locations(loc)\n",
    "\n",
    "    req = requests.get(base_url)\n",
    "    soup = BeautifulSoup(req.content, \"html.parser\")\n",
    "    total_pages = int(soup.find(id='total_pages').text.strip())\n",
    "\n",
    "    if total_pages > 3:\n",
    "        raise TooManyPages\n",
    "    \n",
    "    else:\n",
    "\n",
    "        main_df = pd.DataFrame()\n",
    "\n",
    "        for page in range(total_pages):\n",
    "            pg_url = base_url\n",
    "            pg_url += f\"/page-{page+1}/\"\n",
    "            # print(pg_url)\n",
    "            req_pg = requests.get(pg_url)\n",
    "            soup = BeautifulSoup(req_pg.content, \"html.parser\")\n",
    "            internships = soup.find_all(class_ = 'heading_4_5 profile')\n",
    "            for internship in tqdm(internships):\n",
    "                sub_info = {}\n",
    "                sub_url = \"https://internshala.com\"\n",
    "                sub_url += internship.find('a', href=True)[\"href\"]\n",
    "                req_sub_pg = requests.get(sub_url)\n",
    "                sub_soup = BeautifulSoup(req_sub_pg.content, \"html.parser\")\n",
    "                sub_info[\"title\"] = sub_soup.find(class_ = 'profile_on_detail_page').text.strip()\n",
    "                sub_info[\"company\"] = sub_soup.find(class_ = 'heading_6 company_name').find('a').text.strip()\n",
    "                sub_info[\"location\"] = [i.text.strip() for i in sub_soup.find_all(class_ = 'location_link')]\n",
    "                info = sub_soup.find(class_ = 'internship_other_details_container')\n",
    "                other_details = info.find_all(class_ = 'item_body')\n",
    "                sub_info[\"duration\"] = other_details[1].text.strip()\n",
    "                sub_info[\"stipend\"] = other_details[2].text.strip()\n",
    "                sub_info[\"apply_by\"] = other_details[3].text.strip()\n",
    "                sub_info[\"applicants\"] = sub_soup.find(class_ = 'applications_message').text.strip()\n",
    "                skills_raw = sub_soup.find(class_ = 'heading_5_5',string = 'Skill(s) required')\n",
    "                try:\n",
    "                    skills_raw = skills_raw.findNext(class_ = 'round_tabs_container')\n",
    "                    skills_raw.find_all(class_ = 'round_tabs')\n",
    "                    sub_info[\"skills\"] = [i.text.strip() for i in skills_raw.find_all(class_ = 'round_tabs')]\n",
    "                except(AttributeError):\n",
    "                    sub_info[\"skills\"] = []\n",
    "                try:\n",
    "                    perks_raw = sub_soup.find(class_ = 'heading_5_5',string = 'Perks')\n",
    "                    perks_raw = perks_raw.findNext(class_ = 'round_tabs_container')\n",
    "                    sub_info[\"perks\"] = [i.text.strip() for i in perks_raw.find_all(class_ = 'round_tabs')]\n",
    "                except(AttributeError):\n",
    "                    sub_info[\"perks\"] = []\n",
    "                sub_info[\"openings\"] = sub_soup.find_all(class_='text-container')[-1].text.strip()\n",
    "                sub_info[\"url\"] = sub_url\n",
    "                sub_df = pd.DataFrame([sub_info])\n",
    "                main_df = pd.concat([main_df, sub_df], ignore_index=True)\n",
    "\n",
    "        return main_df.to_csv(\"raw_scraped.csv\", index=False)\n",
    "\n",
    "scraper({\n",
    "    \"category\": [\"Machine Learning\"],\n",
    "    \"wfh\": \"yes\",\n",
    "    \"location\": []\n",
    "})"
   ]
  },
  {
   "cell_type": "code",
   "execution_count": 17,
   "metadata": {},
   "outputs": [
    {
     "name": "stderr",
     "output_type": "stream",
     "text": [
      "100%|██████████| 40/40 [00:19<00:00,  2.09it/s]\n",
      "100%|██████████| 2/2 [00:00<00:00,  2.15it/s]\n"
     ]
    }
   ],
   "source": [
    "args_dict = {\n",
    "    \"category\": [\"data science, machine learning\"],\n",
    "    \"wfh\": \"yes\",\n",
    "    \"location\": []\n",
    "}\n",
    "scraper(args_dict)"
   ]
  },
  {
   "cell_type": "code",
   "execution_count": 26,
   "metadata": {},
   "outputs": [
    {
     "data": {
      "text/html": [
       "<div>\n",
       "<style scoped>\n",
       "    .dataframe tbody tr th:only-of-type {\n",
       "        vertical-align: middle;\n",
       "    }\n",
       "\n",
       "    .dataframe tbody tr th {\n",
       "        vertical-align: top;\n",
       "    }\n",
       "\n",
       "    .dataframe thead th {\n",
       "        text-align: right;\n",
       "    }\n",
       "</style>\n",
       "<table border=\"1\" class=\"dataframe\">\n",
       "  <thead>\n",
       "    <tr style=\"text-align: right;\">\n",
       "      <th></th>\n",
       "      <th>title</th>\n",
       "      <th>company</th>\n",
       "      <th>location</th>\n",
       "      <th>duration</th>\n",
       "      <th>stipend</th>\n",
       "      <th>apply_by</th>\n",
       "      <th>applicants</th>\n",
       "      <th>skills</th>\n",
       "      <th>perks</th>\n",
       "      <th>openings</th>\n",
       "      <th>url</th>\n",
       "    </tr>\n",
       "  </thead>\n",
       "  <tbody>\n",
       "    <tr>\n",
       "      <th>0</th>\n",
       "      <td>Teaching (Data Science)</td>\n",
       "      <td>Ekeeda Private Limited</td>\n",
       "      <td>['Work From Home']</td>\n",
       "      <td>3 Months</td>\n",
       "      <td>10000-12000 /month</td>\n",
       "      <td>26 Jul' 22</td>\n",
       "      <td>54 applicants</td>\n",
       "      <td>[]</td>\n",
       "      <td>['Certificate', 'Flexible work hours']</td>\n",
       "      <td>10</td>\n",
       "      <td>https://internshala.com/internship/detail/teac...</td>\n",
       "    </tr>\n",
       "    <tr>\n",
       "      <th>1</th>\n",
       "      <td>Data Analytics</td>\n",
       "      <td>9 Realms Productions</td>\n",
       "      <td>['Work From Home']</td>\n",
       "      <td>2 Months</td>\n",
       "      <td>6500 /month</td>\n",
       "      <td>26 Jul' 22</td>\n",
       "      <td>60 applicants</td>\n",
       "      <td>['Data Analytics', 'Data Science', 'MS-Excel']</td>\n",
       "      <td>['Certificate', 'Letter of recommendation', 'F...</td>\n",
       "      <td>3</td>\n",
       "      <td>https://internshala.com/internship/detail/data...</td>\n",
       "    </tr>\n",
       "    <tr>\n",
       "      <th>2</th>\n",
       "      <td>Teaching (Basics of Python &amp; Machine Learning)</td>\n",
       "      <td>SURE Trust</td>\n",
       "      <td>['Work From Home']</td>\n",
       "      <td>4 Months</td>\n",
       "      <td>Unpaid</td>\n",
       "      <td>25 Jul' 22</td>\n",
       "      <td>107 applicants</td>\n",
       "      <td>['Machine Learning', 'Python']</td>\n",
       "      <td>['Certificate', 'Letter of recommendation', 'F...</td>\n",
       "      <td>4</td>\n",
       "      <td>https://internshala.com/internship/detail/teac...</td>\n",
       "    </tr>\n",
       "    <tr>\n",
       "      <th>3</th>\n",
       "      <td>Market Research Analysis</td>\n",
       "      <td>Strategy Here</td>\n",
       "      <td>['Work From Home']</td>\n",
       "      <td>6 Months</td>\n",
       "      <td>4000 /month</td>\n",
       "      <td>26 Jul' 22</td>\n",
       "      <td>44 applicants</td>\n",
       "      <td>['Content Marketing', 'Market Research', 'Sale...</td>\n",
       "      <td>['Certificate', 'Flexible work hours', '5 days...</td>\n",
       "      <td>2</td>\n",
       "      <td>https://internshala.com/internship/detail/mark...</td>\n",
       "    </tr>\n",
       "    <tr>\n",
       "      <th>4</th>\n",
       "      <td>Course Development</td>\n",
       "      <td>Childo Education Research And Development Foun...</td>\n",
       "      <td>['Work From Home']</td>\n",
       "      <td>1 Month</td>\n",
       "      <td>Unpaid</td>\n",
       "      <td>23 Jul' 22</td>\n",
       "      <td>266 applicants</td>\n",
       "      <td>[]</td>\n",
       "      <td>['Certificate', 'Letter of recommendation', 'F...</td>\n",
       "      <td>5</td>\n",
       "      <td>https://internshala.com/internship/detail/cour...</td>\n",
       "    </tr>\n",
       "    <tr>\n",
       "      <th>5</th>\n",
       "      <td>Curriculum Development (AI/ML)</td>\n",
       "      <td>Sustainable Living Lab (SL2)</td>\n",
       "      <td>['Work From Home']</td>\n",
       "      <td>3 Months</td>\n",
       "      <td>15000-20000 /month</td>\n",
       "      <td>22 Jul' 22</td>\n",
       "      <td>624 applicants</td>\n",
       "      <td>['Artifical Intelligence', 'Data Science', 'Ma...</td>\n",
       "      <td>['Certificate', 'Letter of recommendation', 'F...</td>\n",
       "      <td>3</td>\n",
       "      <td>https://internshala.com/internship/detail/curr...</td>\n",
       "    </tr>\n",
       "    <tr>\n",
       "      <th>6</th>\n",
       "      <td>Data Science</td>\n",
       "      <td>ML Concepts</td>\n",
       "      <td>['Work From Home']</td>\n",
       "      <td>6 Months</td>\n",
       "      <td>1000 /month +  Incentives</td>\n",
       "      <td>22 Jul' 22</td>\n",
       "      <td>116 applicants</td>\n",
       "      <td>['Artifical Intelligence', 'Data Analytics', '...</td>\n",
       "      <td>['Certificate', 'Letter of recommendation', 'F...</td>\n",
       "      <td>3</td>\n",
       "      <td>https://internshala.com/internship/detail/data...</td>\n",
       "    </tr>\n",
       "    <tr>\n",
       "      <th>7</th>\n",
       "      <td>Machine Learning</td>\n",
       "      <td>BsHappy Technologies</td>\n",
       "      <td>['Work From Home']</td>\n",
       "      <td>6 Months</td>\n",
       "      <td>3000 /month</td>\n",
       "      <td>21 Jul' 22</td>\n",
       "      <td>409 applicants</td>\n",
       "      <td>['Artifical Intelligence', 'Data Analytics', '...</td>\n",
       "      <td>['Certificate', 'Letter of recommendation', 'F...</td>\n",
       "      <td>8</td>\n",
       "      <td>https://internshala.com/internship/detail/mach...</td>\n",
       "    </tr>\n",
       "    <tr>\n",
       "      <th>8</th>\n",
       "      <td>Data Science</td>\n",
       "      <td>MissionEd</td>\n",
       "      <td>['Work From Home']</td>\n",
       "      <td>2 Months</td>\n",
       "      <td>1000-4000 /month</td>\n",
       "      <td>21 Jul' 22</td>\n",
       "      <td>375 applicants</td>\n",
       "      <td>['Deep Learning', 'Machine Learning', 'Python']</td>\n",
       "      <td>['Certificate', 'Letter of recommendation', 'F...</td>\n",
       "      <td>15</td>\n",
       "      <td>https://internshala.com/internship/detail/data...</td>\n",
       "    </tr>\n",
       "    <tr>\n",
       "      <th>9</th>\n",
       "      <td>Business Analytics</td>\n",
       "      <td>Urbano InfoTech Private Limited</td>\n",
       "      <td>['Work From Home']</td>\n",
       "      <td>6 Months</td>\n",
       "      <td>5000 /month</td>\n",
       "      <td>21 Jul' 22</td>\n",
       "      <td>309 applicants</td>\n",
       "      <td>['Figma', 'MS-Excel', 'Software Testing']</td>\n",
       "      <td>['Certificate', 'Letter of recommendation', 'J...</td>\n",
       "      <td>2</td>\n",
       "      <td>https://internshala.com/internship/detail/busi...</td>\n",
       "    </tr>\n",
       "    <tr>\n",
       "      <th>10</th>\n",
       "      <td>Data Science</td>\n",
       "      <td>Pitney Bowes Software India Private Limited</td>\n",
       "      <td>['Work From Home']</td>\n",
       "      <td>6 Months</td>\n",
       "      <td>SGD 166 /month</td>\n",
       "      <td>20 Jul' 22</td>\n",
       "      <td>204 applicants</td>\n",
       "      <td>['Data Analytics', 'Machine Learning', 'MS-Exc...</td>\n",
       "      <td>['Certificate', '5 days a week']</td>\n",
       "      <td>1</td>\n",
       "      <td>https://internshala.com/internship/detail/data...</td>\n",
       "    </tr>\n",
       "    <tr>\n",
       "      <th>11</th>\n",
       "      <td>Front End Development</td>\n",
       "      <td>TrueFoundry</td>\n",
       "      <td>['Work From Home']</td>\n",
       "      <td>3 Months</td>\n",
       "      <td>30000-40000 /month</td>\n",
       "      <td>20 Jul' 22</td>\n",
       "      <td>358 applicants</td>\n",
       "      <td>['CSS', 'HTML', 'JavaScript', 'ReactJS', 'Vue ...</td>\n",
       "      <td>['Certificate', 'Letter of recommendation', 'F...</td>\n",
       "      <td>3</td>\n",
       "      <td>https://internshala.com/internship/detail/fron...</td>\n",
       "    </tr>\n",
       "    <tr>\n",
       "      <th>12</th>\n",
       "      <td>Data Analytics</td>\n",
       "      <td>Resolute AI Software</td>\n",
       "      <td>['Work From Home']</td>\n",
       "      <td>3 Months</td>\n",
       "      <td>8000-10000 /month</td>\n",
       "      <td>21 Jul' 22</td>\n",
       "      <td>426 applicants</td>\n",
       "      <td>['Data Analytics', 'Data Science', 'MS-Excel',...</td>\n",
       "      <td>['Certificate', 'Flexible work hours']</td>\n",
       "      <td>1</td>\n",
       "      <td>https://internshala.com/internship/detail/data...</td>\n",
       "    </tr>\n",
       "    <tr>\n",
       "      <th>13</th>\n",
       "      <td>Data Science</td>\n",
       "      <td>SkillBit</td>\n",
       "      <td>['Work From Home']</td>\n",
       "      <td>1 Month</td>\n",
       "      <td>5000 /month</td>\n",
       "      <td>20 Jul' 22</td>\n",
       "      <td>791 applicants</td>\n",
       "      <td>['Machine Learning', 'Python']</td>\n",
       "      <td>['Certificate', 'Letter of recommendation', 'F...</td>\n",
       "      <td>3</td>\n",
       "      <td>https://internshala.com/internship/detail/data...</td>\n",
       "    </tr>\n",
       "    <tr>\n",
       "      <th>14</th>\n",
       "      <td>E-Commerce Analysis</td>\n",
       "      <td>Nuvoretail</td>\n",
       "      <td>['Work From Home']</td>\n",
       "      <td>3 Months</td>\n",
       "      <td>15000 /month</td>\n",
       "      <td>20 Jul' 22</td>\n",
       "      <td>460 applicants</td>\n",
       "      <td>['English Proficiency (Spoken)', 'English Prof...</td>\n",
       "      <td>[]</td>\n",
       "      <td>10</td>\n",
       "      <td>https://internshala.com/internship/detail/e-co...</td>\n",
       "    </tr>\n",
       "    <tr>\n",
       "      <th>15</th>\n",
       "      <td>Software (Business Analyst)</td>\n",
       "      <td>RaftLabs</td>\n",
       "      <td>['Work From Home']</td>\n",
       "      <td>6 Months</td>\n",
       "      <td>7000-10000 /month</td>\n",
       "      <td>19 Jul' 22</td>\n",
       "      <td>107 applicants</td>\n",
       "      <td>['Client Relationship', 'English Proficiency (...</td>\n",
       "      <td>['Certificate', 'Letter of recommendation', '5...</td>\n",
       "      <td>2</td>\n",
       "      <td>https://internshala.com/internship/detail/soft...</td>\n",
       "    </tr>\n",
       "    <tr>\n",
       "      <th>16</th>\n",
       "      <td>Data Science (Content Creation)</td>\n",
       "      <td>Leaders And Dreamers Private Limited</td>\n",
       "      <td>['Work From Home']</td>\n",
       "      <td>3 Months</td>\n",
       "      <td>6000 /month</td>\n",
       "      <td>19 Jul' 22</td>\n",
       "      <td>196 applicants</td>\n",
       "      <td>['Computer Vision', 'Data Science', 'Machine L...</td>\n",
       "      <td>['Certificate', 'Letter of recommendation', 'F...</td>\n",
       "      <td>3</td>\n",
       "      <td>https://internshala.com/internship/detail/data...</td>\n",
       "    </tr>\n",
       "    <tr>\n",
       "      <th>17</th>\n",
       "      <td>Business Analysis</td>\n",
       "      <td>Growth Expert</td>\n",
       "      <td>['Work From Home']</td>\n",
       "      <td>3 Months</td>\n",
       "      <td>10000-15000 /month</td>\n",
       "      <td>19 Jul' 22</td>\n",
       "      <td>451 applicants</td>\n",
       "      <td>['Accounting', 'Business Analysis', 'MS-Excel'...</td>\n",
       "      <td>['Certificate', 'Letter of recommendation', 'F...</td>\n",
       "      <td>2</td>\n",
       "      <td>https://internshala.com/internship/detail/busi...</td>\n",
       "    </tr>\n",
       "    <tr>\n",
       "      <th>18</th>\n",
       "      <td>Data Science Web Scraping</td>\n",
       "      <td>Datanstats</td>\n",
       "      <td>['Work From Home']</td>\n",
       "      <td>3 Months</td>\n",
       "      <td>1500 /month</td>\n",
       "      <td>19 Jul' 22</td>\n",
       "      <td>378 applicants</td>\n",
       "      <td>['Python', 'SQL']</td>\n",
       "      <td>['Certificate', 'Letter of recommendation', '5...</td>\n",
       "      <td>5</td>\n",
       "      <td>https://internshala.com/internship/detail/data...</td>\n",
       "    </tr>\n",
       "    <tr>\n",
       "      <th>19</th>\n",
       "      <td>Machine Learning</td>\n",
       "      <td>Mayand Infotech Private Limited</td>\n",
       "      <td>['Work From Home']</td>\n",
       "      <td>3 Months</td>\n",
       "      <td>3000-4000 /month</td>\n",
       "      <td>18 Jul' 22</td>\n",
       "      <td>451 applicants</td>\n",
       "      <td>['Artifical Intelligence', 'Data Analytics', '...</td>\n",
       "      <td>['Certificate']</td>\n",
       "      <td>2</td>\n",
       "      <td>https://internshala.com/internship/detail/mach...</td>\n",
       "    </tr>\n",
       "    <tr>\n",
       "      <th>20</th>\n",
       "      <td>Validation (AI/ML/DL)</td>\n",
       "      <td>Wobot Intelligence Private Limited</td>\n",
       "      <td>['Work From Home']</td>\n",
       "      <td>6 Months</td>\n",
       "      <td>7000 /month</td>\n",
       "      <td>18 Jul' 22</td>\n",
       "      <td>291 applicants</td>\n",
       "      <td>['Computer Vision', 'Deep Learning', 'Linux', ...</td>\n",
       "      <td>['Certificate', '5 days a week', 'Job offer']</td>\n",
       "      <td>1</td>\n",
       "      <td>https://internshala.com/internship/detail/vali...</td>\n",
       "    </tr>\n",
       "    <tr>\n",
       "      <th>21</th>\n",
       "      <td>Data Annotation</td>\n",
       "      <td>SAAZ Imaging System</td>\n",
       "      <td>['Work From Home']</td>\n",
       "      <td>6 Months</td>\n",
       "      <td>10000 /month</td>\n",
       "      <td>19 Jul' 22</td>\n",
       "      <td>454 applicants</td>\n",
       "      <td>['Image Processing', 'Machine Learning']</td>\n",
       "      <td>['Certificate', 'Flexible work hours']</td>\n",
       "      <td>6</td>\n",
       "      <td>https://internshala.com/internship/detail/data...</td>\n",
       "    </tr>\n",
       "    <tr>\n",
       "      <th>22</th>\n",
       "      <td>Machine Learning (Computer Vision)</td>\n",
       "      <td>Alphabt</td>\n",
       "      <td>['Work From Home']</td>\n",
       "      <td>5 Months</td>\n",
       "      <td>15000-20001 /month</td>\n",
       "      <td>18 Jul' 22</td>\n",
       "      <td>596 applicants</td>\n",
       "      <td>['Computer Vision', 'Machine Learning', 'Python']</td>\n",
       "      <td>[]</td>\n",
       "      <td>2</td>\n",
       "      <td>https://internshala.com/internship/detail/mach...</td>\n",
       "    </tr>\n",
       "    <tr>\n",
       "      <th>23</th>\n",
       "      <td>Content Writing (Data Science)</td>\n",
       "      <td>Let The Data Confess</td>\n",
       "      <td>['Work From Home']</td>\n",
       "      <td>6 Months</td>\n",
       "      <td>3000 /month</td>\n",
       "      <td>18 Jul' 22</td>\n",
       "      <td>59 applicants</td>\n",
       "      <td>['Artifical Intelligence', 'Computer Vision', ...</td>\n",
       "      <td>['Certificate', 'Flexible work hours', '5 days...</td>\n",
       "      <td>1</td>\n",
       "      <td>https://internshala.com/internship/detail/cont...</td>\n",
       "    </tr>\n",
       "    <tr>\n",
       "      <th>24</th>\n",
       "      <td>Data Science</td>\n",
       "      <td>Blackcoffer</td>\n",
       "      <td>['Work From Home']</td>\n",
       "      <td>6 Months</td>\n",
       "      <td>6000-12000 /month</td>\n",
       "      <td>16 Jul' 22</td>\n",
       "      <td>436 applicants</td>\n",
       "      <td>['Artifical Intelligence', 'Data Analytics', '...</td>\n",
       "      <td>['Certificate', 'Letter of recommendation', 'F...</td>\n",
       "      <td>10</td>\n",
       "      <td>https://internshala.com/internship/detail/data...</td>\n",
       "    </tr>\n",
       "    <tr>\n",
       "      <th>25</th>\n",
       "      <td>Data Science</td>\n",
       "      <td>Prakriti Textiles</td>\n",
       "      <td>['Work From Home']</td>\n",
       "      <td>2 Months</td>\n",
       "      <td>10000 /month</td>\n",
       "      <td>17 Jul' 22</td>\n",
       "      <td>908 applicants</td>\n",
       "      <td>[]</td>\n",
       "      <td>['Certificate', 'Letter of recommendation', 'F...</td>\n",
       "      <td>4</td>\n",
       "      <td>https://internshala.com/internship/detail/data...</td>\n",
       "    </tr>\n",
       "    <tr>\n",
       "      <th>26</th>\n",
       "      <td>Data Processing</td>\n",
       "      <td>Uniprosys</td>\n",
       "      <td>['Work From Home']</td>\n",
       "      <td>3 Months</td>\n",
       "      <td>6000 /month</td>\n",
       "      <td>16 Jul' 22</td>\n",
       "      <td>268 applicants</td>\n",
       "      <td>[]</td>\n",
       "      <td>['Certificate', '5 days a week']</td>\n",
       "      <td>2</td>\n",
       "      <td>https://internshala.com/internship/detail/data...</td>\n",
       "    </tr>\n",
       "    <tr>\n",
       "      <th>27</th>\n",
       "      <td>Business Analytics Consulting</td>\n",
       "      <td>IntelliSQR</td>\n",
       "      <td>['Work From Home']</td>\n",
       "      <td>2 Months</td>\n",
       "      <td>7000-10000 /month</td>\n",
       "      <td>15 Jul' 22</td>\n",
       "      <td>638 applicants</td>\n",
       "      <td>['Data Analytics', 'English Proficiency (Writt...</td>\n",
       "      <td>['Certificate', 'Letter of recommendation', 'F...</td>\n",
       "      <td>2</td>\n",
       "      <td>https://internshala.com/internship/detail/busi...</td>\n",
       "    </tr>\n",
       "    <tr>\n",
       "      <th>28</th>\n",
       "      <td>Data Research (Personal &amp; Business Finance)</td>\n",
       "      <td>Vertigo Studio SA</td>\n",
       "      <td>['Work From Home']</td>\n",
       "      <td>3 Months</td>\n",
       "      <td>45000-50000 /month</td>\n",
       "      <td>15 Jul' 22</td>\n",
       "      <td>198 applicants</td>\n",
       "      <td>['Content Writing', 'Financial literacy', 'Rep...</td>\n",
       "      <td>['Letter of recommendation', 'Flexible work ho...</td>\n",
       "      <td>1</td>\n",
       "      <td>https://internshala.com/internship/detail/data...</td>\n",
       "    </tr>\n",
       "    <tr>\n",
       "      <th>29</th>\n",
       "      <td>AI Development</td>\n",
       "      <td>DrMachine Solutions Private Limited</td>\n",
       "      <td>['Work From Home']</td>\n",
       "      <td>3 Months</td>\n",
       "      <td>1000 /month</td>\n",
       "      <td>22 Jul' 22</td>\n",
       "      <td>185 applicants</td>\n",
       "      <td>['Algorithms', 'Computer Vision', 'Data Scienc...</td>\n",
       "      <td>['Certificate', 'Letter of recommendation', 'F...</td>\n",
       "      <td>3</td>\n",
       "      <td>https://internshala.com/internship/detail/ai-d...</td>\n",
       "    </tr>\n",
       "    <tr>\n",
       "      <th>30</th>\n",
       "      <td>Web Analytics/Intelligence</td>\n",
       "      <td>TunicaLabs Media Private Limited</td>\n",
       "      <td>['Work From Home']</td>\n",
       "      <td>6 Months</td>\n",
       "      <td>10000 /month</td>\n",
       "      <td>16 Jul' 22</td>\n",
       "      <td>192 applicants</td>\n",
       "      <td>['Data Analytics', 'Google Analytics']</td>\n",
       "      <td>['Certificate', 'Letter of recommendation', 'F...</td>\n",
       "      <td>1</td>\n",
       "      <td>https://internshala.com/internship/detail/web-...</td>\n",
       "    </tr>\n",
       "    <tr>\n",
       "      <th>31</th>\n",
       "      <td>Data Science &amp; Machine Learning</td>\n",
       "      <td>VPODS.ai</td>\n",
       "      <td>['Work From Home']</td>\n",
       "      <td>6 Months</td>\n",
       "      <td>10000 /month</td>\n",
       "      <td>15 Jul' 22</td>\n",
       "      <td>421 applicants</td>\n",
       "      <td>['Data Analytics', 'Data Science', 'Machine Le...</td>\n",
       "      <td>['Letter of recommendation', 'Job offer']</td>\n",
       "      <td>2</td>\n",
       "      <td>https://internshala.com/internship/detail/data...</td>\n",
       "    </tr>\n",
       "    <tr>\n",
       "      <th>32</th>\n",
       "      <td>Deep Learning Research</td>\n",
       "      <td>Pucho Digital Health Inc.</td>\n",
       "      <td>['Work From Home']</td>\n",
       "      <td>4 Months</td>\n",
       "      <td>10000-15000 /month</td>\n",
       "      <td>15 Jul' 22</td>\n",
       "      <td>302 applicants</td>\n",
       "      <td>['Amazon Web Services (AWS)', 'Computer Vision...</td>\n",
       "      <td>['Certificate', 'Letter of recommendation', 'F...</td>\n",
       "      <td>8</td>\n",
       "      <td>https://internshala.com/internship/detail/deep...</td>\n",
       "    </tr>\n",
       "    <tr>\n",
       "      <th>33</th>\n",
       "      <td>Data Engineering</td>\n",
       "      <td>Techolution</td>\n",
       "      <td>['Work From Home']</td>\n",
       "      <td>6 Months</td>\n",
       "      <td>15000 /month</td>\n",
       "      <td>14 Jul' 22</td>\n",
       "      <td>372 applicants</td>\n",
       "      <td>['Amazon Web Server (AWS)', 'Data Analytics', ...</td>\n",
       "      <td>['5 days a week']</td>\n",
       "      <td>10</td>\n",
       "      <td>https://internshala.com/internship/detail/data...</td>\n",
       "    </tr>\n",
       "    <tr>\n",
       "      <th>34</th>\n",
       "      <td>Data Science</td>\n",
       "      <td>FavTutor</td>\n",
       "      <td>['Work From Home']</td>\n",
       "      <td>2 Months</td>\n",
       "      <td>10000-13000 /month</td>\n",
       "      <td>14 Jul' 22</td>\n",
       "      <td>937 applicants</td>\n",
       "      <td>['Data Science', 'Deep Learning', 'Machine Lea...</td>\n",
       "      <td>['Certificate', 'Letter of recommendation']</td>\n",
       "      <td>1</td>\n",
       "      <td>https://internshala.com/internship/detail/data...</td>\n",
       "    </tr>\n",
       "    <tr>\n",
       "      <th>35</th>\n",
       "      <td>Business Analytics</td>\n",
       "      <td>Quadiro Technologies LLP</td>\n",
       "      <td>['Work From Home']</td>\n",
       "      <td>1 Month</td>\n",
       "      <td>1000 /month</td>\n",
       "      <td>14 Jul' 22</td>\n",
       "      <td>452 applicants</td>\n",
       "      <td>[]</td>\n",
       "      <td>['Certificate']</td>\n",
       "      <td>10</td>\n",
       "      <td>https://internshala.com/internship/detail/busi...</td>\n",
       "    </tr>\n",
       "    <tr>\n",
       "      <th>36</th>\n",
       "      <td>MIS Management &amp; Business Analysis</td>\n",
       "      <td>C-Quel Management Services Private Limited</td>\n",
       "      <td>['Work From Home']</td>\n",
       "      <td>6 Months</td>\n",
       "      <td>9000-11000 /month</td>\n",
       "      <td>14 Jul' 22</td>\n",
       "      <td>175 applicants</td>\n",
       "      <td>['Financial literacy', 'Labour laws', 'MS-Exce...</td>\n",
       "      <td>['Certificate', 'Letter of recommendation', 'J...</td>\n",
       "      <td>4</td>\n",
       "      <td>https://internshala.com/internship/detail/mis-...</td>\n",
       "    </tr>\n",
       "    <tr>\n",
       "      <th>37</th>\n",
       "      <td>Data Annotation</td>\n",
       "      <td>KoiReader Technologies</td>\n",
       "      <td>['Work From Home']</td>\n",
       "      <td>3 Months</td>\n",
       "      <td>4000-8000 /month</td>\n",
       "      <td>31 Jul' 22</td>\n",
       "      <td>519 applicants</td>\n",
       "      <td>['Artifical Intelligence', 'Computer Vision', ...</td>\n",
       "      <td>['Certificate', 'Flexible work hours']</td>\n",
       "      <td>8</td>\n",
       "      <td>https://internshala.com/internship/detail/data...</td>\n",
       "    </tr>\n",
       "    <tr>\n",
       "      <th>38</th>\n",
       "      <td>Software Engineer (Data Engineering)</td>\n",
       "      <td>GroundTruth</td>\n",
       "      <td>['Work From Home']</td>\n",
       "      <td>5 Months</td>\n",
       "      <td>35000 /month</td>\n",
       "      <td>28 Jul' 22</td>\n",
       "      <td>946 applicants</td>\n",
       "      <td>['Amazon Web Server (AWS)', 'Data Science', 'P...</td>\n",
       "      <td>['Letter of recommendation', 'Flexible work ho...</td>\n",
       "      <td>2</td>\n",
       "      <td>https://internshala.com/internship/detail/soft...</td>\n",
       "    </tr>\n",
       "    <tr>\n",
       "      <th>39</th>\n",
       "      <td>Analysis</td>\n",
       "      <td>GroundTruth</td>\n",
       "      <td>['Work From Home']</td>\n",
       "      <td>5 Months</td>\n",
       "      <td>35000 /month</td>\n",
       "      <td>28 Jul' 22</td>\n",
       "      <td>1000+ applicants</td>\n",
       "      <td>['Business Analysis', 'Data Analytics', 'Pytho...</td>\n",
       "      <td>['Letter of recommendation', 'Flexible work ho...</td>\n",
       "      <td>2</td>\n",
       "      <td>https://internshala.com/internship/detail/anal...</td>\n",
       "    </tr>\n",
       "    <tr>\n",
       "      <th>40</th>\n",
       "      <td>Data Annotation</td>\n",
       "      <td>Cure And Care Wellness Private Limited</td>\n",
       "      <td>['Work From Home']</td>\n",
       "      <td>6 Months</td>\n",
       "      <td>3000 /month</td>\n",
       "      <td>16 Jul' 22</td>\n",
       "      <td>404 applicants</td>\n",
       "      <td>[]</td>\n",
       "      <td>['Certificate', 'Flexible work hours']</td>\n",
       "      <td>5</td>\n",
       "      <td>https://internshala.com/internship/detail/data...</td>\n",
       "    </tr>\n",
       "    <tr>\n",
       "      <th>41</th>\n",
       "      <td>Artificial Intelligence (AI)/Python Development</td>\n",
       "      <td>Scure-Infosec</td>\n",
       "      <td>['Work From Home']</td>\n",
       "      <td>6 Months</td>\n",
       "      <td>8000-15000 /month</td>\n",
       "      <td>25 Jul' 22</td>\n",
       "      <td>183 applicants</td>\n",
       "      <td>[]</td>\n",
       "      <td>['Certificate', 'Letter of recommendation', 'F...</td>\n",
       "      <td>2</td>\n",
       "      <td>https://internshala.com/internship/detail/arti...</td>\n",
       "    </tr>\n",
       "  </tbody>\n",
       "</table>\n",
       "</div>"
      ],
      "text/plain": [
       "                                              title  \\\n",
       "0                           Teaching (Data Science)   \n",
       "1                                    Data Analytics   \n",
       "2    Teaching (Basics of Python & Machine Learning)   \n",
       "3                          Market Research Analysis   \n",
       "4                                Course Development   \n",
       "5                    Curriculum Development (AI/ML)   \n",
       "6                                      Data Science   \n",
       "7                                  Machine Learning   \n",
       "8                                      Data Science   \n",
       "9                                Business Analytics   \n",
       "10                                     Data Science   \n",
       "11                            Front End Development   \n",
       "12                                   Data Analytics   \n",
       "13                                     Data Science   \n",
       "14                              E-Commerce Analysis   \n",
       "15                      Software (Business Analyst)   \n",
       "16                  Data Science (Content Creation)   \n",
       "17                                Business Analysis   \n",
       "18                        Data Science Web Scraping   \n",
       "19                                 Machine Learning   \n",
       "20                            Validation (AI/ML/DL)   \n",
       "21                                  Data Annotation   \n",
       "22               Machine Learning (Computer Vision)   \n",
       "23                   Content Writing (Data Science)   \n",
       "24                                     Data Science   \n",
       "25                                     Data Science   \n",
       "26                                  Data Processing   \n",
       "27                    Business Analytics Consulting   \n",
       "28      Data Research (Personal & Business Finance)   \n",
       "29                                   AI Development   \n",
       "30                       Web Analytics/Intelligence   \n",
       "31                  Data Science & Machine Learning   \n",
       "32                           Deep Learning Research   \n",
       "33                                 Data Engineering   \n",
       "34                                     Data Science   \n",
       "35                               Business Analytics   \n",
       "36               MIS Management & Business Analysis   \n",
       "37                                  Data Annotation   \n",
       "38             Software Engineer (Data Engineering)   \n",
       "39                                         Analysis   \n",
       "40                                  Data Annotation   \n",
       "41  Artificial Intelligence (AI)/Python Development   \n",
       "\n",
       "                                              company            location  \\\n",
       "0                              Ekeeda Private Limited  ['Work From Home']   \n",
       "1                                9 Realms Productions  ['Work From Home']   \n",
       "2                                          SURE Trust  ['Work From Home']   \n",
       "3                                       Strategy Here  ['Work From Home']   \n",
       "4   Childo Education Research And Development Foun...  ['Work From Home']   \n",
       "5                        Sustainable Living Lab (SL2)  ['Work From Home']   \n",
       "6                                         ML Concepts  ['Work From Home']   \n",
       "7                                BsHappy Technologies  ['Work From Home']   \n",
       "8                                           MissionEd  ['Work From Home']   \n",
       "9                     Urbano InfoTech Private Limited  ['Work From Home']   \n",
       "10        Pitney Bowes Software India Private Limited  ['Work From Home']   \n",
       "11                                        TrueFoundry  ['Work From Home']   \n",
       "12                               Resolute AI Software  ['Work From Home']   \n",
       "13                                           SkillBit  ['Work From Home']   \n",
       "14                                         Nuvoretail  ['Work From Home']   \n",
       "15                                           RaftLabs  ['Work From Home']   \n",
       "16               Leaders And Dreamers Private Limited  ['Work From Home']   \n",
       "17                                      Growth Expert  ['Work From Home']   \n",
       "18                                         Datanstats  ['Work From Home']   \n",
       "19                    Mayand Infotech Private Limited  ['Work From Home']   \n",
       "20                 Wobot Intelligence Private Limited  ['Work From Home']   \n",
       "21                                SAAZ Imaging System  ['Work From Home']   \n",
       "22                                            Alphabt  ['Work From Home']   \n",
       "23                               Let The Data Confess  ['Work From Home']   \n",
       "24                                        Blackcoffer  ['Work From Home']   \n",
       "25                                  Prakriti Textiles  ['Work From Home']   \n",
       "26                                          Uniprosys  ['Work From Home']   \n",
       "27                                         IntelliSQR  ['Work From Home']   \n",
       "28                                  Vertigo Studio SA  ['Work From Home']   \n",
       "29                DrMachine Solutions Private Limited  ['Work From Home']   \n",
       "30                   TunicaLabs Media Private Limited  ['Work From Home']   \n",
       "31                                           VPODS.ai  ['Work From Home']   \n",
       "32                          Pucho Digital Health Inc.  ['Work From Home']   \n",
       "33                                        Techolution  ['Work From Home']   \n",
       "34                                           FavTutor  ['Work From Home']   \n",
       "35                           Quadiro Technologies LLP  ['Work From Home']   \n",
       "36         C-Quel Management Services Private Limited  ['Work From Home']   \n",
       "37                             KoiReader Technologies  ['Work From Home']   \n",
       "38                                        GroundTruth  ['Work From Home']   \n",
       "39                                        GroundTruth  ['Work From Home']   \n",
       "40             Cure And Care Wellness Private Limited  ['Work From Home']   \n",
       "41                                      Scure-Infosec  ['Work From Home']   \n",
       "\n",
       "    duration                    stipend    apply_by        applicants  \\\n",
       "0   3 Months         10000-12000 /month  26 Jul' 22     54 applicants   \n",
       "1   2 Months                6500 /month  26 Jul' 22     60 applicants   \n",
       "2   4 Months                     Unpaid  25 Jul' 22    107 applicants   \n",
       "3   6 Months                4000 /month  26 Jul' 22     44 applicants   \n",
       "4    1 Month                     Unpaid  23 Jul' 22    266 applicants   \n",
       "5   3 Months         15000-20000 /month  22 Jul' 22    624 applicants   \n",
       "6   6 Months  1000 /month +  Incentives  22 Jul' 22    116 applicants   \n",
       "7   6 Months                3000 /month  21 Jul' 22    409 applicants   \n",
       "8   2 Months           1000-4000 /month  21 Jul' 22    375 applicants   \n",
       "9   6 Months                5000 /month  21 Jul' 22    309 applicants   \n",
       "10  6 Months             SGD 166 /month  20 Jul' 22    204 applicants   \n",
       "11  3 Months         30000-40000 /month  20 Jul' 22    358 applicants   \n",
       "12  3 Months          8000-10000 /month  21 Jul' 22    426 applicants   \n",
       "13   1 Month                5000 /month  20 Jul' 22    791 applicants   \n",
       "14  3 Months               15000 /month  20 Jul' 22    460 applicants   \n",
       "15  6 Months          7000-10000 /month  19 Jul' 22    107 applicants   \n",
       "16  3 Months                6000 /month  19 Jul' 22    196 applicants   \n",
       "17  3 Months         10000-15000 /month  19 Jul' 22    451 applicants   \n",
       "18  3 Months                1500 /month  19 Jul' 22    378 applicants   \n",
       "19  3 Months           3000-4000 /month  18 Jul' 22    451 applicants   \n",
       "20  6 Months                7000 /month  18 Jul' 22    291 applicants   \n",
       "21  6 Months               10000 /month  19 Jul' 22    454 applicants   \n",
       "22  5 Months         15000-20001 /month  18 Jul' 22    596 applicants   \n",
       "23  6 Months                3000 /month  18 Jul' 22     59 applicants   \n",
       "24  6 Months          6000-12000 /month  16 Jul' 22    436 applicants   \n",
       "25  2 Months               10000 /month  17 Jul' 22    908 applicants   \n",
       "26  3 Months                6000 /month  16 Jul' 22    268 applicants   \n",
       "27  2 Months          7000-10000 /month  15 Jul' 22    638 applicants   \n",
       "28  3 Months         45000-50000 /month  15 Jul' 22    198 applicants   \n",
       "29  3 Months                1000 /month  22 Jul' 22    185 applicants   \n",
       "30  6 Months               10000 /month  16 Jul' 22    192 applicants   \n",
       "31  6 Months               10000 /month  15 Jul' 22    421 applicants   \n",
       "32  4 Months         10000-15000 /month  15 Jul' 22    302 applicants   \n",
       "33  6 Months               15000 /month  14 Jul' 22    372 applicants   \n",
       "34  2 Months         10000-13000 /month  14 Jul' 22    937 applicants   \n",
       "35   1 Month                1000 /month  14 Jul' 22    452 applicants   \n",
       "36  6 Months          9000-11000 /month  14 Jul' 22    175 applicants   \n",
       "37  3 Months           4000-8000 /month  31 Jul' 22    519 applicants   \n",
       "38  5 Months               35000 /month  28 Jul' 22    946 applicants   \n",
       "39  5 Months               35000 /month  28 Jul' 22  1000+ applicants   \n",
       "40  6 Months                3000 /month  16 Jul' 22    404 applicants   \n",
       "41  6 Months          8000-15000 /month  25 Jul' 22    183 applicants   \n",
       "\n",
       "                                               skills  \\\n",
       "0                                                  []   \n",
       "1      ['Data Analytics', 'Data Science', 'MS-Excel']   \n",
       "2                      ['Machine Learning', 'Python']   \n",
       "3   ['Content Marketing', 'Market Research', 'Sale...   \n",
       "4                                                  []   \n",
       "5   ['Artifical Intelligence', 'Data Science', 'Ma...   \n",
       "6   ['Artifical Intelligence', 'Data Analytics', '...   \n",
       "7   ['Artifical Intelligence', 'Data Analytics', '...   \n",
       "8     ['Deep Learning', 'Machine Learning', 'Python']   \n",
       "9           ['Figma', 'MS-Excel', 'Software Testing']   \n",
       "10  ['Data Analytics', 'Machine Learning', 'MS-Exc...   \n",
       "11  ['CSS', 'HTML', 'JavaScript', 'ReactJS', 'Vue ...   \n",
       "12  ['Data Analytics', 'Data Science', 'MS-Excel',...   \n",
       "13                     ['Machine Learning', 'Python']   \n",
       "14  ['English Proficiency (Spoken)', 'English Prof...   \n",
       "15  ['Client Relationship', 'English Proficiency (...   \n",
       "16  ['Computer Vision', 'Data Science', 'Machine L...   \n",
       "17  ['Accounting', 'Business Analysis', 'MS-Excel'...   \n",
       "18                                  ['Python', 'SQL']   \n",
       "19  ['Artifical Intelligence', 'Data Analytics', '...   \n",
       "20  ['Computer Vision', 'Deep Learning', 'Linux', ...   \n",
       "21           ['Image Processing', 'Machine Learning']   \n",
       "22  ['Computer Vision', 'Machine Learning', 'Python']   \n",
       "23  ['Artifical Intelligence', 'Computer Vision', ...   \n",
       "24  ['Artifical Intelligence', 'Data Analytics', '...   \n",
       "25                                                 []   \n",
       "26                                                 []   \n",
       "27  ['Data Analytics', 'English Proficiency (Writt...   \n",
       "28  ['Content Writing', 'Financial literacy', 'Rep...   \n",
       "29  ['Algorithms', 'Computer Vision', 'Data Scienc...   \n",
       "30             ['Data Analytics', 'Google Analytics']   \n",
       "31  ['Data Analytics', 'Data Science', 'Machine Le...   \n",
       "32  ['Amazon Web Services (AWS)', 'Computer Vision...   \n",
       "33  ['Amazon Web Server (AWS)', 'Data Analytics', ...   \n",
       "34  ['Data Science', 'Deep Learning', 'Machine Lea...   \n",
       "35                                                 []   \n",
       "36  ['Financial literacy', 'Labour laws', 'MS-Exce...   \n",
       "37  ['Artifical Intelligence', 'Computer Vision', ...   \n",
       "38  ['Amazon Web Server (AWS)', 'Data Science', 'P...   \n",
       "39  ['Business Analysis', 'Data Analytics', 'Pytho...   \n",
       "40                                                 []   \n",
       "41                                                 []   \n",
       "\n",
       "                                                perks  openings  \\\n",
       "0              ['Certificate', 'Flexible work hours']        10   \n",
       "1   ['Certificate', 'Letter of recommendation', 'F...         3   \n",
       "2   ['Certificate', 'Letter of recommendation', 'F...         4   \n",
       "3   ['Certificate', 'Flexible work hours', '5 days...         2   \n",
       "4   ['Certificate', 'Letter of recommendation', 'F...         5   \n",
       "5   ['Certificate', 'Letter of recommendation', 'F...         3   \n",
       "6   ['Certificate', 'Letter of recommendation', 'F...         3   \n",
       "7   ['Certificate', 'Letter of recommendation', 'F...         8   \n",
       "8   ['Certificate', 'Letter of recommendation', 'F...        15   \n",
       "9   ['Certificate', 'Letter of recommendation', 'J...         2   \n",
       "10                   ['Certificate', '5 days a week']         1   \n",
       "11  ['Certificate', 'Letter of recommendation', 'F...         3   \n",
       "12             ['Certificate', 'Flexible work hours']         1   \n",
       "13  ['Certificate', 'Letter of recommendation', 'F...         3   \n",
       "14                                                 []        10   \n",
       "15  ['Certificate', 'Letter of recommendation', '5...         2   \n",
       "16  ['Certificate', 'Letter of recommendation', 'F...         3   \n",
       "17  ['Certificate', 'Letter of recommendation', 'F...         2   \n",
       "18  ['Certificate', 'Letter of recommendation', '5...         5   \n",
       "19                                    ['Certificate']         2   \n",
       "20      ['Certificate', '5 days a week', 'Job offer']         1   \n",
       "21             ['Certificate', 'Flexible work hours']         6   \n",
       "22                                                 []         2   \n",
       "23  ['Certificate', 'Flexible work hours', '5 days...         1   \n",
       "24  ['Certificate', 'Letter of recommendation', 'F...        10   \n",
       "25  ['Certificate', 'Letter of recommendation', 'F...         4   \n",
       "26                   ['Certificate', '5 days a week']         2   \n",
       "27  ['Certificate', 'Letter of recommendation', 'F...         2   \n",
       "28  ['Letter of recommendation', 'Flexible work ho...         1   \n",
       "29  ['Certificate', 'Letter of recommendation', 'F...         3   \n",
       "30  ['Certificate', 'Letter of recommendation', 'F...         1   \n",
       "31          ['Letter of recommendation', 'Job offer']         2   \n",
       "32  ['Certificate', 'Letter of recommendation', 'F...         8   \n",
       "33                                  ['5 days a week']        10   \n",
       "34        ['Certificate', 'Letter of recommendation']         1   \n",
       "35                                    ['Certificate']        10   \n",
       "36  ['Certificate', 'Letter of recommendation', 'J...         4   \n",
       "37             ['Certificate', 'Flexible work hours']         8   \n",
       "38  ['Letter of recommendation', 'Flexible work ho...         2   \n",
       "39  ['Letter of recommendation', 'Flexible work ho...         2   \n",
       "40             ['Certificate', 'Flexible work hours']         5   \n",
       "41  ['Certificate', 'Letter of recommendation', 'F...         2   \n",
       "\n",
       "                                                  url  \n",
       "0   https://internshala.com/internship/detail/teac...  \n",
       "1   https://internshala.com/internship/detail/data...  \n",
       "2   https://internshala.com/internship/detail/teac...  \n",
       "3   https://internshala.com/internship/detail/mark...  \n",
       "4   https://internshala.com/internship/detail/cour...  \n",
       "5   https://internshala.com/internship/detail/curr...  \n",
       "6   https://internshala.com/internship/detail/data...  \n",
       "7   https://internshala.com/internship/detail/mach...  \n",
       "8   https://internshala.com/internship/detail/data...  \n",
       "9   https://internshala.com/internship/detail/busi...  \n",
       "10  https://internshala.com/internship/detail/data...  \n",
       "11  https://internshala.com/internship/detail/fron...  \n",
       "12  https://internshala.com/internship/detail/data...  \n",
       "13  https://internshala.com/internship/detail/data...  \n",
       "14  https://internshala.com/internship/detail/e-co...  \n",
       "15  https://internshala.com/internship/detail/soft...  \n",
       "16  https://internshala.com/internship/detail/data...  \n",
       "17  https://internshala.com/internship/detail/busi...  \n",
       "18  https://internshala.com/internship/detail/data...  \n",
       "19  https://internshala.com/internship/detail/mach...  \n",
       "20  https://internshala.com/internship/detail/vali...  \n",
       "21  https://internshala.com/internship/detail/data...  \n",
       "22  https://internshala.com/internship/detail/mach...  \n",
       "23  https://internshala.com/internship/detail/cont...  \n",
       "24  https://internshala.com/internship/detail/data...  \n",
       "25  https://internshala.com/internship/detail/data...  \n",
       "26  https://internshala.com/internship/detail/data...  \n",
       "27  https://internshala.com/internship/detail/busi...  \n",
       "28  https://internshala.com/internship/detail/data...  \n",
       "29  https://internshala.com/internship/detail/ai-d...  \n",
       "30  https://internshala.com/internship/detail/web-...  \n",
       "31  https://internshala.com/internship/detail/data...  \n",
       "32  https://internshala.com/internship/detail/deep...  \n",
       "33  https://internshala.com/internship/detail/data...  \n",
       "34  https://internshala.com/internship/detail/data...  \n",
       "35  https://internshala.com/internship/detail/busi...  \n",
       "36  https://internshala.com/internship/detail/mis-...  \n",
       "37  https://internshala.com/internship/detail/data...  \n",
       "38  https://internshala.com/internship/detail/soft...  \n",
       "39  https://internshala.com/internship/detail/anal...  \n",
       "40  https://internshala.com/internship/detail/data...  \n",
       "41  https://internshala.com/internship/detail/arti...  "
      ]
     },
     "execution_count": 26,
     "metadata": {},
     "output_type": "execute_result"
    }
   ],
   "source": [
    "df = pd.read_csv(\"raw_scraped.csv\")\n",
    "df"
   ]
  },
  {
   "cell_type": "code",
   "execution_count": null,
   "metadata": {},
   "outputs": [],
   "source": []
  }
 ],
 "metadata": {
  "kernelspec": {
   "display_name": "Python 3.8.13 ('ds_env')",
   "language": "python",
   "name": "python3"
  },
  "language_info": {
   "codemirror_mode": {
    "name": "ipython",
    "version": 3
   },
   "file_extension": ".py",
   "mimetype": "text/x-python",
   "name": "python",
   "nbconvert_exporter": "python",
   "pygments_lexer": "ipython3",
   "version": "3.8.13"
  },
  "orig_nbformat": 4,
  "vscode": {
   "interpreter": {
    "hash": "9305a441e3baf81fa49aeca3e631d460143ceef0226d164e3d301dcea8ecc4e5"
   }
  }
 },
 "nbformat": 4,
 "nbformat_minor": 2
}
